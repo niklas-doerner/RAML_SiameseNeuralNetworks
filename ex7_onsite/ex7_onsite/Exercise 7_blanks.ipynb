{
 "cells": [
  {
   "cell_type": "code",
   "execution_count": null,
   "id": "ed6fd441",
   "metadata": {},
   "outputs": [],
   "source": [
    "%load_ext autoreload\n",
    "%autoreload 2"
   ]
  },
  {
   "cell_type": "code",
   "execution_count": null,
   "id": "39faaef7",
   "metadata": {},
   "outputs": [],
   "source": [
    "import numpy as np\n",
    "import os\n",
    "import torch\n",
    "import torch.nn as nn\n",
    "import torchvision as vision\n",
    "from torchvision.datasets import MNIST\n",
    "from torchvision import transforms\n",
    "import matplotlib.pyplot as plt"
   ]
  },
  {
   "cell_type": "markdown",
   "id": "8140f55f",
   "metadata": {},
   "source": [
    "# Exercise 7"
   ]
  },
  {
   "cell_type": "markdown",
   "id": "15160bbd",
   "metadata": {},
   "source": [
    "## Contents\n",
    "- Convolutions & Cross-correlations\n",
    "- Pooling layers\n",
    "- Handwritten Digit Classifier"
   ]
  },
  {
   "cell_type": "markdown",
   "id": "0539e269",
   "metadata": {},
   "source": [
    "## Convolutions & Cross-correlations"
   ]
  },
  {
   "cell_type": "markdown",
   "id": "f87fcbbc",
   "metadata": {},
   "source": [
    "**Question:** How to apply what we learned on images?\n",
    "\n",
    "**Bad Solution:** Treat each pixel as an input for a fully-connected net (**vectorize image**)\n",
    "- E.g. single fully-connected layer with one megapixel color images into 1000 categories **= 3 billion parameters!**\n",
    "\n",
    "**Better Solution:** Convolutions"
   ]
  },
  {
   "cell_type": "markdown",
   "id": "9c988d4c",
   "metadata": {},
   "source": [
    "**Basic Idea:** \n",
    "- Shift convolution kernels over image computing local pointwise product between kernel and local pixels\n",
    "- Summation of these values = Activation of convolutional kernel at said point in image\n",
    "- Special cases:\n",
    "    - **Padding:** How to treat outer values kernel does not reach? (ignore, zero, circular or replicate)\n",
    "    - **Stride:** How many pixels to shift the kernel after each computation? (default: 1)"
   ]
  },
  {
   "cell_type": "markdown",
   "id": "bc7128bd",
   "metadata": {},
   "source": [
    "<img src=\"conv.jpg\" alt=\"Drawing\" style=\"width: 700px;\"/>"
   ]
  },
  {
   "cell_type": "markdown",
   "id": "8acc0601",
   "metadata": {},
   "source": [
    "**Cross-Correlations**:\n",
    "- Definition of convolution would flip the kernel. Cross-correlation = same as convolution, but no flipping\n",
    "- **Convolution is cross-correlation with a kernel rotated by 180 degrees!**\n",
    "\n",
    "**NOTE:** In Deep Learning we refer to Convolution what would actually be Cross-Correlation. If we talk about Convolutions in this lecture we refer to the cross-correlation computation \n",
    "\n",
    "**3D-Case:**\n",
    "- Typically convolve with a 3D-Filter extending in the third dimension = number of channels of data\n",
    "- Thus, we do not move in the third dimension"
   ]
  },
  {
   "cell_type": "markdown",
   "id": "37e94a52",
   "metadata": {},
   "source": [
    "<img src=\"2d_conv.gif\" alt=\"Drawing\" style=\"width: 500px;\"/>"
   ]
  },
  {
   "cell_type": "markdown",
   "id": "d09b329f",
   "metadata": {},
   "source": [
    "## Pooling layers"
   ]
  },
  {
   "cell_type": "markdown",
   "id": "78e43a09",
   "metadata": {},
   "source": [
    "**Goal:** Reduce the dimensionality of your data (e.g. size of image)\n",
    "\n",
    "**Similar to convolution:** slide kernel over image (usually in non-overlapping fashion); at each stride respective \"pixels\" get reduced to one value.\n",
    "\n",
    "**Variants:**\n",
    "- **Max-Pooling:** Only keep the maximum pixel value among all pixel values at each stride\n",
    "- **Avg-Pooling:** Only keep the average value of all pixel values at each stride\n",
    "- **Fractional Max-Pooling:** Same as Avg-Pooling but takingt the $l^p$-norm"
   ]
  },
  {
   "cell_type": "markdown",
   "id": "d3cd36fb",
   "metadata": {},
   "source": [
    "## Handwritten Digit Classifier"
   ]
  },
  {
   "cell_type": "code",
   "execution_count": null,
   "id": "3a511e28",
   "metadata": {},
   "outputs": [],
   "source": [
    "batch_size_train = 64\n",
    "batch_size_test = 100\n",
    "\n",
    "train_set = MNIST('data', download=True, transform=transforms.ToTensor())\n",
    "test_set = MNIST('data', train=False, transform=transforms.ToTensor())\n",
    "\n",
    "train_loader = torch.utils.data.DataLoader(train_set, batch_size=batch_size_train, num_workers=4, shuffle=True)\n",
    "test_loader = torch.utils.data.DataLoader(test_set, batch_size=batch_size_test, num_workers=4, shuffle=True)"
   ]
  },
  {
   "cell_type": "markdown",
   "id": "dfb0e817",
   "metadata": {},
   "source": [
    "### Task 1: Define your network\n",
    "Write a network architecture which is structured as follows:\n",
    "1. 5x5 convolution with 10 output channels\n",
    "2. Max-Pooling with kernel size 2\n",
    "3. 5x5 convolution with 20 output channels\n",
    "4. Max-Pooling with kernel size 2\n",
    "5. Fully connected layer with 50 output channels\n",
    "6. Dropout (p = 50%)\n",
    "7. Fully connected layer with 10 output channels (for the number of digits)\n",
    "\n",
    "**Note:** Every layer except the last two is followed by a ReLU. "
   ]
  },
  {
   "cell_type": "code",
   "execution_count": null,
   "id": "6bf156fb",
   "metadata": {},
   "outputs": [],
   "source": [
    "class MNISTClassifier(nn.Module):\n",
    "    def __init__(self):\n",
    "        super().__init__()\n",
    "        \n",
    "        \n",
    "    def forward(self, x):\n",
    "        # first convolution block: conv - max_pool - relu\n",
    "        \n",
    "        # dropout\n",
    "\n",
    "        # second convolution block: conv - max_pool - relu\n",
    "        \n",
    "        # converting convolution output for linear layers\n",
    "        \n",
    "        # linear classifier\n",
    "        \n",
    "        return x"
   ]
  },
  {
   "cell_type": "code",
   "execution_count": null,
   "id": "39f07292",
   "metadata": {},
   "outputs": [],
   "source": [
    "def train(train_loader, network, loss_fun, optimizer):\n",
    "    train_loss = 0.\n",
    "    train_correct = 0\n",
    "        \n",
    "    # Training\n",
    "    network.train()\n",
    "    for i, (x, y) in enumerate(train_loader):\n",
    "        x, y = x.float(), y.long()\n",
    "            \n",
    "        # Prediction\n",
    "        output = network.forward(x)\n",
    "        batch_loss = loss_fun(output, y)\n",
    "        train_loss += batch_loss\n",
    "        _, pred = output.data.max(1, keepdim=True)\n",
    "        train_correct += pred.eq(y.data.view_as(pred)).sum()\n",
    "            \n",
    "        # Optimization\n",
    "        network.zero_grad()\n",
    "        batch_loss.backward()\n",
    "        optimizer.step()\n",
    "    \n",
    "    train_loss /= len(train_loader)\n",
    "    train_acc = 100. * train_correct / len(train_loader.dataset)\n",
    "    print(\"Avg. Batch-Training loss: {:.4f} & accuracy: {}/{} ({:.2f}%)\".format(train_loss, train_correct, len(train_loader.dataset), train_acc))\n",
    "    \n",
    "    return train_loss, train_acc"
   ]
  },
  {
   "cell_type": "code",
   "execution_count": null,
   "id": "ec47268e",
   "metadata": {},
   "outputs": [],
   "source": [
    "def test(test_loader, network, loss_fun):\n",
    "    test_loss = 0.\n",
    "    test_correct = 0\n",
    "\n",
    "    # Initialize the prediction and label lists(tensors)\n",
    "    pred_list = torch.zeros(0, dtype=torch.long)\n",
    "    gt_list = torch.zeros(0, dtype=torch.long)\n",
    "    \n",
    "    # Inference\n",
    "    network.eval()\n",
    "    with torch.no_grad():\n",
    "        for i, (x, y) in enumerate(test_loader):\n",
    "            x, y = x.float(), y.long()\n",
    "            \n",
    "            # Prediction\n",
    "            output = network.forward(x)\n",
    "            test_loss += loss_fun(output, y)\n",
    "            _, pred = output.data.max(1, keepdim=True)\n",
    "            \n",
    "            # Eval\n",
    "            test_correct += pred.eq(y.data.view_as(pred)).sum()\n",
    "            pred_list = torch.cat([pred_list, pred.view(-1)])\n",
    "            gt_list = torch.cat([gt_list, y.view(-1)])\n",
    "            \n",
    "    test_loss /= len(test_loader)\n",
    "    test_acc = 100. * test_correct / len(test_loader.dataset)\n",
    "    print('Avg. Batch-Test Loss: {:.4f} & accuracy: {}/{} ({:.2f}%)'.format(test_loss, test_correct, len(test_loader.dataset), test_acc))\n",
    "    \n",
    "    return test_loss, test_acc, pred_list, gt_list"
   ]
  },
  {
   "cell_type": "code",
   "execution_count": null,
   "id": "b4057880",
   "metadata": {
    "scrolled": true
   },
   "outputs": [],
   "source": [
    "net = MNISTClassifier()\n",
    "opt = torch.optim.SGD(net.parameters(), lr=0.01, momentum=0.5)\n",
    "loss = nn.CrossEntropyLoss()\n",
    "epochs = 5\n",
    "\n",
    "conv_train_losses, conv_train_accs = [], []\n",
    "conv_test_losses, conv_test_accs = [], []\n",
    "\n",
    "for e in range(epochs):\n",
    "    print(\"Epoch: {}/{}\".format(e+1, epochs))\n",
    "    \n",
    "    train_loss, train_acc = train(train_loader, net, loss, opt)\n",
    "    test_loss, test_acc, conv_pred_list, conv_gt_list = test(test_loader, net, loss)\n",
    "    \n",
    "    conv_train_losses.append(train_loss.detach().numpy())\n",
    "    conv_train_accs.append(train_acc.detach().numpy())\n",
    "    \n",
    "    conv_test_losses.append(test_loss)\n",
    "    conv_test_accs.append(test_acc)"
   ]
  },
  {
   "cell_type": "code",
   "execution_count": null,
   "id": "fd71fc06",
   "metadata": {},
   "outputs": [],
   "source": [
    "fig, (ax1, ax2) = plt.subplots(1, 2, figsize=(15, 5))\n",
    "fig.suptitle('MNIST Loss & Accuracy Development')\n",
    "ax1.plot(range(1, epochs+1), conv_train_losses, color='blue')\n",
    "ax1.plot(range(1, epochs+1), conv_test_losses, color='red')\n",
    "ax1.legend(['Train Loss', 'Test Loss'], loc='upper right')\n",
    "ax1.set_xlabel('number of epochs')\n",
    "ax1.set_ylabel('negative log likelihood loss')\n",
    "ax1.title.set_text('Loss curve')\n",
    "\n",
    "ax2.plot(range(1, epochs+1), conv_train_accs, color='blue')\n",
    "ax2.plot(range(1, epochs+1), conv_test_accs, color='red')\n",
    "ax2.legend(['Train Loss', 'Test Loss'], loc='upper left')\n",
    "ax2.set_xlabel('number of epochs')\n",
    "ax2.set_ylabel('accuracy')\n",
    "ax2.title.set_text('Accuracy curve')"
   ]
  },
  {
   "cell_type": "code",
   "execution_count": null,
   "id": "7a5f2fa2",
   "metadata": {},
   "outputs": [],
   "source": [
    "from sklearn.metrics import confusion_matrix, ConfusionMatrixDisplay\n",
    "\n",
    "conf_mat = confusion_matrix(conv_gt_list.numpy(), conv_pred_list.numpy())\n",
    "ConfusionMatrixDisplay(coanfusion_matrix=conf_mat).plot()"
   ]
  },
  {
   "cell_type": "markdown",
   "id": "61d72c4e",
   "metadata": {},
   "source": [
    "### Task 2: Where to go from here?\n",
    "- Discuss: how can we improve the performance of our network? What comes to your mind?"
   ]
  },
  {
   "cell_type": "markdown",
   "id": "daf935bf",
   "metadata": {},
   "source": [
    "### Take Home Assignment:\n",
    "- Compare our convolutional network to our fully-connected solution using also the additional evaluation tools provided in this notebook. Which one produces better results? Which one is faster? "
   ]
  }
 ],
 "metadata": {
  "kernelspec": {
   "display_name": "Python 3 (ipykernel)",
   "language": "python",
   "name": "python3"
  },
  "language_info": {
   "codemirror_mode": {
    "name": "ipython",
    "version": 3
   },
   "file_extension": ".py",
   "mimetype": "text/x-python",
   "name": "python",
   "nbconvert_exporter": "python",
   "pygments_lexer": "ipython3",
   "version": "3.7.13"
  }
 },
 "nbformat": 4,
 "nbformat_minor": 5
}
