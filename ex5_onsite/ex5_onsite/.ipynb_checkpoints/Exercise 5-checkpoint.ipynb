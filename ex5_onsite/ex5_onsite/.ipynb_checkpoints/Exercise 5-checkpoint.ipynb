{
 "cells": [
  {
   "cell_type": "markdown",
   "id": "2b121cdd",
   "metadata": {},
   "source": [
    "# Exercise 5"
   ]
  },
  {
   "cell_type": "code",
   "execution_count": 1,
   "id": "3937d8b9",
   "metadata": {},
   "outputs": [],
   "source": [
    "%load_ext autoreload\n",
    "%autoreload 2\n",
    "\n",
    "import numpy as np\n",
    "import torch\n",
    "import torch.nn as nn\n",
    "import matplotlib.pyplot as plt"
   ]
  },
  {
   "cell_type": "markdown",
   "id": "d5d26877",
   "metadata": {},
   "source": [
    "## Contents\n",
    "\n",
    "- Custom DataLoaders\n",
    "- Learning Rate Schedules\n",
    "- Weight Initalizations\n",
    "- BatchNormalization"
   ]
  },
  {
   "cell_type": "markdown",
   "id": "fae5297f",
   "metadata": {},
   "source": [
    "## Custom DataLoaders"
   ]
  },
  {
   "cell_type": "markdown",
   "id": "d4651562",
   "metadata": {},
   "source": [
    "### Task 1: Defining your own DataLoader with z-score normalisation\n",
    "- Define a new Class `WineDataset` which inherits from class `torch.utils.data.Dataset` and load the `wine.csv` file correctly. To do so, overwrite the `__init__`, `__len__` and `__getitem__` function of the class you created\n",
    "- Within the `__init__` function make it so that your data is z-score normalised, i.e. each record is zero-centered and normalised."
   ]
  },
  {
   "cell_type": "code",
   "execution_count": 2,
   "id": "1ab37c69",
   "metadata": {},
   "outputs": [],
   "source": [
    "from torch.utils.data import Dataset\n",
    "\n",
    "class WineDataset(Dataset):\n",
    "    def __init__(self, path, range_data):\n",
    "        # Loading data\n",
    "        data = np.loadtxt(path, delimiter=\",\")\n",
    "        \n",
    "        # Shuffeling data (need this because dataset is ordered)\n",
    "        np.random.shuffle(data)\n",
    "        \n",
    "        ## Z-score normalization\n",
    "        # Zero-centering & normalisation (variance will be 1)\n",
    "        mean = np.mean(data[:, 1:])\n",
    "        std = np.std(data[:, 1:])\n",
    "        \n",
    "        data[:, 1:] = (data[:, 1:] - mean) / std\n",
    "        \n",
    "        # Store data as parameter\n",
    "        self.data = data[range_data, :]\n",
    "    \n",
    "    def __len__(self):\n",
    "        return self.data.shape[0]\n",
    "    \n",
    "    def __getitem__(self, idx):\n",
    "        return self.data[idx, 1:].T, int(self.data[idx, 0])-1\n",
    "    \n",
    "training_set = WineDataset('wine.csv', range(140))\n",
    "validation_set = WineDataset('wine.csv', range(140,170))\n",
    "\n",
    "train_loader = torch.utils.data.DataLoader(training_set, batch_size=4, shuffle=True)\n",
    "val_loader = torch.utils.data.DataLoader(validation_set, batch_size=4, shuffle=False)"
   ]
  },
  {
   "cell_type": "markdown",
   "id": "6bd6f4bf",
   "metadata": {},
   "source": [
    "### Take-Home Assignment 1\n",
    "- Write a similar DataLoader for the Wine Quality dataset from Exercise 1. Apply now z-score normalization per column(!)."
   ]
  },
  {
   "cell_type": "code",
   "execution_count": 3,
   "id": "293c3fd3",
   "metadata": {},
   "outputs": [
    {
     "name": "stdout",
     "output_type": "stream",
     "text": [
      "2000 2898\n",
      "(array([ 1.59426511, -0.47865728,  0.54383836,  0.21858945,  0.14774708,\n",
      "       -1.37062835, -1.46752623,  0.86023613, -0.8495313 ,  3.06844526,\n",
      "       -0.66173945]), 6)\n",
      "(array([ 0.64615301, -1.17321019, -0.28255704,  1.4410978 ,  0.46817572,\n",
      "       -0.13572658,  0.69749926,  1.41196458, -1.90923792, -0.43681578,\n",
      "       -1.47442057]), 7)\n"
     ]
    }
   ],
   "source": [
    "from torch.utils.data import Dataset\n",
    "\n",
    "class WineQualityDataset(Dataset):\n",
    "    def __init__(self, path, range_data):\n",
    "        # Loading data\n",
    "        data = np.loadtxt(path, delimiter=\";\", skiprows=1)\n",
    "\n",
    "        # Shuffeling data (need this because dataset is ordered)\n",
    "        np.random.shuffle(data)\n",
    "        \n",
    "        # Split into features and labels\n",
    "        X = data[:, :-1]\n",
    "        y = data[:, -1]\n",
    "        \n",
    "        ## Z-score normalization per axis\n",
    "        # Zero-centering & normalisation (variance will be 1)\n",
    "        for axis in range(X.shape[1]):\n",
    "            mean_axis = np.mean(X[:, axis])\n",
    "            std_axis = np.std(X[:, axis])\n",
    "            X[:, axis] = (X[:, axis] - mean_axis) / std_axis\n",
    "\n",
    "        self.data = np.concatenate((X[range_data, :], y[range_data][:, None]), axis=1)\n",
    "    \n",
    "    def __len__(self):\n",
    "        return self.data.shape[0]\n",
    "    \n",
    "    def __getitem__(self, idx):\n",
    "        return self.data[idx, :-1].T, int(self.data[idx, -1])\n",
    "    \n",
    "training_set = WineQualityDataset('winequality.csv', range(2000))\n",
    "validation_set = WineQualityDataset('winequality.csv', range(2000,4898))\n",
    "\n",
    "print(len(training_set), len(validation_set))\n",
    "print(training_set[0])\n",
    "print(validation_set[0])"
   ]
  },
  {
   "cell_type": "markdown",
   "id": "9bf6104f",
   "metadata": {},
   "source": [
    "### Task 2: Learning Rate Schedules\n",
    "\n",
    "- Extend the train loop as you know it from previous exercises such that it lowers the learning rate after 10 epochs by a factor of 10."
   ]
  },
  {
   "cell_type": "code",
   "execution_count": 4,
   "id": "eeea0b2f",
   "metadata": {},
   "outputs": [],
   "source": [
    "class LinearClassificationNet(nn.Module):\n",
    "    def __init__(self):\n",
    "        super().__init__()\n",
    "        self.layer1 = nn.Linear(13, 3)\n",
    "    \n",
    "    def forward(self, x):\n",
    "        x = self.layer1.forward(x)\n",
    "        return x\n",
    "    \n",
    "\n",
    "def train_loop_schedule(train_loader, val_loader, network, loss_fun, optimizer, epochs, print_freq=1):\n",
    "    for e in range(epochs):\n",
    "        train_loss = 0.\n",
    "\n",
    "        # Training\n",
    "        for i, (x, y) in enumerate(train_loader):\n",
    "            x, y = x.float(), y.long()\n",
    "            \n",
    "            # Prediction\n",
    "            y_pred = network.forward(x)\n",
    "            batch_loss = loss_fun(y_pred, y)\n",
    "            train_loss += batch_loss\n",
    "            \n",
    "            # Optimization\n",
    "            network.zero_grad()\n",
    "            batch_loss.backward()\n",
    "            optimizer.step()\n",
    "        \n",
    "        # Inference\n",
    "        val_loss = 0.\n",
    "        with torch.no_grad():\n",
    "            for i, (x, y) in enumerate(val_loader):\n",
    "                x, y = x.float(), y.long()\n",
    "                y_pred = network.forward(x)\n",
    "                val_loss += loss_fun(y_pred, y)\n",
    "        \n",
    "        # Print epoch results only every print_freq iterations\n",
    "        if (e + 1) % print_freq == 0:\n",
    "            print(\"Epoch: {}/{}; Training loss: {}; Validation loss {}\"\n",
    "                  .format(e+1, epochs, train_loss / len(train_loader), val_loss / len(val_loader)))\n",
    "        \n",
    "        # Check if learning rate should be decreased\n",
    "        if (e + 1) % 10 == 0 and (e + 1) < epochs:\n",
    "            optimizer.param_groups[0]['lr'] *= 0.1\n",
    "            print(\"Decreased LR to {}!\".format(optimizer.param_groups[0]['lr']))\n",
    "\n",
    "            "
   ]
  },
  {
   "cell_type": "markdown",
   "id": "2e7f03a1",
   "metadata": {},
   "source": [
    "Test your implementation!"
   ]
  },
  {
   "cell_type": "code",
   "execution_count": 5,
   "id": "17f00995",
   "metadata": {
    "scrolled": true
   },
   "outputs": [
    {
     "name": "stdout",
     "output_type": "stream",
     "text": [
      "Epoch: 1/30; Training loss: 0.935880720615387; Validation loss 0.47054871916770935\n",
      "Epoch: 2/30; Training loss: 0.7610692381858826; Validation loss 0.5196784734725952\n",
      "Epoch: 3/30; Training loss: 1.1042011976242065; Validation loss 0.552559494972229\n",
      "Epoch: 4/30; Training loss: 1.0223511457443237; Validation loss 0.5799338817596436\n",
      "Epoch: 5/30; Training loss: 0.8342176675796509; Validation loss 0.4678420424461365\n",
      "Epoch: 6/30; Training loss: 1.292677402496338; Validation loss 0.7682009935379028\n",
      "Epoch: 7/30; Training loss: 0.7448282837867737; Validation loss 0.3006003499031067\n",
      "Epoch: 8/30; Training loss: 0.8152669072151184; Validation loss 1.026935338973999\n",
      "Epoch: 9/30; Training loss: 1.254518985748291; Validation loss 0.5686755180358887\n",
      "Epoch: 10/30; Training loss: 0.6770981550216675; Validation loss 0.6587765216827393\n",
      "Decreased LR to 0.010000000000000002!\n",
      "Epoch: 11/30; Training loss: 0.6660541892051697; Validation loss 0.33476248383522034\n",
      "Epoch: 12/30; Training loss: 0.6094759702682495; Validation loss 0.2881297469139099\n",
      "Epoch: 13/30; Training loss: 0.59767085313797; Validation loss 0.29341956973075867\n",
      "Epoch: 14/30; Training loss: 0.6084386110305786; Validation loss 0.36288267374038696\n",
      "Epoch: 15/30; Training loss: 0.636756181716919; Validation loss 0.3929038643836975\n",
      "Epoch: 16/30; Training loss: 0.5939798355102539; Validation loss 0.29783016443252563\n",
      "Epoch: 17/30; Training loss: 0.6018197536468506; Validation loss 0.2975310683250427\n",
      "Epoch: 18/30; Training loss: 0.6079742908477783; Validation loss 0.3452761769294739\n",
      "Epoch: 19/30; Training loss: 0.6183882355690002; Validation loss 0.3664247989654541\n",
      "Epoch: 20/30; Training loss: 0.6334995031356812; Validation loss 0.4614279866218567\n",
      "Decreased LR to 0.0010000000000000002!\n",
      "Epoch: 21/30; Training loss: 0.6336537003517151; Validation loss 0.34391579031944275\n",
      "Epoch: 22/30; Training loss: 0.5910104513168335; Validation loss 0.3482603430747986\n",
      "Epoch: 23/30; Training loss: 0.585192859172821; Validation loss 0.32741817831993103\n",
      "Epoch: 24/30; Training loss: 0.5827761888504028; Validation loss 0.295789897441864\n",
      "Epoch: 25/30; Training loss: 0.5807116627693176; Validation loss 0.30111515522003174\n",
      "Epoch: 26/30; Training loss: 0.58210688829422; Validation loss 0.32197824120521545\n",
      "Epoch: 27/30; Training loss: 0.5810025334358215; Validation loss 0.33527040481567383\n",
      "Epoch: 28/30; Training loss: 0.5819960236549377; Validation loss 0.3146780729293823\n",
      "Epoch: 29/30; Training loss: 0.5807852149009705; Validation loss 0.32929500937461853\n",
      "Epoch: 30/30; Training loss: 0.5819171071052551; Validation loss 0.3004651963710785\n"
     ]
    }
   ],
   "source": [
    "epochs = 30\n",
    "lr = 0.1\n",
    "\n",
    "loss_fun = nn.CrossEntropyLoss()\n",
    "network = LinearClassificationNet()\n",
    "optimizer = torch.optim.SGD(network.parameters(), lr=lr, momentum=0.9)\n",
    "\n",
    "train_loop_schedule(train_loader, val_loader, network, loss_fun, optimizer, epochs)"
   ]
  },
  {
   "cell_type": "markdown",
   "id": "b2f1c74b",
   "metadata": {},
   "source": [
    "### Take-Home Assignment 2\n",
    "\n",
    "- Now, extend the train loop such that it lowers the learning rate if the network has not improved in 5 epochs. To do so you need to track the current best loss that you have achieved so far as well as during which epoch said loss occured."
   ]
  },
  {
   "cell_type": "code",
   "execution_count": 6,
   "id": "55c5d18e",
   "metadata": {},
   "outputs": [],
   "source": [
    "def train_loop_plateau(train_loader, val_loader, network, loss_fun, optimizer, epochs, print_freq=1):\n",
    "    # Track best loss and best epoch\n",
    "    best_loss, best_epoch = 0., 0\n",
    "    for e in range(epochs):\n",
    "        train_loss = 0.\n",
    "\n",
    "        # Training\n",
    "        for i, (x, y) in enumerate(train_loader):\n",
    "            x, y = x.float(), y.long()\n",
    "            \n",
    "            # Prediction\n",
    "            y_pred = network.forward(x)\n",
    "            batch_loss = loss_fun(y_pred, y)\n",
    "            train_loss += batch_loss\n",
    "            \n",
    "            # Optimization\n",
    "            network.zero_grad()\n",
    "            batch_loss.backward()\n",
    "            optimizer.step()\n",
    "        \n",
    "        # Inference\n",
    "        val_loss = 0.\n",
    "        with torch.no_grad():\n",
    "            for i, (x, y) in enumerate(val_loader):\n",
    "                x, y = x.float(), y.long()\n",
    "                y_pred = network.forward(x)\n",
    "                val_loss += loss_fun(y_pred, y)\n",
    "        \n",
    "        # Print epoch results only every print_freq iterations\n",
    "        if (e + 1) % print_freq == 0:\n",
    "            print(\"Epoch: {}/{}; Training loss: {}; Validation loss {}\"\n",
    "                  .format(e+1, epochs, train_loss / len(train_loader), val_loss / len(val_loader)))\n",
    "        \n",
    "        # If current loss is lower than best loss, store pointer to said epoch\n",
    "        if e == 0:\n",
    "            best_loss = train_loss\n",
    "            best_epoch = e\n",
    "        elif best_loss > train_loss:\n",
    "            best_loss = train_loss\n",
    "            best_epoch = e\n",
    "\n",
    "        # Decrease learning rate if loss has not been improved over 5 epochs\n",
    "        if best_epoch + 4 == e:\n",
    "            optimizer.param_groups[0]['lr'] *= 0.1\n",
    "            print(\"Decreased LR to {}!\".format(optimizer.param_groups[0]['lr']))\n",
    "\n",
    "            "
   ]
  },
  {
   "cell_type": "markdown",
   "id": "e892c9cb",
   "metadata": {},
   "source": [
    "## Weight Initalization"
   ]
  },
  {
   "cell_type": "markdown",
   "id": "f3d52386",
   "metadata": {},
   "source": [
    "During lecture you saw undesirable property of networks, namely activations either drift apart or converge to zero the deeper we get in our network. This is undesireable as it complicates training. In general we want that activations live in the same distribution across layers. Will make our training more efficient. To demontrate you this consider the example below:"
   ]
  },
  {
   "cell_type": "code",
   "execution_count": 7,
   "id": "562684af",
   "metadata": {},
   "outputs": [],
   "source": [
    "class Network(nn.Module):\n",
    "    \n",
    "    def __init__(self):\n",
    "        super().__init__()\n",
    "        self.layers = nn.Sequential(nn.Linear(10, 100, bias=False),\n",
    "                                    nn.ReLU(),\n",
    "                                    nn.Linear(100, 100, bias=False),\n",
    "                                    nn.ReLU(),\n",
    "                                    nn.Linear(100, 100, bias=False),\n",
    "                                    nn.ReLU(),\n",
    "                                    nn.Linear(100, 1, bias=False),\n",
    "                                   )\n",
    "    \n",
    "    def forward(self, x):\n",
    "        return self.layers(x)\n",
    "\n",
    "def track_activations(activations):\n",
    "    def hook_fun(module, input, output):\n",
    "        activations.append(output.detach())\n",
    "    return hook_fun"
   ]
  },
  {
   "cell_type": "code",
   "execution_count": 8,
   "id": "cafb729c",
   "metadata": {},
   "outputs": [
    {
     "data": {
      "image/png": "[encoded data removed]",
      "text/plain": [
       "<Figure size 1500x1500 with 7 Axes>"
      ]
     },
     "metadata": {},
     "output_type": "display_data"
    }
   ],
   "source": [
    "x = torch.randn(1000, 10)\n",
    "net = Network()\n",
    "\n",
    "hooks = []\n",
    "activations = []\n",
    "hook_fun = track_activations(activations)\n",
    "\n",
    "for layer in net.layers:\n",
    "    hook = layer.register_forward_hook(hook_fun)\n",
    "    hooks.append(hook)\n",
    "\n",
    "with torch.no_grad():\n",
    "    res = net(x)\n",
    "\n",
    "for hook in hooks:\n",
    "    hook.remove()\n",
    "    \n",
    "plt.figure(figsize=(15, 15))\n",
    "\n",
    "for i, act in enumerate(activations):\n",
    "    plt.subplot(4, 2, i+1)\n",
    "    plt.hist(act.reshape(-1).numpy(), bins=9, density=True, range=(-2.1,2.1))\n",
    "    plt.gca().set_ylim(0, 1)\n",
    "plt.show()"
   ]
  },
  {
   "cell_type": "markdown",
   "id": "dfc61f78",
   "metadata": {},
   "source": [
    "As you can see the activations get smaller and smaller the deeper we go in our network. To dampen this effect we can use weight initalization schemes. You got to know Kaiming He's initialization scheme. Using this scheme we make it so that activations across layers are approximately distributed in the same normal distribution."
   ]
  },
  {
   "cell_type": "markdown",
   "id": "69503adc",
   "metadata": {},
   "source": [
    "### Task 3: Using Weight Initalization\n",
    "\n",
    "Now, initalize the weights of your network before starting training! Use Kaiming He's initialisation which you know from the lecture (see https://pytorch.org/docs/stable/nn.init.html). Write the `init_weight` function which iteratively checks each module and initalizes the weights if the module is of type `nn.Linear`"
   ]
  },
  {
   "cell_type": "code",
   "execution_count": 9,
   "id": "ccfd3662",
   "metadata": {},
   "outputs": [
    {
     "data": {
      "text/plain": [
       "Network(\n",
       "  (layers): Sequential(\n",
       "    (0): Linear(in_features=10, out_features=100, bias=False)\n",
       "    (1): ReLU()\n",
       "    (2): Linear(in_features=100, out_features=100, bias=False)\n",
       "    (3): ReLU()\n",
       "    (4): Linear(in_features=100, out_features=100, bias=False)\n",
       "    (5): ReLU()\n",
       "    (6): Linear(in_features=100, out_features=1, bias=False)\n",
       "  )\n",
       ")"
      ]
     },
     "execution_count": 9,
     "metadata": {},
     "output_type": "execute_result"
    }
   ],
   "source": [
    "def init_weights(m):\n",
    "    if isinstance(m, nn.Linear):\n",
    "        torch.nn.init.kaiming_normal_(m.weight, nonlinearity='relu')\n",
    "        \n",
    "net.apply(init_weights)"
   ]
  },
  {
   "cell_type": "code",
   "execution_count": 10,
   "id": "43f1b6da",
   "metadata": {},
   "outputs": [
    {
     "data": {
      "image/png": "[encoded data removed]",
      "text/plain": [
       "<Figure size 1500x1500 with 7 Axes>"
      ]
     },
     "metadata": {},
     "output_type": "display_data"
    }
   ],
   "source": [
    "hooks = []\n",
    "activations = []\n",
    "hook_fun = track_activations(activations)\n",
    "\n",
    "for layer in net.layers:\n",
    "    hook = layer.register_forward_hook(hook_fun)\n",
    "    hooks.append(hook)\n",
    "\n",
    "with torch.no_grad():\n",
    "    res = net(x)\n",
    "\n",
    "for hook in hooks:\n",
    "    hook.remove()\n",
    "    \n",
    "plt.figure(figsize=(15, 15))\n",
    "\n",
    "for i, act in enumerate(activations):\n",
    "    plt.subplot(4, 2, i+1)\n",
    "    plt.hist(act.reshape(-1).numpy(), bins=9, density=True, range=(-2.1,2.1))\n",
    "    plt.gca().set_ylim(0, 1)"
   ]
  },
  {
   "cell_type": "markdown",
   "id": "d41df5b4",
   "metadata": {},
   "source": [
    "## BatchNormalization"
   ]
  },
  {
   "cell_type": "markdown",
   "id": "ebfe4ab4",
   "metadata": {},
   "source": [
    "Batch Normalization is another way to ensure that activations across layers stay normally distributed. It more aggressive as in that it intermediatly normalizes the data again."
   ]
  },
  {
   "cell_type": "markdown",
   "id": "003db53b",
   "metadata": {},
   "source": [
    "### Task 4: Using BatchNorm Layers\n",
    "\n",
    "- Extend the network below by adding BatchNorm layers after each Linear layer. Use PyTorch's `BatchNorm1D` class (https://pytorch.org/docs/stable/generated/torch.nn.BatchNorm1d.html) to do so. See how the BatchNorm layer changes your data along the flow of your network."
   ]
  },
  {
   "cell_type": "code",
   "execution_count": 11,
   "id": "6cf58294",
   "metadata": {},
   "outputs": [],
   "source": [
    "class Network(nn.Module):\n",
    "    \n",
    "    def __init__(self):\n",
    "        super().__init__()\n",
    "        self.layers = nn.Sequential(nn.Linear(10, 100, bias=False),\n",
    "                                    nn.BatchNorm1d(100),\n",
    "                                    nn.ReLU(),\n",
    "                                    nn.Linear(100, 100, bias=False),\n",
    "                                    nn.BatchNorm1d(100),\n",
    "                                    nn.ReLU(),\n",
    "                                    nn.Linear(100, 100, bias=False),\n",
    "                                    nn.BatchNorm1d(100),\n",
    "                                    nn.ReLU(),\n",
    "                                    nn.Linear(100, 1, bias=False),\n",
    "                                   )\n",
    "    \n",
    "    def forward(self, x):\n",
    "        return self.layers(x)"
   ]
  },
  {
   "cell_type": "code",
   "execution_count": 12,
   "id": "eaea3700",
   "metadata": {},
   "outputs": [
    {
     "data": {
      "image/png": "[encoded data removed]",
      "text/plain": [
       "<Figure size 1500x1500 with 10 Axes>"
      ]
     },
     "metadata": {},
     "output_type": "display_data"
    }
   ],
   "source": [
    "x = torch.randn(1000, 10)\n",
    "net = Network()\n",
    "\n",
    "hooks = []\n",
    "activations = []\n",
    "hook_fun = track_activations(activations)\n",
    "\n",
    "for layer in net.layers:\n",
    "    hook = layer.register_forward_hook(hook_fun)\n",
    "    hooks.append(hook)\n",
    "\n",
    "with torch.no_grad():\n",
    "    res = net(x)\n",
    "\n",
    "for hook in hooks:\n",
    "    hook.remove()\n",
    "    \n",
    "plt.figure(figsize=(15, 15))\n",
    "\n",
    "for i, act in enumerate(activations):\n",
    "    plt.subplot(4, 3, i+1)\n",
    "    plt.hist(act.reshape(-1).numpy(), bins=9, density=True, range=(-2.1,2.1))\n",
    "    plt.gca().set_ylim(0, 1)\n",
    "plt.show()"
   ]
  },
  {
   "cell_type": "markdown",
   "id": "758672ea",
   "metadata": {},
   "source": [
    "## Pros and Cons for both methods:\n",
    "- **Weight Initalization:**\n",
    "    - Pro: Minimal computation overhead; Con: Effect wears off the deeper you go\n",
    "- **BatchNorm:**\n",
    "    - Pro: Can be applied even at deep layers; Con: Expensive operation"
   ]
  },
  {
   "cell_type": "markdown",
   "id": "a434a3e6",
   "metadata": {},
   "source": [
    "### Take-Home Assignment 2:\n",
    "- Try incorporating BatchNorm layers and different weight initialisation in your MNIST training code. Play around with deep networks with and without said techniques and exhibit how the loss changes. "
   ]
  },
  {
   "cell_type": "code",
   "execution_count": 13,
   "id": "29a1b1aa",
   "metadata": {},
   "outputs": [],
   "source": [
    "class FullyConnectedNet(nn.Module):\n",
    "    def __init__(self):\n",
    "        super().__init__()\n",
    "        self.input_layer = nn.Linear(in_features=28*28, out_features=32)\n",
    "        self.input_relu = nn.ReLU()\n",
    "        self.hidden_1_linear = nn.Linear(in_features=32, out_features=32)\n",
    "        self.hidden_1_relu = nn.ReLU()\n",
    "        self.hidden_2_linear = nn.Linear(in_features=32, out_features=32)\n",
    "        self.hidden_2_batchnorm = nn.BatchNorm1d(num_features=32)\n",
    "        self.hidden_2_relu = nn.ReLU()\n",
    "        self.output_layer = nn.Linear(32, 10)\n",
    "    \n",
    "    def forward(self, x):\n",
    "        x = x.reshape(-1, 28*28)\n",
    "        x = self.input_layer(x)\n",
    "        x = self.input_relu(x)\n",
    "        x = self.hidden_1_linear(x)\n",
    "        x = self.hidden_1_relu(x)\n",
    "        x = self.hidden_2_linear(x)\n",
    "        x = self.hidden_2_batchnorm(x)\n",
    "        x = self.hidden_2_relu(x)\n",
    "        x = self.output_layer(x)\n",
    "        return x"
   ]
  },
  {
   "cell_type": "code",
   "execution_count": 14,
   "id": "66fccda9",
   "metadata": {},
   "outputs": [
    {
     "name": "stderr",
     "output_type": "stream",
     "text": [
      "1.7%"
     ]
    },
    {
     "name": "stdout",
     "output_type": "stream",
     "text": [
      "Downloading http://yann.lecun.com/exdb/mnist/train-images-idx3-ubyte.gz\n",
      "Downloading http://yann.lecun.com/exdb/mnist/train-images-idx3-ubyte.gz to data/MNIST/raw/train-images-idx3-ubyte.gz\n"
     ]
    },
    {
     "name": "stderr",
     "output_type": "stream",
     "text": [
      "100.0%\n"
     ]
    },
    {
     "name": "stdout",
     "output_type": "stream",
     "text": [
      "Extracting data/MNIST/raw/train-images-idx3-ubyte.gz to data/MNIST/raw\n"
     ]
    },
    {
     "name": "stderr",
     "output_type": "stream",
     "text": [
      "\r",
      "100.0%"
     ]
    },
    {
     "name": "stdout",
     "output_type": "stream",
     "text": [
      "\n",
      "Downloading http://yann.lecun.com/exdb/mnist/train-labels-idx1-ubyte.gz\n",
      "Downloading http://yann.lecun.com/exdb/mnist/train-labels-idx1-ubyte.gz to data/MNIST/raw/train-labels-idx1-ubyte.gz\n",
      "Extracting data/MNIST/raw/train-labels-idx1-ubyte.gz to data/MNIST/raw\n",
      "\n",
      "Downloading http://yann.lecun.com/exdb/mnist/t10k-images-idx3-ubyte.gz\n",
      "Downloading http://yann.lecun.com/exdb/mnist/t10k-images-idx3-ubyte.gz to data/MNIST/raw/t10k-images-idx3-ubyte.gz\n"
     ]
    },
    {
     "name": "stderr",
     "output_type": "stream",
     "text": [
      "\n",
      "100.0%\n"
     ]
    },
    {
     "name": "stdout",
     "output_type": "stream",
     "text": [
      "Extracting data/MNIST/raw/t10k-images-idx3-ubyte.gz to data/MNIST/raw\n",
      "\n",
      "Downloading http://yann.lecun.com/exdb/mnist/t10k-labels-idx1-ubyte.gz\n",
      "Downloading http://yann.lecun.com/exdb/mnist/t10k-labels-idx1-ubyte.gz to data/MNIST/raw/t10k-labels-idx1-ubyte.gz\n"
     ]
    },
    {
     "name": "stderr",
     "output_type": "stream",
     "text": [
      "100.0%\n"
     ]
    },
    {
     "name": "stdout",
     "output_type": "stream",
     "text": [
      "Extracting data/MNIST/raw/t10k-labels-idx1-ubyte.gz to data/MNIST/raw\n",
      "\n",
      "Epoch: 1/10; Training loss: 0.3947378695011139; Validation loss 0.2648458182811737\n",
      "Epoch: 2/10; Training loss: 0.25622883439064026; Validation loss 0.21580639481544495\n",
      "Epoch: 3/10; Training loss: 0.23363685607910156; Validation loss 0.23872990906238556\n",
      "Epoch: 4/10; Training loss: 0.20487692952156067; Validation loss 0.24832125008106232\n",
      "Epoch: 5/10; Training loss: 0.1953488141298294; Validation loss 0.17736560106277466\n",
      "Epoch: 6/10; Training loss: 0.1830936074256897; Validation loss 0.20003128051757812\n",
      "Epoch: 7/10; Training loss: 0.17716357111930847; Validation loss 0.165696918964386\n",
      "Epoch: 8/10; Training loss: 0.16922374069690704; Validation loss 0.18810953199863434\n",
      "Epoch: 9/10; Training loss: 0.1613978147506714; Validation loss 0.17639897763729095\n",
      "Epoch: 10/10; Training loss: 0.15387210249900818; Validation loss 0.19998832046985626\n"
     ]
    }
   ],
   "source": [
    "from torch.utils.data import DataLoader\n",
    "from torchvision.datasets import MNIST\n",
    "from torchvision import transforms\n",
    "\n",
    "lr = 0.1\n",
    "epochs = 10\n",
    "\n",
    "loss_fun = nn.CrossEntropyLoss()\n",
    "network = FullyConnectedNet()\n",
    "optimizer = torch.optim.Adam(network.parameters(), lr)\n",
    "\n",
    "# transforms.Compose = combine different transformations which should be on all instances\n",
    "transform=transforms.Compose([\n",
    "    transforms.ToTensor(),\n",
    "    # Applies Z-Score normalisation on data (mean and std of MNIST dataset)\n",
    "    transforms.Normalize((0.1307,), (0.3081,))\n",
    "])\n",
    "\n",
    "# weight initalization\n",
    "network.apply(init_weights)\n",
    "\n",
    "train_set = MNIST('data', download=True, transform=transform)\n",
    "val_set = MNIST('data', train=False, transform=transform)\n",
    "\n",
    "train_loader = DataLoader(train_set, batch_size=100, shuffle=True)\n",
    "val_loader = DataLoader(val_set, batch_size=100, shuffle=False)\n",
    "        \n",
    "train_loop_schedule(train_loader, val_loader, network, loss_fun, optimizer, epochs)"
   ]
  }
 ],
 "metadata": {
  "kernelspec": {
   "display_name": "Python 3 (ipykernel)",
   "language": "python",
   "name": "python3"
  },
  "language_info": {
   "codemirror_mode": {
    "name": "ipython",
    "version": 3
   },
   "file_extension": ".py",
   "mimetype": "text/x-python",
   "name": "python",
   "nbconvert_exporter": "python",
   "pygments_lexer": "ipython3",
   "version": "3.7.13"
  }
 },
 "nbformat": 4,
 "nbformat_minor": 5
}
