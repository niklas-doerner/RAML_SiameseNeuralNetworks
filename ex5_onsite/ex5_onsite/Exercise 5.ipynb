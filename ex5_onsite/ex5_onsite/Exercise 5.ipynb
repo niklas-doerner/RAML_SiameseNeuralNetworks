{
 "cells": [
  {
   "cell_type": "markdown",
   "id": "2b121cdd",
   "metadata": {},
   "source": [
    "# Exercise 5"
   ]
  },
  {
   "cell_type": "code",
   "execution_count": 1,
   "id": "3937d8b9",
   "metadata": {},
   "outputs": [],
   "source": [
    "%load_ext autoreload\n",
    "%autoreload 2\n",
    "\n",
    "import numpy as np\n",
    "import torch\n",
    "import torch.nn as nn\n",
    "import matplotlib.pyplot as plt"
   ]
  },
  {
   "cell_type": "markdown",
   "id": "d5d26877",
   "metadata": {},
   "source": [
    "## Contents\n",
    "\n",
    "- Custom DataLoaders\n",
    "- Learning Rate Schedules\n",
    "- Weight Initalizations\n",
    "- BatchNormalization"
   ]
  },
  {
   "cell_type": "markdown",
   "id": "fae5297f",
   "metadata": {},
   "source": [
    "## Custom DataLoaders"
   ]
  },
  {
   "cell_type": "markdown",
   "id": "d4651562",
   "metadata": {},
   "source": [
    "### Task 1: Defining your own DataLoader with z-score normalisation\n",
    "- Define a new Class `WineDataset` which inherits from class `torch.utils.data.Dataset` and load the `wine.csv` file correctly. To do so, overwrite the `__init__`, `__len__` and `__getitem__` function of the class you created\n",
    "- Within the `__init__` function make it so that your data is z-score normalised, i.e. each record is zero-centered and normalised."
   ]
  },
  {
   "cell_type": "code",
   "execution_count": 2,
   "id": "1ab37c69",
   "metadata": {},
   "outputs": [],
   "source": [
    "from torch.utils.data import Dataset\n",
    "\n",
    "class WineDataset(Dataset):\n",
    "    def __init__(self, path, range_data):\n",
    "        # Loading data\n",
    "        data = np.loadtxt(path, delimiter=\",\")\n",
    "        \n",
    "        # Shuffeling data (need this because dataset is ordered)\n",
    "        np.random.shuffle(data)\n",
    "        \n",
    "        ## Z-score normalization\n",
    "        # Zero-centering & normalisation (variance will be 1)\n",
    "        mean = np.mean(data[:, 1:])\n",
    "        std = np.std(data[:, 1:])\n",
    "        \n",
    "        data[:, 1:] = (data[:, 1:] - mean) / std\n",
    "        \n",
    "        # Store data as parameter\n",
    "        self.data = data[range_data, :]\n",
    "    \n",
    "    def __len__(self):\n",
    "        return self.data.shape[0]\n",
    "    \n",
    "    def __getitem__(self, idx):\n",
    "        return self.data[idx, 1:].T, int(self.data[idx, 0])-1\n",
    "    \n",
    "training_set = WineDataset('wine.csv', range(140))\n",
    "validation_set = WineDataset('wine.csv', range(140,170))\n",
    "\n",
    "train_loader = torch.utils.data.DataLoader(training_set, batch_size=4, shuffle=True)\n",
    "val_loader = torch.utils.data.DataLoader(validation_set, batch_size=4, shuffle=False)"
   ]
  },
  {
   "cell_type": "markdown",
   "id": "6bd6f4bf",
   "metadata": {},
   "source": [
    "### Take-Home Assignment 1\n",
    "- Write a similar DataLoader for the Wine Quality dataset from Exercise 1. Apply now z-score normalization per column(!)."
   ]
  },
  {
   "cell_type": "code",
   "execution_count": 7,
   "id": "293c3fd3",
   "metadata": {},
   "outputs": [
    {
     "name": "stdout",
     "output_type": "stream",
     "text": [
      "2000 2898\n",
      "(array([ 1.00169505,  0.21589563,  0.70911744,  1.55940506, -0.035355  ,\n",
      "        0.56993158,  1.75647912,  1.69618834, -0.05475133,  1.22818321,\n",
      "       -1.06808001]), 5)\n",
      "(array([-1.13155718, -0.37943543,  0.04800112, -0.86589377, -0.40155916,\n",
      "        0.27590734, -0.71447388, -1.52055577,  0.01148034,  0.08897337,\n",
      "        1.45123145]), 6)\n"
     ]
    }
   ],
   "source": [
    "from torch.utils.data import Dataset\n",
    "\n",
    "class WineQualityDataset(Dataset):\n",
    "    def __init__(self, path, range_data):\n",
    "        # Loading data\n",
    "        data = np.loadtxt(path, delimiter=\";\", skiprows=1)\n",
    "\n",
    "        # Shuffeling data (need this because dataset is ordered)\n",
    "        np.random.shuffle(data)\n",
    "        \n",
    "        # Split into features and labels\n",
    "        X = data[:, :-1]\n",
    "        y = data[:, -1]\n",
    "                \n",
    "        ## Z-score normalization per axis\n",
    "        # Zero-centering & normalisation (variance will be 1)\n",
    "        for axis in range(X.shape[1]):\n",
    "            mean_axis = np.mean(X[:, axis])\n",
    "            std_axis = np.std(X[:, axis])\n",
    "            X[:, axis] = (X[:, axis] - mean_axis) / std_axis\n",
    "\n",
    "        self.data = np.concatenate((X[range_data, :], y[range_data][:, None]), axis=1)\n",
    "    \n",
    "    def __len__(self):\n",
    "        return self.data.shape[0]\n",
    "    \n",
    "    def __getitem__(self, idx):\n",
    "        return self.data[idx, :-1].T, int(self.data[idx, -1])\n",
    "    \n",
    "training_set = WineQualityDataset('winequality.csv', range(2000))\n",
    "validation_set = WineQualityDataset('winequality.csv', range(2000,4898))\n",
    "\n",
    "print(len(training_set), len(validation_set))\n",
    "print(training_set[0])\n",
    "print(validation_set[0])"
   ]
  },
  {
   "cell_type": "markdown",
   "id": "9bf6104f",
   "metadata": {},
   "source": [
    "### Task 2: Learning Rate Schedules\n",
    "\n",
    "- Extend the train loop as you know it from previous exercises such that it lowers the learning rate after 10 epochs by a factor of 10."
   ]
  },
  {
   "cell_type": "code",
   "execution_count": 8,
   "id": "eeea0b2f",
   "metadata": {},
   "outputs": [],
   "source": [
    "class LinearClassificationNet(nn.Module):\n",
    "    def __init__(self):\n",
    "        super().__init__()\n",
    "        self.layer1 = nn.Linear(13, 3)\n",
    "    \n",
    "    def forward(self, x):\n",
    "        x = self.layer1.forward(x)\n",
    "        return x\n",
    "    \n",
    "\n",
    "def train_loop_schedule(train_loader, val_loader, network, loss_fun, optimizer, epochs, print_freq=1):\n",
    "    for e in range(epochs):\n",
    "        train_loss = 0.\n",
    "\n",
    "        # Training\n",
    "        for i, (x, y) in enumerate(train_loader):\n",
    "            x, y = x.float(), y.long()\n",
    "            \n",
    "            # Prediction\n",
    "            y_pred = network.forward(x)\n",
    "            batch_loss = loss_fun(y_pred, y)\n",
    "            train_loss += batch_loss\n",
    "            \n",
    "            # Optimization\n",
    "            network.zero_grad()\n",
    "            batch_loss.backward()\n",
    "            optimizer.step()\n",
    "        \n",
    "        # Inference\n",
    "        val_loss = 0.\n",
    "        with torch.no_grad():\n",
    "            for i, (x, y) in enumerate(val_loader):\n",
    "                x, y = x.float(), y.long()\n",
    "                y_pred = network.forward(x)\n",
    "                val_loss += loss_fun(y_pred, y)\n",
    "        \n",
    "        # Print epoch results only every print_freq iterations\n",
    "        if (e + 1) % print_freq == 0:\n",
    "            print(\"Epoch: {}/{}; Training loss: {}; Validation loss {}\"\n",
    "                  .format(e+1, epochs, train_loss / len(train_loader), val_loss / len(val_loader)))\n",
    "        \n",
    "        # Check if learning rate should be decreased\n",
    "        if (e + 1) % 10 == 0 and (e + 1) < epochs:\n",
    "            optimizer.param_groups[0]['lr'] *= 0.1\n",
    "            print(\"Decreased LR to {}!\".format(optimizer.param_groups[0]['lr']))\n",
    "\n",
    "            "
   ]
  },
  {
   "cell_type": "markdown",
   "id": "2e7f03a1",
   "metadata": {},
   "source": [
    "Test your implementation!"
   ]
  },
  {
   "cell_type": "code",
   "execution_count": 9,
   "id": "17f00995",
   "metadata": {
    "scrolled": true
   },
   "outputs": [
    {
     "name": "stderr",
     "output_type": "stream",
     "text": [
      "/home/nd/anaconda3/lib/python3.9/site-packages/torch/autograd/__init__.py:197: UserWarning: CUDA initialization: The NVIDIA driver on your system is too old (found version 10010). Please update your GPU driver by downloading and installing a new version from the URL: http://www.nvidia.com/Download/index.aspx Alternatively, go to: https://pytorch.org to install a PyTorch version that has been compiled with your version of the CUDA driver. (Triggered internally at /opt/conda/conda-bld/pytorch_1666642975993/work/c10/cuda/CUDAFunctions.cpp:109.)\n",
      "  Variable._execution_engine.run_backward(  # Calls into the C++ engine to run the backward pass\n"
     ]
    },
    {
     "name": "stdout",
     "output_type": "stream",
     "text": [
      "Epoch: 1/30; Training loss: 0.9209780097007751; Validation loss 0.9825673699378967\n",
      "Epoch: 2/30; Training loss: 1.0146933794021606; Validation loss 0.5416669845581055\n",
      "Epoch: 3/30; Training loss: 1.2383995056152344; Validation loss 2.9227349758148193\n",
      "Epoch: 4/30; Training loss: 0.8499841690063477; Validation loss 0.5784255266189575\n",
      "Epoch: 5/30; Training loss: 0.8991178274154663; Validation loss 1.011553168296814\n",
      "Epoch: 6/30; Training loss: 0.9518823027610779; Validation loss 0.5507366061210632\n",
      "Epoch: 7/30; Training loss: 0.8346145153045654; Validation loss 0.6381974220275879\n",
      "Epoch: 8/30; Training loss: 0.7683371305465698; Validation loss 0.573447048664093\n",
      "Epoch: 9/30; Training loss: 0.7606141567230225; Validation loss 0.5160219073295593\n",
      "Epoch: 10/30; Training loss: 0.8521071076393127; Validation loss 1.0358778238296509\n",
      "Decreased LR to 0.010000000000000002!\n",
      "Epoch: 11/30; Training loss: 0.713813304901123; Validation loss 0.5351976752281189\n",
      "Epoch: 12/30; Training loss: 0.6170434355735779; Validation loss 0.45192044973373413\n",
      "Epoch: 13/30; Training loss: 0.6225189566612244; Validation loss 0.4661668837070465\n",
      "Epoch: 14/30; Training loss: 0.6083616614341736; Validation loss 0.517112135887146\n",
      "Epoch: 15/30; Training loss: 0.6069285869598389; Validation loss 0.5514780879020691\n",
      "Epoch: 16/30; Training loss: 0.6056281924247742; Validation loss 0.4178272783756256\n",
      "Epoch: 17/30; Training loss: 0.6086536645889282; Validation loss 0.5726058483123779\n",
      "Epoch: 18/30; Training loss: 0.6230681538581848; Validation loss 0.6303936243057251\n",
      "Epoch: 19/30; Training loss: 0.6109262108802795; Validation loss 0.44624000787734985\n",
      "Epoch: 20/30; Training loss: 0.6221045255661011; Validation loss 0.5958644151687622\n",
      "Decreased LR to 0.0010000000000000002!\n",
      "Epoch: 21/30; Training loss: 0.5994429588317871; Validation loss 0.5491176843643188\n",
      "Epoch: 22/30; Training loss: 0.590886652469635; Validation loss 0.5175718665122986\n",
      "Epoch: 23/30; Training loss: 0.5868203043937683; Validation loss 0.5032203197479248\n",
      "Epoch: 24/30; Training loss: 0.5843906998634338; Validation loss 0.49910497665405273\n",
      "Epoch: 25/30; Training loss: 0.5863354802131653; Validation loss 0.4954555630683899\n",
      "Epoch: 26/30; Training loss: 0.5849539041519165; Validation loss 0.5019901990890503\n",
      "Epoch: 27/30; Training loss: 0.5855635404586792; Validation loss 0.5019826292991638\n",
      "Epoch: 28/30; Training loss: 0.5866721272468567; Validation loss 0.5015232563018799\n",
      "Epoch: 29/30; Training loss: 0.5852916240692139; Validation loss 0.4932754933834076\n",
      "Epoch: 30/30; Training loss: 0.5857189893722534; Validation loss 0.49796637892723083\n"
     ]
    }
   ],
   "source": [
    "epochs = 30\n",
    "lr = 0.1\n",
    "\n",
    "loss_fun = nn.CrossEntropyLoss()\n",
    "network = LinearClassificationNet()\n",
    "optimizer = torch.optim.SGD(network.parameters(), lr=lr, momentum=0.9)\n",
    "\n",
    "train_loop_schedule(train_loader, val_loader, network, loss_fun, optimizer, epochs)"
   ]
  },
  {
   "cell_type": "markdown",
   "id": "b2f1c74b",
   "metadata": {},
   "source": [
    "### Take-Home Assignment 2\n",
    "\n",
    "- Now, extend the train loop such that it lowers the learning rate if the network has not improved in 5 epochs. To do so you need to track the current best loss that you have achieved so far as well as during which epoch said loss occured."
   ]
  },
  {
   "cell_type": "code",
   "execution_count": 12,
   "id": "55c5d18e",
   "metadata": {},
   "outputs": [],
   "source": [
    "def train_loop_plateau(train_loader, val_loader, network, loss_fun, optimizer, epochs, print_freq=1):\n",
    "    # Track best loss and best epoch\n",
    "    best_loss, best_epoch = 0., 0\n",
    "    for e in range(epochs):\n",
    "        train_loss = 0.\n",
    "\n",
    "        # Training\n",
    "        for i, (x, y) in enumerate(train_loader):\n",
    "            x, y = x.float(), y.long()\n",
    "            \n",
    "            # Prediction\n",
    "            y_pred = network.forward(x)\n",
    "            batch_loss = loss_fun(y_pred, y)\n",
    "            train_loss += batch_loss\n",
    "            \n",
    "            # Optimization\n",
    "            network.zero_grad()\n",
    "            batch_loss.backward()\n",
    "            optimizer.step()\n",
    "        \n",
    "        # Inference\n",
    "        val_loss = 0.\n",
    "        with torch.no_grad():\n",
    "            for i, (x, y) in enumerate(val_loader):\n",
    "                x, y = x.float(), y.long()\n",
    "                y_pred = network.forward(x)\n",
    "                val_loss += loss_fun(y_pred, y)\n",
    "        \n",
    "        # Print epoch results only every print_freq iterations\n",
    "        if (e + 1) % print_freq == 0:\n",
    "            print(\"Epoch: {}/{}; Training loss: {}; Validation loss {}\"\n",
    "                  .format(e+1, epochs, train_loss / len(train_loader), val_loss / len(val_loader)))\n",
    "        \n",
    "        # If current loss is lower than best loss, store pointer to said epoch\n",
    "        if e == 0:\n",
    "            best_loss = train_loss\n",
    "            best_epoch = e\n",
    "        elif best_loss > train_loss:\n",
    "            best_loss = train_loss\n",
    "            best_epoch = e\n",
    "\n",
    "        # Decrease learning rate if loss has not been improved over 5 epochs\n",
    "        if best_epoch + 4 == e:\n",
    "            optimizer.param_groups[0]['lr'] *= 0.1\n",
    "            print(\"Decreased LR to {}!\".format(optimizer.param_groups[0]['lr']))\n",
    "\n",
    "            "
   ]
  },
  {
   "cell_type": "markdown",
   "id": "e892c9cb",
   "metadata": {},
   "source": [
    "## Weight Initalization"
   ]
  },
  {
   "cell_type": "markdown",
   "id": "f3d52386",
   "metadata": {},
   "source": [
    "During lecture you saw undesirable property of networks, namely activations either drift apart or converge to zero the deeper we get in our network. This is undesireable as it complicates training. In general we want that activations live in the same distribution across layers. Will make our training more efficient. To demontrate you this consider the example below:"
   ]
  },
  {
   "cell_type": "code",
   "execution_count": 15,
   "id": "562684af",
   "metadata": {},
   "outputs": [],
   "source": [
    "class Network(nn.Module):\n",
    "    \n",
    "    def __init__(self):\n",
    "        super().__init__()\n",
    "        self.layers = nn.Sequential(nn.Linear(10, 100, bias=False),\n",
    "                                    nn.ReLU(),\n",
    "                                    nn.Linear(100, 100, bias=False),\n",
    "                                    nn.ReLU(),\n",
    "                                    nn.Linear(100, 100, bias=False),\n",
    "                                    nn.ReLU(),\n",
    "                                    nn.Linear(100, 1, bias=False),\n",
    "                                   )\n",
    "    \n",
    "    def forward(self, x):\n",
    "        return self.layers(x)\n",
    "\n",
    "def track_activations(activations):\n",
    "    def hook_fun(module, input, output):\n",
    "        activations.append(output.detach())\n",
    "    return hook_fun"
   ]
  },
  {
   "cell_type": "code",
   "execution_count": 16,
   "id": "cafb729c",
   "metadata": {},
   "outputs": [
    {
     "data": {
      "image/png": "[encoded data removed]",
      "text/plain": [
       "<Figure size 1080x1080 with 7 Axes>"
      ]
     },
     "metadata": {
      "needs_background": "light"
     },
     "output_type": "display_data"
    }
   ],
   "source": [
    "x = torch.randn(1000, 10)\n",
    "net = Network()\n",
    "\n",
    "hooks = []\n",
    "activations = []\n",
    "hook_fun = track_activations(activations)\n",
    "\n",
    "for layer in net.layers:\n",
    "    hook = layer.register_forward_hook(hook_fun)\n",
    "    hooks.append(hook)\n",
    "\n",
    "with torch.no_grad():\n",
    "    res = net(x)\n",
    "\n",
    "for hook in hooks:\n",
    "    hook.remove()\n",
    "    \n",
    "plt.figure(figsize=(15, 15))\n",
    "\n",
    "for i, act in enumerate(activations):\n",
    "    plt.subplot(4, 2, i+1)\n",
    "    plt.hist(act.reshape(-1).numpy(), bins=9, density=True, range=(-2.1,2.1))\n",
    "    plt.gca().set_ylim(0, 1)\n",
    "plt.show()"
   ]
  },
  {
   "cell_type": "markdown",
   "id": "dfc61f78",
   "metadata": {},
   "source": [
    "As you can see the activations get smaller and smaller the deeper we go in our network. To dampen this effect we can use weight initalization schemes. You got to know Kaiming He's initialization scheme. Using this scheme we make it so that activations across layers are approximately distributed in the same normal distribution."
   ]
  },
  {
   "cell_type": "markdown",
   "id": "69503adc",
   "metadata": {},
   "source": [
    "### Task 3: Using Weight Initalization\n",
    "\n",
    "Now, initalize the weights of your network before starting training! Use Kaiming He's initialisation which you know from the lecture (see https://pytorch.org/docs/stable/nn.init.html). Write the `init_weight` function which iteratively checks each module and initalizes the weights if the module is of type `nn.Linear`"
   ]
  },
  {
   "cell_type": "code",
   "execution_count": 46,
   "id": "ccfd3662",
   "metadata": {},
   "outputs": [
    {
     "data": {
      "text/plain": [
       "Network(\n",
       "  (layers): Sequential(\n",
       "    (0): Linear(in_features=10, out_features=100, bias=False)\n",
       "    (1): BatchNorm1d(100, eps=1e-05, momentum=0.1, affine=True, track_running_stats=True)\n",
       "    (2): ReLU()\n",
       "    (3): Linear(in_features=100, out_features=100, bias=False)\n",
       "    (4): BatchNorm1d(100, eps=1e-05, momentum=0.1, affine=True, track_running_stats=True)\n",
       "    (5): ReLU()\n",
       "    (6): Linear(in_features=100, out_features=100, bias=False)\n",
       "    (7): BatchNorm1d(100, eps=1e-05, momentum=0.1, affine=True, track_running_stats=True)\n",
       "    (8): ReLU()\n",
       "    (9): Linear(in_features=100, out_features=1, bias=False)\n",
       "  )\n",
       ")"
      ]
     },
     "execution_count": 46,
     "metadata": {},
     "output_type": "execute_result"
    }
   ],
   "source": [
    "def init_weights(m):\n",
    "    if isinstance(m, nn.Linear):\n",
    "        torch.nn.init.kaiming_normal_(m.weight, nonlinearity='relu')\n",
    "        \n",
    "net.apply(init_weights)"
   ]
  },
  {
   "cell_type": "code",
   "execution_count": 28,
   "id": "43f1b6da",
   "metadata": {},
   "outputs": [
    {
     "data": {
      "image/png": "[encoded data removed]",
      "text/plain": [
       "<Figure size 1080x1080 with 7 Axes>"
      ]
     },
     "metadata": {
      "needs_background": "light"
     },
     "output_type": "display_data"
    }
   ],
   "source": [
    "hooks = []\n",
    "activations = []\n",
    "hook_fun = track_activations(activations)\n",
    "\n",
    "for layer in net.layers:\n",
    "    hook = layer.register_forward_hook(hook_fun)\n",
    "    hooks.append(hook)\n",
    "\n",
    "with torch.no_grad():\n",
    "    res = net(x)\n",
    "\n",
    "for hook in hooks:\n",
    "    hook.remove()\n",
    "    \n",
    "plt.figure(figsize=(15, 15))\n",
    "\n",
    "for i, act in enumerate(activations):\n",
    "    plt.subplot(4, 2, i+1)\n",
    "    plt.hist(act.reshape(-1).numpy(), bins=9, density=True, range=(-2.1,2.1))\n",
    "    plt.gca().set_ylim(0, 1)"
   ]
  },
  {
   "cell_type": "markdown",
   "id": "d41df5b4",
   "metadata": {},
   "source": [
    "## BatchNormalization"
   ]
  },
  {
   "cell_type": "markdown",
   "id": "ebfe4ab4",
   "metadata": {},
   "source": [
    "Batch Normalization is another way to ensure that activations across layers stay normally distributed. It more aggressive as in that it intermediatly normalizes the data again."
   ]
  },
  {
   "cell_type": "markdown",
   "id": "003db53b",
   "metadata": {},
   "source": [
    "### Task 4: Using BatchNorm Layers\n",
    "\n",
    "- Extend the network below by adding BatchNorm layers after each Linear layer. Use PyTorch's `BatchNorm1D` class (https://pytorch.org/docs/stable/generated/torch.nn.BatchNorm1d.html) to do so. See how the BatchNorm layer changes your data along the flow of your network."
   ]
  },
  {
   "cell_type": "code",
   "execution_count": 31,
   "id": "6cf58294",
   "metadata": {},
   "outputs": [],
   "source": [
    "class Network(nn.Module):\n",
    "    \n",
    "    def __init__(self):\n",
    "        super().__init__()\n",
    "        self.layers = nn.Sequential(nn.Linear(10, 100, bias=False),\n",
    "                                    nn.BatchNorm1d(100),\n",
    "                                    nn.ReLU(),\n",
    "                                    nn.Linear(100, 100, bias=False),\n",
    "                                    nn.BatchNorm1d(100),\n",
    "                                    nn.ReLU(),\n",
    "                                    nn.Linear(100, 100, bias=False),\n",
    "                                    nn.BatchNorm1d(100),\n",
    "                                    nn.ReLU(),\n",
    "                                    nn.Linear(100, 1, bias=False),\n",
    "                                   )\n",
    "    \n",
    "    def forward(self, x):\n",
    "        return self.layers(x)"
   ]
  },
  {
   "cell_type": "code",
   "execution_count": 32,
   "id": "eaea3700",
   "metadata": {},
   "outputs": [
    {
     "data": {
      "image/png": "[encoded data removed]",
      "text/plain": [
       "<Figure size 1080x1080 with 10 Axes>"
      ]
     },
     "metadata": {
      "needs_background": "light"
     },
     "output_type": "display_data"
    }
   ],
   "source": [
    "x = torch.randn(1000, 10)\n",
    "net = Network()\n",
    "\n",
    "hooks = []\n",
    "activations = []\n",
    "hook_fun = track_activations(activations)\n",
    "\n",
    "for layer in net.layers:\n",
    "    hook = layer.register_forward_hook(hook_fun)\n",
    "    hooks.append(hook)\n",
    "\n",
    "with torch.no_grad():\n",
    "    res = net(x)\n",
    "\n",
    "for hook in hooks:\n",
    "    hook.remove()\n",
    "    \n",
    "plt.figure(figsize=(15, 15))\n",
    "\n",
    "for i, act in enumerate(activations):\n",
    "    plt.subplot(4, 3, i+1)\n",
    "    plt.hist(act.reshape(-1).numpy(), bins=9, density=True, range=(-2.1,2.1))\n",
    "    plt.gca().set_ylim(0, 1)\n",
    "plt.show()"
   ]
  },
  {
   "cell_type": "markdown",
   "id": "758672ea",
   "metadata": {},
   "source": [
    "## Pros and Cons for both methods:\n",
    "- **Weight Initalization:**\n",
    "    - Pro: Minimal computation overhead; Con: Effect wears off the deeper you go\n",
    "- **BatchNorm:**\n",
    "    - Pro: Can be applied even at deep layers; Con: Expensive operation"
   ]
  },
  {
   "cell_type": "markdown",
   "id": "a434a3e6",
   "metadata": {},
   "source": [
    "### Take-Home Assignment 2:\n",
    "- Try incorporating BatchNorm layers and different weight initialisation in your MNIST training code. Play around with deep networks with and without said techniques and exhibit how the loss changes. "
   ]
  },
  {
   "cell_type": "code",
   "execution_count": 33,
   "id": "29a1b1aa",
   "metadata": {},
   "outputs": [],
   "source": [
    "class FullyConnectedNet(nn.Module):\n",
    "    def __init__(self):\n",
    "        super().__init__()\n",
    "        self.input_layer = nn.Linear(in_features=28*28, out_features=32)\n",
    "        self.input_relu = nn.ReLU()\n",
    "        self.hidden_1_linear = nn.Linear(in_features=32, out_features=32)\n",
    "        self.hidden_1_relu = nn.ReLU()\n",
    "        self.hidden_2_linear = nn.Linear(in_features=32, out_features=32)\n",
    "        self.hidden_2_batchnorm = nn.BatchNorm1d(num_features=32)\n",
    "        self.hidden_2_relu = nn.ReLU()\n",
    "        self.output_layer = nn.Linear(32, 10)\n",
    "    \n",
    "    def forward(self, x):\n",
    "        x = x.reshape(-1, 28*28)\n",
    "        x = self.input_layer(x)\n",
    "        x = self.input_relu(x)\n",
    "        x = self.hidden_1_linear(x)\n",
    "        x = self.hidden_1_relu(x)\n",
    "        x = self.hidden_2_linear(x)\n",
    "        x = self.hidden_2_batchnorm(x)\n",
    "        x = self.hidden_2_relu(x)\n",
    "        x = self.output_layer(x)\n",
    "        return x"
   ]
  },
  {
   "cell_type": "code",
   "execution_count": 34,
   "id": "66fccda9",
   "metadata": {},
   "outputs": [
    {
     "name": "stdout",
     "output_type": "stream",
     "text": [
      "Downloading http://yann.lecun.com/exdb/mnist/train-images-idx3-ubyte.gz\n",
      "Downloading http://yann.lecun.com/exdb/mnist/train-images-idx3-ubyte.gz to data/MNIST/raw/train-images-idx3-ubyte.gz\n"
     ]
    },
    {
     "data": {
      "application/vnd.jupyter.widget-view+json": {
       "model_id": "d6d7cf19578947d1beec83438a8c72e7",
       "version_major": 2,
       "version_minor": 0
      },
      "text/plain": [
       "  0%|          | 0/9912422 [00:00<?, ?it/s]"
      ]
     },
     "metadata": {},
     "output_type": "display_data"
    },
    {
     "name": "stdout",
     "output_type": "stream",
     "text": [
      "Extracting data/MNIST/raw/train-images-idx3-ubyte.gz to data/MNIST/raw\n",
      "\n",
      "Downloading http://yann.lecun.com/exdb/mnist/train-labels-idx1-ubyte.gz\n",
      "Downloading http://yann.lecun.com/exdb/mnist/train-labels-idx1-ubyte.gz to data/MNIST/raw/train-labels-idx1-ubyte.gz\n"
     ]
    },
    {
     "data": {
      "application/vnd.jupyter.widget-view+json": {
       "model_id": "e35ab680d37e42b6b85bedd15db76997",
       "version_major": 2,
       "version_minor": 0
      },
      "text/plain": [
       "  0%|          | 0/28881 [00:00<?, ?it/s]"
      ]
     },
     "metadata": {},
     "output_type": "display_data"
    },
    {
     "name": "stdout",
     "output_type": "stream",
     "text": [
      "Extracting data/MNIST/raw/train-labels-idx1-ubyte.gz to data/MNIST/raw\n",
      "\n",
      "Downloading http://yann.lecun.com/exdb/mnist/t10k-images-idx3-ubyte.gz\n",
      "Downloading http://yann.lecun.com/exdb/mnist/t10k-images-idx3-ubyte.gz to data/MNIST/raw/t10k-images-idx3-ubyte.gz\n"
     ]
    },
    {
     "data": {
      "application/vnd.jupyter.widget-view+json": {
       "model_id": "305cd50ac5124e68bc86e5b8c83ffc5e",
       "version_major": 2,
       "version_minor": 0
      },
      "text/plain": [
       "  0%|          | 0/1648877 [00:00<?, ?it/s]"
      ]
     },
     "metadata": {},
     "output_type": "display_data"
    },
    {
     "name": "stdout",
     "output_type": "stream",
     "text": [
      "Extracting data/MNIST/raw/t10k-images-idx3-ubyte.gz to data/MNIST/raw\n",
      "\n",
      "Downloading http://yann.lecun.com/exdb/mnist/t10k-labels-idx1-ubyte.gz\n",
      "Downloading http://yann.lecun.com/exdb/mnist/t10k-labels-idx1-ubyte.gz to data/MNIST/raw/t10k-labels-idx1-ubyte.gz\n"
     ]
    },
    {
     "data": {
      "application/vnd.jupyter.widget-view+json": {
       "model_id": "4c96a6e6715e40029917692f8c4c2e04",
       "version_major": 2,
       "version_minor": 0
      },
      "text/plain": [
       "  0%|          | 0/4542 [00:00<?, ?it/s]"
      ]
     },
     "metadata": {},
     "output_type": "display_data"
    },
    {
     "name": "stdout",
     "output_type": "stream",
     "text": [
      "Extracting data/MNIST/raw/t10k-labels-idx1-ubyte.gz to data/MNIST/raw\n",
      "\n",
      "Epoch: 1/10; Training loss: 0.3898112177848816; Validation loss 0.27868813276290894\n",
      "Epoch: 2/10; Training loss: 0.25290828943252563; Validation loss 0.22320622205734253\n",
      "Epoch: 3/10; Training loss: 0.2176360785961151; Validation loss 0.20076848566532135\n",
      "Epoch: 4/10; Training loss: 0.19657307863235474; Validation loss 0.21705175936222076\n",
      "Epoch: 5/10; Training loss: 0.18939712643623352; Validation loss 0.17763887345790863\n",
      "Epoch: 6/10; Training loss: 0.17530956864356995; Validation loss 0.18481600284576416\n",
      "Epoch: 7/10; Training loss: 0.16230031847953796; Validation loss 0.22428786754608154\n",
      "Epoch: 8/10; Training loss: 0.15697772800922394; Validation loss 0.16873012483119965\n",
      "Epoch: 9/10; Training loss: 0.148495152592659; Validation loss 0.18567512929439545\n",
      "Epoch: 10/10; Training loss: 0.14667008817195892; Validation loss 0.19929273426532745\n"
     ]
    }
   ],
   "source": [
    "from torch.utils.data import DataLoader\n",
    "from torchvision.datasets import MNIST\n",
    "from torchvision import transforms\n",
    "\n",
    "lr = 0.1\n",
    "epochs = 10\n",
    "\n",
    "loss_fun = nn.CrossEntropyLoss()\n",
    "network = FullyConnectedNet()\n",
    "optimizer = torch.optim.Adam(network.parameters(), lr)\n",
    "\n",
    "# transforms.Compose = combine different transformations which should be on all instances\n",
    "transform=transforms.Compose([\n",
    "    transforms.ToTensor(),\n",
    "    # Applies Z-Score normalisation on data (mean and std of MNIST dataset)\n",
    "    transforms.Normalize((0.1307,), (0.3081,))\n",
    "])\n",
    "\n",
    "# weight initalization\n",
    "network.apply(init_weights)\n",
    "\n",
    "train_set = MNIST('data', download=True, transform=transform)\n",
    "val_set = MNIST('data', train=False, transform=transform)\n",
    "\n",
    "train_loader = DataLoader(train_set, batch_size=100, shuffle=True)\n",
    "val_loader = DataLoader(val_set, batch_size=100, shuffle=False)\n",
    "        \n",
    "train_loop_schedule(train_loader, val_loader, network, loss_fun, optimizer, epochs)"
   ]
  },
  {
   "cell_type": "code",
   "execution_count": null,
   "id": "f9990080",
   "metadata": {},
   "outputs": [],
   "source": []
  }
 ],
 "metadata": {
  "kernelspec": {
   "display_name": "Python 3 (ipykernel)",
   "language": "python",
   "name": "python3"
  },
  "language_info": {
   "codemirror_mode": {
    "name": "ipython",
    "version": 3
   },
   "file_extension": ".py",
   "mimetype": "text/x-python",
   "name": "python",
   "nbconvert_exporter": "python",
   "pygments_lexer": "ipython3",
   "version": "3.9.12"
  }
 },
 "nbformat": 4,
 "nbformat_minor": 5
}
