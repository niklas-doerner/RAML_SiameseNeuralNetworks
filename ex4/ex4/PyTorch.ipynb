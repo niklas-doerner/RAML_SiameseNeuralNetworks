{
 "cells": [
  {
   "cell_type": "code",
   "execution_count": 1,
   "metadata": {},
   "outputs": [],
   "source": [
    "%load_ext autoreload\n",
    "%autoreload 2"
   ]
  },
  {
   "cell_type": "code",
   "execution_count": 2,
   "metadata": {},
   "outputs": [],
   "source": [
    "import numpy as np\n",
    "import matplotlib.pyplot as plt"
   ]
  },
  {
   "cell_type": "markdown",
   "metadata": {},
   "source": [
    "# Introduction to PyTorch"
   ]
  },
  {
   "cell_type": "markdown",
   "metadata": {},
   "source": [
    "In the last exercise we discussed the mechanisms of gradient backpropagation and implemented the corresponding functionality in the ``toolbox`` module. This exercise introduces PyTorch, a Deep Learning framework providing powerful tools for simple and efficient implementations of neural networks.\n",
    "\n",
    "First, we need to import the corresponding Python module:"
   ]
  },
  {
   "cell_type": "code",
   "execution_count": 3,
   "metadata": {},
   "outputs": [],
   "source": [
    "import torch"
   ]
  },
  {
   "cell_type": "markdown",
   "metadata": {},
   "source": [
    "The basic building block of PyTorch are Tensors, which behave very similar to the class ``toolbox.Tensor`` from last week. Tensors can be initialized by passing a NumPy array or by calling dedicated functions with syntax similar to NumPy:"
   ]
  },
  {
   "cell_type": "code",
   "execution_count": 4,
   "metadata": {},
   "outputs": [],
   "source": [
    "a = torch.tensor(np.array([[1., 2.], [3., 4.]]))\n",
    "b = torch.ones(2, 2)\n",
    "c = torch.empty(5)"
   ]
  },
  {
   "cell_type": "code",
   "execution_count": 5,
   "metadata": {},
   "outputs": [
    {
     "name": "stdout",
     "output_type": "stream",
     "text": [
      "tensor([[1., 2.],\n",
      "        [3., 4.]], dtype=torch.float64)\n",
      "tensor([[1., 1.],\n",
      "        [1., 1.]])\n",
      "tensor([-3.2278e-27,  4.5890e-41, -3.2278e-27,  4.5890e-41,  0.0000e+00])\n"
     ]
    }
   ],
   "source": [
    "print(a)\n",
    "print(b)\n",
    "print(c)"
   ]
  },
  {
   "cell_type": "markdown",
   "metadata": {},
   "source": [
    "PyTorch features the same mechanism for gradient backpropagation as developed in last week's exercise and even provides the same attribute names:\n",
    "- ``data`` stores the internal data of the tensor representing its value.\n",
    "- ``requires_grad`` specifies if the tensor participates in the build-up of the computation graph.\n",
    "- ``grad`` keeps a tensor storing the gradient of the last backpropagation for leaf nodes of the graph with ``requires_grad=True``.\n",
    "- ``grad_fn`` points to the operation generating the tensor; ``None`` if the tensor is a leaf node.\n",
    "\n",
    "Again, the backpropagation is initiated by calling ``backward`` on a tensor."
   ]
  },
  {
   "cell_type": "code",
   "execution_count": 6,
   "metadata": {},
   "outputs": [],
   "source": [
    "a = torch.tensor(1., requires_grad=True)\n",
    "b = torch.tensor(2.)"
   ]
  },
  {
   "cell_type": "code",
   "execution_count": 7,
   "metadata": {},
   "outputs": [],
   "source": [
    "c = a + b\n",
    "d = c + a\n",
    "d = d * d"
   ]
  },
  {
   "cell_type": "code",
   "execution_count": 8,
   "metadata": {},
   "outputs": [
    {
     "name": "stderr",
     "output_type": "stream",
     "text": [
      "/home/nd/anaconda3/lib/python3.9/site-packages/torch/autograd/__init__.py:197: UserWarning: CUDA initialization: The NVIDIA driver on your system is too old (found version 10010). Please update your GPU driver by downloading and installing a new version from the URL: http://www.nvidia.com/Download/index.aspx Alternatively, go to: https://pytorch.org to install a PyTorch version that has been compiled with your version of the CUDA driver. (Triggered internally at /opt/conda/conda-bld/pytorch_1666642975993/work/c10/cuda/CUDAFunctions.cpp:109.)\n",
      "  Variable._execution_engine.run_backward(  # Calls into the C++ engine to run the backward pass\n"
     ]
    }
   ],
   "source": [
    "d.backward()"
   ]
  },
  {
   "cell_type": "code",
   "execution_count": 9,
   "metadata": {},
   "outputs": [
    {
     "name": "stdout",
     "output_type": "stream",
     "text": [
      "tensor(16.)\n",
      "None\n",
      "<AddBackward0 object at 0x7fec56e768b0>\n",
      "<MulBackward0 object at 0x7fec56e76af0>\n"
     ]
    }
   ],
   "source": [
    "print(a.grad)\n",
    "print(b.grad)\n",
    "print(c.grad_fn)\n",
    "print(d.grad_fn)"
   ]
  },
  {
   "cell_type": "markdown",
   "metadata": {},
   "source": [
    "Again, computation graphs will not be held alive causing errors when calling ``backward`` multiple times:"
   ]
  },
  {
   "cell_type": "code",
   "execution_count": 10,
   "metadata": {
    "scrolled": true
   },
   "outputs": [
    {
     "name": "stdout",
     "output_type": "stream",
     "text": [
      "Not working...\n"
     ]
    }
   ],
   "source": [
    "try:\n",
    "    d.backward()\n",
    "except:\n",
    "    print(\"Not working...\")"
   ]
  },
  {
   "cell_type": "markdown",
   "metadata": {},
   "source": [
    "## Inference"
   ]
  },
  {
   "cell_type": "markdown",
   "metadata": {},
   "source": [
    "At inference time one usually does not want to bulild up the computation graph for calculating the gradients as it's computationally expensive and bears the danger of memory leakage. Therefore PyTorch provides the context manager ``torch.no_grad`` for disabling gradient computations:"
   ]
  },
  {
   "cell_type": "code",
   "execution_count": 11,
   "metadata": {},
   "outputs": [
    {
     "name": "stdout",
     "output_type": "stream",
     "text": [
      "Not working...\n"
     ]
    }
   ],
   "source": [
    "a = torch.tensor(1., requires_grad=True)\n",
    "b = torch.tensor(2.)\n",
    "\n",
    "with torch.no_grad():\n",
    "    c = a + b\n",
    "\n",
    "try:\n",
    "    c.backward()\n",
    "except:\n",
    "    print(\"Not working...\")"
   ]
  },
  {
   "cell_type": "markdown",
   "metadata": {},
   "source": [
    "## CUDA [Only works on systems with a GPU - not required for the graded task]"
   ]
  },
  {
   "cell_type": "markdown",
   "metadata": {},
   "source": [
    "Until now, all computations in this exercise class were carried out on a CPU. The hardware of choice for Deep Learning applications, however, are GPUs. The high amount of parallelization and efficient calculation of simple operations on GPUs are highly beneficial for training and inference in artificial neural networks. Therefore, all major Deep Learning frameworks offer the possibility of utilizing GPUs.\n",
    "\n",
    "In PyTorch we can move a tensor to the GPU by simply calling the function ``cuda`` returning a pointer to the tensor. The device of a tensor can be determined using the ``device`` attribute."
   ]
  },
  {
   "cell_type": "code",
   "execution_count": 12,
   "metadata": {},
   "outputs": [
    {
     "name": "stdout",
     "output_type": "stream",
     "text": [
      "cpu\n"
     ]
    }
   ],
   "source": [
    "a = torch.tensor(2.)\n",
    "print(a.device)"
   ]
  },
  {
   "cell_type": "code",
   "execution_count": 13,
   "metadata": {},
   "outputs": [
    {
     "ename": "RuntimeError",
     "evalue": "The NVIDIA driver on your system is too old (found version 10010). Please update your GPU driver by downloading and installing a new version from the URL: http://www.nvidia.com/Download/index.aspx Alternatively, go to: https://pytorch.org to install a PyTorch version that has been compiled with your version of the CUDA driver.",
     "output_type": "error",
     "traceback": [
      "\u001b[0;31m---------------------------------------------------------------------------\u001b[0m",
      "\u001b[0;31mRuntimeError\u001b[0m                              Traceback (most recent call last)",
      "Input \u001b[0;32mIn [13]\u001b[0m, in \u001b[0;36m<cell line: 1>\u001b[0;34m()\u001b[0m\n\u001b[0;32m----> 1\u001b[0m a \u001b[38;5;241m=\u001b[39m \u001b[43ma\u001b[49m\u001b[38;5;241;43m.\u001b[39;49m\u001b[43mcuda\u001b[49m\u001b[43m(\u001b[49m\u001b[43m)\u001b[49m\n\u001b[1;32m      2\u001b[0m \u001b[38;5;28mprint\u001b[39m(a\u001b[38;5;241m.\u001b[39mdevice)\n",
      "File \u001b[0;32m~/anaconda3/lib/python3.9/site-packages/torch/cuda/__init__.py:229\u001b[0m, in \u001b[0;36m_lazy_init\u001b[0;34m()\u001b[0m\n\u001b[1;32m    227\u001b[0m \u001b[38;5;28;01mif\u001b[39;00m \u001b[38;5;124m'\u001b[39m\u001b[38;5;124mCUDA_MODULE_LOADING\u001b[39m\u001b[38;5;124m'\u001b[39m \u001b[38;5;129;01mnot\u001b[39;00m \u001b[38;5;129;01min\u001b[39;00m os\u001b[38;5;241m.\u001b[39menviron:\n\u001b[1;32m    228\u001b[0m     os\u001b[38;5;241m.\u001b[39menviron[\u001b[38;5;124m'\u001b[39m\u001b[38;5;124mCUDA_MODULE_LOADING\u001b[39m\u001b[38;5;124m'\u001b[39m] \u001b[38;5;241m=\u001b[39m \u001b[38;5;124m'\u001b[39m\u001b[38;5;124mLAZY\u001b[39m\u001b[38;5;124m'\u001b[39m\n\u001b[0;32m--> 229\u001b[0m \u001b[43mtorch\u001b[49m\u001b[38;5;241;43m.\u001b[39;49m\u001b[43m_C\u001b[49m\u001b[38;5;241;43m.\u001b[39;49m\u001b[43m_cuda_init\u001b[49m\u001b[43m(\u001b[49m\u001b[43m)\u001b[49m\n\u001b[1;32m    230\u001b[0m \u001b[38;5;66;03m# Some of the queued calls may reentrantly call _lazy_init();\u001b[39;00m\n\u001b[1;32m    231\u001b[0m \u001b[38;5;66;03m# we need to just return without initializing in that case.\u001b[39;00m\n\u001b[1;32m    232\u001b[0m \u001b[38;5;66;03m# However, we must not let any *other* threads in!\u001b[39;00m\n\u001b[1;32m    233\u001b[0m _tls\u001b[38;5;241m.\u001b[39mis_initializing \u001b[38;5;241m=\u001b[39m \u001b[38;5;28;01mTrue\u001b[39;00m\n",
      "\u001b[0;31mRuntimeError\u001b[0m: The NVIDIA driver on your system is too old (found version 10010). Please update your GPU driver by downloading and installing a new version from the URL: http://www.nvidia.com/Download/index.aspx Alternatively, go to: https://pytorch.org to install a PyTorch version that has been compiled with your version of the CUDA driver."
     ]
    }
   ],
   "source": [
    "a = a.cuda()\n",
    "print(a.device)"
   ]
  },
  {
   "cell_type": "markdown",
   "metadata": {},
   "source": [
    "In the above output, ``cuda`` means that the tensor is located on a GPU and the number after the colon specifies the device among all available GPUs."
   ]
  },
  {
   "cell_type": "markdown",
   "metadata": {},
   "source": [
    "## Data sets"
   ]
  },
  {
   "cell_type": "markdown",
   "metadata": {},
   "source": [
    "Data are one driving force in the field of machine learning and therefore it is important to deal with data properly. Luckily, PyTorch provides some handy tools which make the treatment of data very easy. The base class for representing data sets is ``torch.utils.data.Dataset``. This class overloads the functions ``__len__`` and ``__getitem__`` which allow us to easily access data contained in the set as we know it for example from Pythons lists.\n",
    "\n",
    "PyTorch already comprises wrapper classes for some poular data sets in ``torchvision.datasets``. To get started, we will use the MNIST data set of handwritten digits from LeCun et al. http://yann.lecun.com/exdb/mnist/. The argument ``transform`` below forces the data to be converted to PyTorch Tensors."
   ]
  },
  {
   "cell_type": "code",
   "execution_count": 14,
   "metadata": {},
   "outputs": [],
   "source": [
    "from torchvision.datasets import MNIST\n",
    "from torchvision import transforms"
   ]
  },
  {
   "cell_type": "code",
   "execution_count": 15,
   "metadata": {},
   "outputs": [],
   "source": [
    "train_set = MNIST('data', download=True, transform=transforms.ToTensor())\n",
    "test_set = MNIST('data', train=False, transform=transforms.ToTensor())"
   ]
  },
  {
   "cell_type": "code",
   "execution_count": 16,
   "metadata": {},
   "outputs": [
    {
     "name": "stdout",
     "output_type": "stream",
     "text": [
      "60000\n",
      "10000\n"
     ]
    }
   ],
   "source": [
    "print(len(train_set))\n",
    "print(len(test_set))"
   ]
  },
  {
   "cell_type": "markdown",
   "metadata": {},
   "source": [
    "The single elements of these data sets are tuples containing an image representing a handwritten digit stored as an array in a PyTorch Tensor and the corresponding value of the digit as label."
   ]
  },
  {
   "cell_type": "code",
   "execution_count": 17,
   "metadata": {},
   "outputs": [
    {
     "name": "stdout",
     "output_type": "stream",
     "text": [
      "<class 'tuple'>\n",
      "torch.Size([1, 28, 28])\n",
      "2\n"
     ]
    }
   ],
   "source": [
    "el = train_set[5]\n",
    "print(type(el))\n",
    "print(el[0].shape)\n",
    "print(el[1])"
   ]
  },
  {
   "cell_type": "markdown",
   "metadata": {},
   "source": [
    "So we know the value of the digit represented in the image is 5. We can show the corresponding image using ``matplotlib.pyplot.imshow``."
   ]
  },
  {
   "cell_type": "code",
   "execution_count": 18,
   "metadata": {},
   "outputs": [
    {
     "data": {
      "text/plain": [
       "Text(0.5, 1.0, 'Label: 2')"
      ]
     },
     "execution_count": 18,
     "metadata": {},
     "output_type": "execute_result"
    },
    {
     "data": {
      "image/png": "[encoded data removed]",
      "text/plain": [
       "<Figure size 432x288 with 1 Axes>"
      ]
     },
     "metadata": {
      "needs_background": "light"
     },
     "output_type": "display_data"
    }
   ],
   "source": [
    "plt.imshow(el[0][0], cmap='gray', vmin=0., vmax=1.)\n",
    "plt.title('Label: {}'.format(el[1]))"
   ]
  },
  {
   "cell_type": "markdown",
   "metadata": {},
   "source": [
    "Note that ``imshow`` requires grayscale images to be of size $H\\times W$ but ``el`` is of size $1\\times H \\times W$. The reason therefor is that images are in general represented as $C \\times H \\times W$ arrays, where $C$ denotes the number of channels of the image. For color images $C$ typically amounts to $3$, for grayscale images to $1$."
   ]
  },
  {
   "cell_type": "markdown",
   "metadata": {},
   "source": [
    "## Data loaders"
   ]
  },
  {
   "cell_type": "markdown",
   "metadata": {},
   "source": [
    "Equally important as the data itself is the process of loading it efficiently to the processing unit. PyTorch provides an easy interface for tackling this problem. Most of the time, we also want mini-batches of data rather than single elements of our data set. The class ``DataLoader`` from ``torch.utils.data`` takes care of this and we only have to provide the data set and define the batch size. Additionally, we may specify further arguments like whether we want the data to be shuffled or the number of workers involved in the process of loading the data."
   ]
  },
  {
   "cell_type": "code",
   "execution_count": 19,
   "metadata": {},
   "outputs": [],
   "source": [
    "from torch.utils.data import DataLoader"
   ]
  },
  {
   "cell_type": "code",
   "execution_count": 20,
   "metadata": {},
   "outputs": [],
   "source": [
    "train_loader = DataLoader(train_set, batch_size=4, num_workers=4, shuffle=True)"
   ]
  },
  {
   "cell_type": "markdown",
   "metadata": {},
   "source": [
    "Let's have a look at one of the mini-batches:"
   ]
  },
  {
   "cell_type": "code",
   "execution_count": 21,
   "metadata": {},
   "outputs": [],
   "source": [
    "batch = next(iter(train_loader))\n",
    "\n",
    "data = batch[0]\n",
    "labels = batch[1]"
   ]
  },
  {
   "cell_type": "code",
   "execution_count": 22,
   "metadata": {},
   "outputs": [
    {
     "name": "stdout",
     "output_type": "stream",
     "text": [
      "<class 'list'>\n",
      "torch.Size([4, 1, 28, 28])\n"
     ]
    }
   ],
   "source": [
    "print(type(batch))\n",
    "print(batch[0].shape)"
   ]
  },
  {
   "cell_type": "markdown",
   "metadata": {},
   "source": [
    "The shape of the array has increased by the first dimension related to the differnt batch elements, i.e. the general shape for images in mini-batches is $B \\times C \\times H \\times W$ where $B$ is the batch size. Let's visualize the images of this mini-batch:"
   ]
  },
  {
   "cell_type": "code",
   "execution_count": 23,
   "metadata": {},
   "outputs": [
    {
     "data": {
      "image/png": "[encoded data removed]",
      "text/plain": [
       "<Figure size 432x288 with 4 Axes>"
      ]
     },
     "metadata": {
      "needs_background": "light"
     },
     "output_type": "display_data"
    }
   ],
   "source": [
    "for i in range(4):\n",
    "    plt.subplot(1, 4, i+1)\n",
    "    plt.imshow(data[i, 0], cmap='gray', vmin=0., vmax=1.)\n",
    "    plt.title('Label: {}'.format(labels[i]))"
   ]
  },
  {
   "cell_type": "markdown",
   "metadata": {},
   "source": [
    "Note that the elements are randomly shuffled each time we iterate over the data loader."
   ]
  },
  {
   "cell_type": "markdown",
   "metadata": {},
   "source": [
    "## Network"
   ]
  },
  {
   "cell_type": "markdown",
   "metadata": {},
   "source": [
    "Similar to our ``toolbox.Module``, PyTorch defines ``Module`` in ``torch.nn`` which serves as base class for neural networks and their layers. For defining a network, you have to inherit from ``torch.nn.Module`` and define the ``forward`` function. Furthermore, ``torch.nn`` provides you with a broad variety of pre-implemented tools and layers you can use in your network. To get a first impression, have a look at the code below:"
   ]
  },
  {
   "cell_type": "code",
   "execution_count": 24,
   "metadata": {},
   "outputs": [],
   "source": [
    "import torch.nn as nn"
   ]
  },
  {
   "cell_type": "code",
   "execution_count": 25,
   "metadata": {},
   "outputs": [],
   "source": [
    "class SimpleNet(nn.Module):\n",
    "    \n",
    "    def __init__(self):\n",
    "        super().__init__()\n",
    "        self.layer1 = nn.Linear(28*28, 20)\n",
    "        self.layer2 = nn.ReLU()\n",
    "        self.layer3 = nn.Linear(20, 10)\n",
    "    \n",
    "    def forward(self, x):\n",
    "        x = x.reshape(-1, 28*28)\n",
    "        x = self.layer1(x)\n",
    "        x = self.layer2(x)\n",
    "        x = self.layer3(x)\n",
    "        return x"
   ]
  },
  {
   "cell_type": "markdown",
   "metadata": {},
   "source": [
    "Let's go through this: In the constructor we instantiate a couple of layers we want to use in the forward pass. For the linear layer we have to specifty the input and output dimensions of our linear transformations. The batch sizes usually are excluded from these size considerations as the data is procesed separately for each element in the mini-batch. To shed light on this mechanism, consider ``layer3``. It expects inputs of size $B \\times 20$, multiplies each element of the batch with a matrix of size $10 \\times 20$ (and possibly adds some vector afterwards) and outputs the transformed data of size $B \\times 10$.\n",
    "\n",
    "In order to be able to pass an image to a linear layer, we have to resize the image with the dimensions $B \\times C \\times H \\times W$ to a vector of size $B \\times \\left( C \\cdot H \\cdot W \\right)$. The forward pass of an object of type ``torch.nn.Module`` can be performed by simply calling the object itself like this:"
   ]
  },
  {
   "cell_type": "code",
   "execution_count": 26,
   "metadata": {},
   "outputs": [],
   "source": [
    "network = SimpleNet()"
   ]
  },
  {
   "cell_type": "code",
   "execution_count": 27,
   "metadata": {},
   "outputs": [
    {
     "name": "stdout",
     "output_type": "stream",
     "text": [
      "torch.Size([4, 10])\n"
     ]
    }
   ],
   "source": [
    "with torch.no_grad():\n",
    "    output = network(batch[0])\n",
    "print(output.shape)"
   ]
  },
  {
   "cell_type": "code",
   "execution_count": 28,
   "metadata": {},
   "outputs": [
    {
     "name": "stdout",
     "output_type": "stream",
     "text": [
      "tensor([4, 5, 5, 0])\n",
      "tensor([6, 6, 3, 6])\n"
     ]
    }
   ],
   "source": [
    "_, pred_labels = output.max(dim=1)\n",
    "\n",
    "print(pred_labels)\n",
    "print(labels)"
   ]
  },
  {
   "cell_type": "markdown",
   "metadata": {},
   "source": [
    "We have set the output of the last layer to be of size ten as we want to predict one out of ten labels. We would like our network to assign the highest value of the output on the coordinate corresponding to the correct label. As discussed earlier, the cross entropy loss is suitable for classification tasks penalizing high output values on the wrong labels."
   ]
  },
  {
   "cell_type": "code",
   "execution_count": 29,
   "metadata": {},
   "outputs": [],
   "source": [
    "loss_fun = nn.CrossEntropyLoss()"
   ]
  },
  {
   "cell_type": "code",
   "execution_count": 30,
   "metadata": {},
   "outputs": [
    {
     "name": "stdout",
     "output_type": "stream",
     "text": [
      "tensor(2.2952)\n"
     ]
    }
   ],
   "source": [
    "loss = loss_fun(output, labels)\n",
    "print(loss)"
   ]
  },
  {
   "cell_type": "markdown",
   "metadata": {},
   "source": [
    "## Parameters"
   ]
  },
  {
   "cell_type": "markdown",
   "metadata": {},
   "source": [
    "As soon as it comes to training, we want to modify the network's parameters in order to decrease the loss on the training set. We can access the learnable parameters of a network by calling its ``parameters`` function."
   ]
  },
  {
   "cell_type": "code",
   "execution_count": 31,
   "metadata": {},
   "outputs": [],
   "source": [
    "params = network.parameters()"
   ]
  },
  {
   "cell_type": "code",
   "execution_count": 32,
   "metadata": {},
   "outputs": [
    {
     "name": "stdout",
     "output_type": "stream",
     "text": [
      "torch.Size([20, 784])\n",
      "torch.Size([20])\n",
      "torch.Size([10, 20])\n",
      "torch.Size([10])\n"
     ]
    }
   ],
   "source": [
    "for param in params:\n",
    "    print(param.shape)"
   ]
  },
  {
   "cell_type": "markdown",
   "metadata": {},
   "source": [
    "In our case the parameters of the network are the weights and biases of the two linear layers."
   ]
  },
  {
   "cell_type": "markdown",
   "metadata": {},
   "source": [
    "## Adding multiple layers to a network"
   ]
  },
  {
   "cell_type": "markdown",
   "metadata": {},
   "source": [
    "As the number of layers increases, adding every single layer to the attribute list of the network and explicitly iterating over them in the forward pass can be tedious. A convenient alternative in this case is PyTorch's container class ``torch.nn.Sequential`` which allows you to condense multiple layers into a single ``Module`` object. The usage is straight-forward as you can see in the following example:"
   ]
  },
  {
   "cell_type": "code",
   "execution_count": 33,
   "metadata": {},
   "outputs": [],
   "source": [
    "class SimpleNet2(nn.Module):\n",
    "    \n",
    "    def __init__(self):\n",
    "        super().__init__()\n",
    "        self.layers = nn.Sequential(nn.Linear(28*28, 20), nn.ReLU(), nn.Linear(20, 10))\n",
    "    \n",
    "    def forward(self, x):\n",
    "        x = x.view(-1, 28*28)\n",
    "        x = self.layers(x)\n",
    "        return x"
   ]
  },
  {
   "cell_type": "markdown",
   "metadata": {},
   "source": [
    "**NOTE:** It is not sufficient to store the network's layers in a list as we did in our own ``Network`` class from the second last exercise class. Even though you would still be able to perform a forward pass, the layers are not registered as submodules of the network object and therefore their parameters can't be accessed using the ``parameters`` function."
   ]
  },
  {
   "cell_type": "markdown",
   "metadata": {},
   "source": [
    "## Training on GPU [Only works on systems with a GPU - not required for the graded task]"
   ]
  },
  {
   "cell_type": "markdown",
   "metadata": {},
   "source": [
    "In order to perform training or inference of a network on a GPU we have to move the data as well as the network itself to the GPU. This again works by simply calling the ``cuda`` function."
   ]
  },
  {
   "cell_type": "code",
   "execution_count": 34,
   "metadata": {},
   "outputs": [
    {
     "ename": "RuntimeError",
     "evalue": "The NVIDIA driver on your system is too old (found version 10010). Please update your GPU driver by downloading and installing a new version from the URL: http://www.nvidia.com/Download/index.aspx Alternatively, go to: https://pytorch.org to install a PyTorch version that has been compiled with your version of the CUDA driver.",
     "output_type": "error",
     "traceback": [
      "\u001b[0;31m---------------------------------------------------------------------------\u001b[0m",
      "\u001b[0;31mRuntimeError\u001b[0m                              Traceback (most recent call last)",
      "Input \u001b[0;32mIn [34]\u001b[0m, in \u001b[0;36m<cell line: 1>\u001b[0;34m()\u001b[0m\n\u001b[0;32m----> 1\u001b[0m data, labels \u001b[38;5;241m=\u001b[39m \u001b[43mdata\u001b[49m\u001b[38;5;241;43m.\u001b[39;49m\u001b[43mcuda\u001b[49m\u001b[43m(\u001b[49m\u001b[43m)\u001b[49m, labels\u001b[38;5;241m.\u001b[39mcuda()\n\u001b[1;32m      2\u001b[0m network \u001b[38;5;241m=\u001b[39m network\u001b[38;5;241m.\u001b[39mcuda()\n\u001b[1;32m      4\u001b[0m \u001b[38;5;28;01mwith\u001b[39;00m torch\u001b[38;5;241m.\u001b[39mno_grad():\n",
      "File \u001b[0;32m~/anaconda3/lib/python3.9/site-packages/torch/cuda/__init__.py:229\u001b[0m, in \u001b[0;36m_lazy_init\u001b[0;34m()\u001b[0m\n\u001b[1;32m    227\u001b[0m \u001b[38;5;28;01mif\u001b[39;00m \u001b[38;5;124m'\u001b[39m\u001b[38;5;124mCUDA_MODULE_LOADING\u001b[39m\u001b[38;5;124m'\u001b[39m \u001b[38;5;129;01mnot\u001b[39;00m \u001b[38;5;129;01min\u001b[39;00m os\u001b[38;5;241m.\u001b[39menviron:\n\u001b[1;32m    228\u001b[0m     os\u001b[38;5;241m.\u001b[39menviron[\u001b[38;5;124m'\u001b[39m\u001b[38;5;124mCUDA_MODULE_LOADING\u001b[39m\u001b[38;5;124m'\u001b[39m] \u001b[38;5;241m=\u001b[39m \u001b[38;5;124m'\u001b[39m\u001b[38;5;124mLAZY\u001b[39m\u001b[38;5;124m'\u001b[39m\n\u001b[0;32m--> 229\u001b[0m \u001b[43mtorch\u001b[49m\u001b[38;5;241;43m.\u001b[39;49m\u001b[43m_C\u001b[49m\u001b[38;5;241;43m.\u001b[39;49m\u001b[43m_cuda_init\u001b[49m\u001b[43m(\u001b[49m\u001b[43m)\u001b[49m\n\u001b[1;32m    230\u001b[0m \u001b[38;5;66;03m# Some of the queued calls may reentrantly call _lazy_init();\u001b[39;00m\n\u001b[1;32m    231\u001b[0m \u001b[38;5;66;03m# we need to just return without initializing in that case.\u001b[39;00m\n\u001b[1;32m    232\u001b[0m \u001b[38;5;66;03m# However, we must not let any *other* threads in!\u001b[39;00m\n\u001b[1;32m    233\u001b[0m _tls\u001b[38;5;241m.\u001b[39mis_initializing \u001b[38;5;241m=\u001b[39m \u001b[38;5;28;01mTrue\u001b[39;00m\n",
      "\u001b[0;31mRuntimeError\u001b[0m: The NVIDIA driver on your system is too old (found version 10010). Please update your GPU driver by downloading and installing a new version from the URL: http://www.nvidia.com/Download/index.aspx Alternatively, go to: https://pytorch.org to install a PyTorch version that has been compiled with your version of the CUDA driver."
     ]
    }
   ],
   "source": [
    "data, labels = data.cuda(), labels.cuda()\n",
    "network = network.cuda()\n",
    "\n",
    "with torch.no_grad():\n",
    "    output = network(data)\n",
    "    loss = loss_fun(output, labels)\n",
    "\n",
    "print(output.device)\n",
    "print(loss.device)"
   ]
  },
  {
   "cell_type": "code",
   "execution_count": 35,
   "metadata": {},
   "outputs": [
    {
     "data": {
      "text/plain": [
       "OrderedDict([('layer1.weight',\n",
       "              tensor([[ 0.0180, -0.0032, -0.0235,  ..., -0.0234,  0.0325,  0.0269],\n",
       "                      [ 0.0331,  0.0111, -0.0251,  ..., -0.0300, -0.0019, -0.0023],\n",
       "                      [-0.0307,  0.0024, -0.0093,  ...,  0.0210, -0.0235, -0.0034],\n",
       "                      ...,\n",
       "                      [-0.0343,  0.0355, -0.0173,  ...,  0.0289, -0.0342,  0.0285],\n",
       "                      [ 0.0161,  0.0300, -0.0286,  ..., -0.0151,  0.0016, -0.0013],\n",
       "                      [ 0.0238,  0.0201, -0.0129,  ...,  0.0290, -0.0168,  0.0326]])),\n",
       "             ('layer1.bias',\n",
       "              tensor([ 0.0177,  0.0153,  0.0143, -0.0350,  0.0199,  0.0352,  0.0164,  0.0203,\n",
       "                       0.0351,  0.0059, -0.0277,  0.0115, -0.0072,  0.0356,  0.0087, -0.0245,\n",
       "                      -0.0040, -0.0093,  0.0154,  0.0222])),\n",
       "             ('layer3.weight',\n",
       "              tensor([[ 0.0605, -0.1465, -0.1627, -0.1682, -0.0690, -0.0533, -0.0840,  0.1670,\n",
       "                        0.1996, -0.0960, -0.0618, -0.0120,  0.2038,  0.1335, -0.1685, -0.0122,\n",
       "                       -0.1245, -0.1617,  0.0574,  0.0253],\n",
       "                      [-0.1894,  0.0713,  0.0611,  0.1683,  0.1747,  0.1750,  0.1787,  0.1721,\n",
       "                        0.1699, -0.0249, -0.0778, -0.0682,  0.2235,  0.0754,  0.2159, -0.1244,\n",
       "                        0.0680, -0.0699, -0.2038, -0.0597],\n",
       "                      [-0.1700, -0.1384, -0.1292, -0.1067,  0.0571,  0.1022, -0.1733,  0.0480,\n",
       "                       -0.0076,  0.1053, -0.1796,  0.0126, -0.2190,  0.1422,  0.1094,  0.0617,\n",
       "                       -0.1068, -0.1048,  0.0271,  0.1871],\n",
       "                      [-0.1896, -0.0069, -0.2196,  0.0360, -0.0749,  0.0799,  0.0626,  0.0903,\n",
       "                        0.2090, -0.2077, -0.1313, -0.1927, -0.0781, -0.1549, -0.1355,  0.1339,\n",
       "                        0.0930, -0.0808,  0.0826,  0.0230],\n",
       "                      [ 0.1512,  0.0716,  0.0966,  0.1146, -0.0136, -0.0410, -0.0333,  0.1840,\n",
       "                       -0.2046, -0.1361, -0.1809, -0.0649, -0.1602, -0.0378, -0.2220, -0.1172,\n",
       "                        0.1419,  0.2008,  0.0221,  0.1916],\n",
       "                      [ 0.2216,  0.0010, -0.1015, -0.1433, -0.0622, -0.0863, -0.2051, -0.1970,\n",
       "                        0.0790, -0.0534, -0.1374,  0.1980,  0.1943, -0.1362, -0.2204, -0.1942,\n",
       "                        0.1399,  0.2027,  0.0027,  0.1798],\n",
       "                      [-0.1083,  0.1759,  0.0773, -0.0197,  0.2197, -0.0510, -0.0222,  0.0821,\n",
       "                        0.0047,  0.2149,  0.1212, -0.0730, -0.0957, -0.1340,  0.1162, -0.0027,\n",
       "                        0.2061, -0.2054, -0.0467, -0.1813],\n",
       "                      [ 0.2005,  0.1960, -0.2114, -0.2189,  0.2204,  0.1239, -0.0151,  0.1730,\n",
       "                       -0.2162, -0.0935, -0.1562, -0.1663, -0.1380, -0.2191, -0.1948, -0.0040,\n",
       "                        0.1312, -0.1362, -0.1196, -0.1724],\n",
       "                      [-0.0449, -0.0987,  0.0844,  0.1437, -0.0929, -0.0321, -0.2157, -0.2205,\n",
       "                       -0.1021,  0.0474,  0.0269, -0.1711, -0.2202,  0.1661, -0.1742,  0.1571,\n",
       "                       -0.0693,  0.1807, -0.1391,  0.1103],\n",
       "                      [-0.0351, -0.0924, -0.1698, -0.2189,  0.1925, -0.0968,  0.1469, -0.1865,\n",
       "                        0.1910, -0.1995,  0.0422,  0.2003, -0.0858, -0.0667,  0.1413, -0.1467,\n",
       "                       -0.0143, -0.0344,  0.1884, -0.1053]])),\n",
       "             ('layer3.bias',\n",
       "              tensor([-0.0469, -0.1937, -0.1279,  0.0384,  0.0058, -0.0697, -0.0953, -0.1682,\n",
       "                      -0.0423, -0.1547]))])"
      ]
     },
     "execution_count": 35,
     "metadata": {},
     "output_type": "execute_result"
    }
   ],
   "source": [
    "network.state_dict()"
   ]
  },
  {
   "cell_type": "code",
   "execution_count": 36,
   "metadata": {},
   "outputs": [
    {
     "data": {
      "text/plain": [
       "[Parameter containing:\n",
       " tensor([[ 0.0180, -0.0032, -0.0235,  ..., -0.0234,  0.0325,  0.0269],\n",
       "         [ 0.0331,  0.0111, -0.0251,  ..., -0.0300, -0.0019, -0.0023],\n",
       "         [-0.0307,  0.0024, -0.0093,  ...,  0.0210, -0.0235, -0.0034],\n",
       "         ...,\n",
       "         [-0.0343,  0.0355, -0.0173,  ...,  0.0289, -0.0342,  0.0285],\n",
       "         [ 0.0161,  0.0300, -0.0286,  ..., -0.0151,  0.0016, -0.0013],\n",
       "         [ 0.0238,  0.0201, -0.0129,  ...,  0.0290, -0.0168,  0.0326]],\n",
       "        requires_grad=True),\n",
       " Parameter containing:\n",
       " tensor([ 0.0177,  0.0153,  0.0143, -0.0350,  0.0199,  0.0352,  0.0164,  0.0203,\n",
       "          0.0351,  0.0059, -0.0277,  0.0115, -0.0072,  0.0356,  0.0087, -0.0245,\n",
       "         -0.0040, -0.0093,  0.0154,  0.0222], requires_grad=True),\n",
       " Parameter containing:\n",
       " tensor([[ 0.0605, -0.1465, -0.1627, -0.1682, -0.0690, -0.0533, -0.0840,  0.1670,\n",
       "           0.1996, -0.0960, -0.0618, -0.0120,  0.2038,  0.1335, -0.1685, -0.0122,\n",
       "          -0.1245, -0.1617,  0.0574,  0.0253],\n",
       "         [-0.1894,  0.0713,  0.0611,  0.1683,  0.1747,  0.1750,  0.1787,  0.1721,\n",
       "           0.1699, -0.0249, -0.0778, -0.0682,  0.2235,  0.0754,  0.2159, -0.1244,\n",
       "           0.0680, -0.0699, -0.2038, -0.0597],\n",
       "         [-0.1700, -0.1384, -0.1292, -0.1067,  0.0571,  0.1022, -0.1733,  0.0480,\n",
       "          -0.0076,  0.1053, -0.1796,  0.0126, -0.2190,  0.1422,  0.1094,  0.0617,\n",
       "          -0.1068, -0.1048,  0.0271,  0.1871],\n",
       "         [-0.1896, -0.0069, -0.2196,  0.0360, -0.0749,  0.0799,  0.0626,  0.0903,\n",
       "           0.2090, -0.2077, -0.1313, -0.1927, -0.0781, -0.1549, -0.1355,  0.1339,\n",
       "           0.0930, -0.0808,  0.0826,  0.0230],\n",
       "         [ 0.1512,  0.0716,  0.0966,  0.1146, -0.0136, -0.0410, -0.0333,  0.1840,\n",
       "          -0.2046, -0.1361, -0.1809, -0.0649, -0.1602, -0.0378, -0.2220, -0.1172,\n",
       "           0.1419,  0.2008,  0.0221,  0.1916],\n",
       "         [ 0.2216,  0.0010, -0.1015, -0.1433, -0.0622, -0.0863, -0.2051, -0.1970,\n",
       "           0.0790, -0.0534, -0.1374,  0.1980,  0.1943, -0.1362, -0.2204, -0.1942,\n",
       "           0.1399,  0.2027,  0.0027,  0.1798],\n",
       "         [-0.1083,  0.1759,  0.0773, -0.0197,  0.2197, -0.0510, -0.0222,  0.0821,\n",
       "           0.0047,  0.2149,  0.1212, -0.0730, -0.0957, -0.1340,  0.1162, -0.0027,\n",
       "           0.2061, -0.2054, -0.0467, -0.1813],\n",
       "         [ 0.2005,  0.1960, -0.2114, -0.2189,  0.2204,  0.1239, -0.0151,  0.1730,\n",
       "          -0.2162, -0.0935, -0.1562, -0.1663, -0.1380, -0.2191, -0.1948, -0.0040,\n",
       "           0.1312, -0.1362, -0.1196, -0.1724],\n",
       "         [-0.0449, -0.0987,  0.0844,  0.1437, -0.0929, -0.0321, -0.2157, -0.2205,\n",
       "          -0.1021,  0.0474,  0.0269, -0.1711, -0.2202,  0.1661, -0.1742,  0.1571,\n",
       "          -0.0693,  0.1807, -0.1391,  0.1103],\n",
       "         [-0.0351, -0.0924, -0.1698, -0.2189,  0.1925, -0.0968,  0.1469, -0.1865,\n",
       "           0.1910, -0.1995,  0.0422,  0.2003, -0.0858, -0.0667,  0.1413, -0.1467,\n",
       "          -0.0143, -0.0344,  0.1884, -0.1053]], requires_grad=True),\n",
       " Parameter containing:\n",
       " tensor([-0.0469, -0.1937, -0.1279,  0.0384,  0.0058, -0.0697, -0.0953, -0.1682,\n",
       "         -0.0423, -0.1547], requires_grad=True)]"
      ]
     },
     "execution_count": 36,
     "metadata": {},
     "output_type": "execute_result"
    }
   ],
   "source": [
    "list(network.parameters())"
   ]
  },
  {
   "cell_type": "markdown",
   "metadata": {},
   "source": [
    "# Training a network using SGD [2 points]"
   ]
  },
  {
   "cell_type": "markdown",
   "metadata": {},
   "source": [
    "Implement SGD in ``optimizer.py`` as introduced in the lecture and do not use the SGD optimizer included in PyTorch. Test your implementation by running the cell below:"
   ]
  },
  {
   "cell_type": "code",
   "execution_count": 41,
   "metadata": {},
   "outputs": [],
   "source": [
    "from optimizer import SGD\n",
    "\n",
    "net = SimpleNet2()\n",
    "\n",
    "net.load_state_dict(torch.load('net_params'))\n",
    "\n",
    "batch = next(iter(DataLoader(train_set, batch_size=4)))\n",
    "\n",
    "op = net(batch[0])\n",
    "\n",
    "l = loss_fun(op, batch[1])\n",
    "\n",
    "l.backward()\n",
    "\n",
    "optim = SGD(net.parameters())\n",
    "\n",
    "optim.step()\n",
    "\n",
    "state_dict = net.state_dict()\n",
    "target_state_dict = torch.load('net_params_updated')\n",
    "\n",
    "for key in state_dict:\n",
    "    assert (state_dict[key] - target_state_dict[key]).abs().max() < 1e-6 # 1 point\n",
    "\n",
    "optim.zero_grad()\n",
    "\n",
    "for param in net.parameters():\n",
    "    assert param.grad.abs().max() == 0 # 1 point"
   ]
  },
  {
   "cell_type": "code",
   "execution_count": null,
   "metadata": {},
   "outputs": [],
   "source": []
  },
  {
   "cell_type": "code",
   "execution_count": null,
   "metadata": {},
   "outputs": [],
   "source": []
  },
  {
   "cell_type": "code",
   "execution_count": null,
   "metadata": {},
   "outputs": [],
   "source": []
  },
  {
   "cell_type": "code",
   "execution_count": null,
   "metadata": {},
   "outputs": [],
   "source": []
  },
  {
   "cell_type": "code",
   "execution_count": null,
   "metadata": {},
   "outputs": [],
   "source": []
  }
 ],
 "metadata": {
  "kernelspec": {
   "display_name": "Python 3 (ipykernel)",
   "language": "python",
   "name": "python3"
  },
  "language_info": {
   "codemirror_mode": {
    "name": "ipython",
    "version": 3
   },
   "file_extension": ".py",
   "mimetype": "text/x-python",
   "name": "python",
   "nbconvert_exporter": "python",
   "pygments_lexer": "ipython3",
   "version": "3.9.12"
  },
  "vscode": {
   "interpreter": {
    "hash": "aee8b7b246df8f9039afb4144a1f6fd8d2ca17a180786b69acc140d282b71a49"
   }
  }
 },
 "nbformat": 4,
 "nbformat_minor": 2
}
