{
 "cells": [
  {
   "cell_type": "markdown",
   "metadata": {
    "id": "7g29n-03XdMc"
   },
   "source": [
    "# Image similarity estimation using a Siamese Network with a contrastive loss\n",
    "\n",
    "**Author:** Mehdi<br>\n",
    "**Date created:** 2021/05/06<br>\n",
    "**Last modified:** 2022/09/10<br>\n",
    "**Description:** Similarity learning using a siamese network trained with a contrastive loss."
   ]
  },
  {
   "cell_type": "markdown",
   "metadata": {
    "id": "9VADhE2KXdMf"
   },
   "source": [
    "## Introduction\n",
    "\n",
    "[Siamese Networks](https://en.wikipedia.org/wiki/Siamese_neural_network)\n",
    "are neural networks which share weights between two or more sister networks,\n",
    "each producing embedding vectors of its respective inputs.\n",
    "\n",
    "In supervised similarity learning, the networks are then trained to maximize the\n",
    "contrast (distance) between embeddings of inputs of different classes, while minimizing the distance between\n",
    "embeddings of similar classes, resulting in embedding spaces that reflect\n",
    "the class segmentation of the training inputs."
   ]
  },
  {
   "cell_type": "markdown",
   "metadata": {
    "id": "CQQrxvyNXdMf"
   },
   "source": [
    "## Setup"
   ]
  },
  {
   "cell_type": "code",
   "execution_count": 8,
   "metadata": {
    "id": "FKpF_xBfXdMg"
   },
   "outputs": [],
   "source": [
    "import random\n",
    "import numpy as np\n",
    "import tensorflow as tf\n",
    "from tensorflow import keras\n",
    "from tensorflow.keras import layers\n",
    "from tensorflow.keras import backend as K\n",
    "import matplotlib.pyplot as plt\n",
    "import pandas as pd\n",
    "from emnist import extract_training_samples"
   ]
  },
  {
   "cell_type": "code",
   "execution_count": 9,
   "metadata": {},
   "outputs": [],
   "source": [
    "# Seed environment \n",
    "seed_value = 1 \n",
    "\n",
    "# Set the `python` built-in pseudo-random generator at a fixed value \n",
    "random.seed = seed_value \n",
    "\n",
    "# Set the `numpy` pseudo-random generator at a fixed value \n",
    "np.random.seed = seed_value \n",
    "\n",
    "# Set the `tensorflow` pseudo-random generator at a fixed value import tensorflow as tf \n",
    "tf.seed = seed_value"
   ]
  },
  {
   "cell_type": "markdown",
   "metadata": {
    "id": "qcZA2jgDXdMh"
   },
   "source": [
    "## Hyperparameters"
   ]
  },
  {
   "cell_type": "code",
   "execution_count": 10,
   "metadata": {
    "id": "AzoUvjowXdMh"
   },
   "outputs": [],
   "source": [
    "epochs = 10\n",
    "batch_size = 16\n",
    "margin = 1  # Margin for contrastive loss."
   ]
  },
  {
   "cell_type": "markdown",
   "metadata": {
    "id": "DehTegg-XdMh"
   },
   "source": [
    "## Load the (E)MNIST dataset"
   ]
  },
  {
   "cell_type": "code",
   "execution_count": 11,
   "metadata": {
    "id": "6LN9uH0AXdMi"
   },
   "outputs": [
    {
     "name": "stdout",
     "output_type": "stream",
     "text": [
      "(112800, 28, 28)\n",
      "(112800,)\n",
      "(90240, 28, 28)\n",
      "(90240,)\n",
      "(22560, 28, 28)\n",
      "(22560,)\n",
      "[ 0  1  2  3  4  5  6  7  8  9 10 11 12 13 14 15 16 17 18 19 20 21 22 23\n",
      " 24 25 26 27 28 29 30 31 32 33 34 35 36 37 38 39 40 41 42 43 44 45 46]\n"
     ]
    }
   ],
   "source": [
    "### https://pypi.org/project/emnist/ ###\n",
    "### https://stackoverflow.com/questions/51125969/loading-emnist-letters-dataset ###\n",
    "\n",
    "images, labels = extract_training_samples('balanced')\n",
    "\n",
    "# balanced = 112800: 90240 = (67680 + 22560) ; 22560\n",
    "# mnist = 60000: 48000 = (36000 + 12000) ; 12000\n",
    "\n",
    "print(images.shape)\n",
    "print(labels.shape)\n",
    "\n",
    "x_train_val = images[:90240]\n",
    "y_train_val = labels[:90240]\n",
    "x_test = images[90240:]\n",
    "y_test = labels[90240:]\n",
    "\n",
    "print(x_train_val.shape)\n",
    "print(y_train_val.shape)\n",
    "print(x_test.shape)\n",
    "print(y_test.shape)\n",
    "\n",
    "# Change the data type to a floating point format\n",
    "x_train_val = x_train_val.astype(\"float32\")\n",
    "x_test = x_test.astype(\"float32\")\n",
    "\n",
    "print(np.unique(labels))"
   ]
  },
  {
   "cell_type": "markdown",
   "metadata": {
    "id": "KvSgU34IXdMi"
   },
   "source": [
    "## Define training and validation sets"
   ]
  },
  {
   "cell_type": "code",
   "execution_count": 12,
   "metadata": {
    "id": "nhkfPg1yXdMj"
   },
   "outputs": [],
   "source": [
    "# 60% training data, 20% validation data, 20% test data \n",
    "\n",
    "x_train, x_val = x_train_val[:22560], x_train_val[22560:]\n",
    "y_train, y_val = y_train_val[:22560], y_train_val[22560:]\n",
    "del x_train_val, y_train_val\n"
   ]
  },
  {
   "cell_type": "markdown",
   "metadata": {
    "id": "m92thOe8XdMj"
   },
   "source": [
    "## Create pairs of images\n",
    "\n",
    "We will train the model to differentiate between digits of different classes. For\n",
    "example, digit `0` needs to be differentiated from the rest of the\n",
    "digits (`1` through `9`), digit `1` - from `0` and `2` through `9`, and so on.\n",
    "To carry this out, we will select N random images from class A (for example,\n",
    "for digit `0`) and pair them with N random images from another class B\n",
    "(for example, for digit `1`). Then, we can repeat this process for all classes\n",
    "of digits (until digit `9`). Once we have paired digit `0` with other digits,\n",
    "we can repeat this process for the remaining classes for the rest of the digits\n",
    "(from `1` until `9`)."
   ]
  },
  {
   "cell_type": "code",
   "execution_count": 13,
   "metadata": {
    "id": "InH67YntXdMj"
   },
   "outputs": [],
   "source": [
    "\n",
    "def make_pairs(x, y):\n",
    "    \"\"\"Creates a tuple containing image pairs with corresponding label.\n",
    "\n",
    "    Arguments:\n",
    "        x: List containing images, each index in this list corresponds to one image.\n",
    "        y: List containing labels, each label with datatype of `int`.\n",
    "\n",
    "    Returns:\n",
    "        Tuple containing two numpy arrays as (pairs_of_samples, labels),\n",
    "        where pairs_of_samples' shape is (2len(x), 2,n_features_dims) and\n",
    "        labels are a binary array of shape (2len(x)).\n",
    "    \"\"\"\n",
    "\n",
    "    num_classes = max(y) + 1\n",
    "    digit_indices = [np.where(y == i)[0] for i in range(num_classes)]\n",
    "\n",
    "    pairs = []\n",
    "    labels = []\n",
    "\n",
    "    for idx1 in range(len(x)):\n",
    "        # add a matching example\n",
    "        x1 = x[idx1]\n",
    "        label1 = y[idx1]\n",
    "        idx2 = random.choice(digit_indices[label1])\n",
    "        x2 = x[idx2]\n",
    "\n",
    "        pairs += [[x1, x2]]\n",
    "        labels += [0]\n",
    "\n",
    "        # add a non-matching example\n",
    "        label2 = random.randint(0, num_classes - 1)\n",
    "        while label2 == label1:\n",
    "            label2 = random.randint(0, num_classes - 1)\n",
    "\n",
    "        idx2 = random.choice(digit_indices[label2])\n",
    "        x2 = x[idx2]\n",
    "\n",
    "        pairs += [[x1, x2]]\n",
    "        labels += [1]\n",
    "\n",
    "    return np.array(pairs), np.array(labels).astype(\"float32\")\n",
    "\n",
    "\n",
    "# make train pairs\n",
    "pairs_train, labels_train = make_pairs(x_train, y_train)\n",
    "\n",
    "# make validation pairs\n",
    "pairs_val, labels_val = make_pairs(x_val, y_val)\n",
    "\n",
    "# make test pairs\n",
    "pairs_test, labels_test = make_pairs(x_test, y_test)"
   ]
  },
  {
   "cell_type": "markdown",
   "metadata": {
    "id": "6YLwd9xmXdMj"
   },
   "source": [
    "We get:\n",
    "\n",
    "**pairs_train.shape = (60000, 2, 28, 28)**\n",
    "\n",
    "- We have 60,000 pairs\n",
    "- Each pair contains 2 images\n",
    "- Each image has shape `(28, 28)`"
   ]
  },
  {
   "cell_type": "markdown",
   "metadata": {
    "id": "o1JtEUBuXdMk"
   },
   "source": [
    "Split the training pairs"
   ]
  },
  {
   "cell_type": "code",
   "execution_count": 14,
   "metadata": {
    "id": "QYcwnpZJXdMk"
   },
   "outputs": [],
   "source": [
    "x_train_1 = pairs_train[:, 0]  # x_train_1.shape is (60000, 28, 28)\n",
    "x_train_2 = pairs_train[:, 1]"
   ]
  },
  {
   "cell_type": "markdown",
   "metadata": {
    "id": "oMOk7mH-XdMk"
   },
   "source": [
    "Split the validation pairs"
   ]
  },
  {
   "cell_type": "code",
   "execution_count": 15,
   "metadata": {
    "id": "Y_L3Nj3bXdMk"
   },
   "outputs": [],
   "source": [
    "x_val_1 = pairs_val[:, 0]  # x_val_1.shape = (60000, 28, 28)\n",
    "x_val_2 = pairs_val[:, 1]"
   ]
  },
  {
   "cell_type": "markdown",
   "metadata": {
    "id": "qJmT0sdJXdMk"
   },
   "source": [
    "Split the test pairs"
   ]
  },
  {
   "cell_type": "code",
   "execution_count": 16,
   "metadata": {
    "id": "AmNBJHDNXdMk"
   },
   "outputs": [],
   "source": [
    "x_test_1 = pairs_test[:, 0]  # x_test_1.shape = (20000, 28, 28)\n",
    "x_test_2 = pairs_test[:, 1]\n"
   ]
  },
  {
   "cell_type": "markdown",
   "metadata": {
    "id": "pORk-ebIXdMk"
   },
   "source": [
    "## Visualize pairs and their labels"
   ]
  },
  {
   "cell_type": "code",
   "execution_count": 17,
   "metadata": {
    "id": "qEo_u-ppXdMl"
   },
   "outputs": [],
   "source": [
    "\n",
    "def visualize(pairs, labels, to_show=6, num_col=3, predictions=None, test=False):\n",
    "    \"\"\"Creates a plot of pairs and labels, and prediction if it's test dataset.\n",
    "\n",
    "    Arguments:\n",
    "        pairs: Numpy Array, of pairs to visualize, having shape\n",
    "               (Number of pairs, 2, 28, 28).\n",
    "        to_show: Int, number of examples to visualize (default is 6)\n",
    "                `to_show` must be an integral multiple of `num_col`.\n",
    "                 Otherwise it will be trimmed if it is greater than num_col,\n",
    "                 and incremented if if it is less then num_col.\n",
    "        num_col: Int, number of images in one row - (default is 3)\n",
    "                 For test and train respectively, it should not exceed 3 and 7.\n",
    "        predictions: Numpy Array of predictions with shape (to_show, 1) -\n",
    "                     (default is None)\n",
    "                     Must be passed when test=True.\n",
    "        test: Boolean telling whether the dataset being visualized is\n",
    "              train dataset or test dataset - (default False).\n",
    "\n",
    "    Returns:\n",
    "        None.\n",
    "    \"\"\"\n",
    "\n",
    "    # Define num_row\n",
    "    # If to_show % num_col != 0\n",
    "    #    trim to_show,\n",
    "    #       to trim to_show limit num_row to the point where\n",
    "    #       to_show % num_col == 0\n",
    "    #\n",
    "    # If to_show//num_col == 0\n",
    "    #    then it means num_col is greater then to_show\n",
    "    #    increment to_show\n",
    "    #       to increment to_show set num_row to 1\n",
    "    num_row = to_show // num_col if to_show // num_col != 0 else 1\n",
    "\n",
    "    # `to_show` must be an integral multiple of `num_col`\n",
    "    #  we found num_row and we have num_col\n",
    "    #  to increment or decrement to_show\n",
    "    #  to make it integral multiple of `num_col`\n",
    "    #  simply set it equal to num_row * num_col\n",
    "    to_show = num_row * num_col\n",
    "\n",
    "    # Plot the images\n",
    "    fig, axes = plt.subplots(num_row, num_col, figsize=(5, 5))\n",
    "    for i in range(to_show):\n",
    "\n",
    "        # If the number of rows is 1, the axes array is one-dimensional\n",
    "        if num_row == 1:\n",
    "            ax = axes[i % num_col]\n",
    "        else:\n",
    "            ax = axes[i // num_col, i % num_col]\n",
    "\n",
    "        ax.imshow(tf.concat([pairs[i][0], pairs[i][1]], axis=1), cmap=\"gray\")\n",
    "        ax.set_axis_off()\n",
    "        if test:\n",
    "            ax.set_title(\"True: {} | Pred: {:.5f}\".format(labels[i], predictions[i][0]))\n",
    "        else:\n",
    "            ax.set_title(\"Label: {}\".format(labels[i]))\n",
    "    if test:\n",
    "        plt.tight_layout(rect=(0, 0, 1.9, 1.9), w_pad=0.0)\n",
    "    else:\n",
    "        plt.tight_layout(rect=(0, 0, 1.5, 1.5))\n",
    "    plt.show()\n"
   ]
  },
  {
   "cell_type": "markdown",
   "metadata": {
    "id": "V_zqOMPDXdMl"
   },
   "source": [
    "Inspect training pairs"
   ]
  },
  {
   "cell_type": "code",
   "execution_count": 18,
   "metadata": {
    "id": "WU6acLb7XdMl"
   },
   "outputs": [
    {
     "data": {
      "image/png": "[encoded data removed]",
      "text/plain": [
       "<Figure size 360x360 with 4 Axes>"
      ]
     },
     "metadata": {
      "needs_background": "light"
     },
     "output_type": "display_data"
    }
   ],
   "source": [
    "visualize(pairs_train[:-1], labels_train[:-1], to_show=4, num_col=4)"
   ]
  },
  {
   "cell_type": "markdown",
   "metadata": {
    "id": "xFnrhWNZXdMl"
   },
   "source": [
    "Inspect validation pairs"
   ]
  },
  {
   "cell_type": "code",
   "execution_count": 19,
   "metadata": {
    "id": "eSqBkoLBXdMm"
   },
   "outputs": [
    {
     "data": {
      "image/png": "[encoded data removed]",
      "text/plain": [
       "<Figure size 360x360 with 4 Axes>"
      ]
     },
     "metadata": {
      "needs_background": "light"
     },
     "output_type": "display_data"
    }
   ],
   "source": [
    "visualize(pairs_val[:-1], labels_val[:-1], to_show=4, num_col=4)"
   ]
  },
  {
   "cell_type": "markdown",
   "metadata": {
    "id": "TuhP5LPmXdMm"
   },
   "source": [
    "Inspect test pairs"
   ]
  },
  {
   "cell_type": "code",
   "execution_count": 20,
   "metadata": {
    "id": "LQ7zFI0YXdMm"
   },
   "outputs": [
    {
     "data": {
      "image/png": "[encoded data removed]",
      "text/plain": [
       "<Figure size 360x360 with 4 Axes>"
      ]
     },
     "metadata": {
      "needs_background": "light"
     },
     "output_type": "display_data"
    }
   ],
   "source": [
    "visualize(pairs_test[:-1], labels_test[:-1], to_show=4, num_col=4)"
   ]
  },
  {
   "cell_type": "markdown",
   "metadata": {
    "id": "dSaJkzwhXdMm"
   },
   "source": [
    "## Define the model\n",
    "\n",
    "There are two input layers, each leading to its own network, which\n",
    "produces embeddings. A `Lambda` layer then merges them using an\n",
    "[Euclidean distance](https://en.wikipedia.org/wiki/Euclidean_distance) and the\n",
    "merged output is fed to the final network."
   ]
  },
  {
   "cell_type": "code",
   "execution_count": 21,
   "metadata": {
    "id": "Q1ZBwJHJXdMm"
   },
   "outputs": [],
   "source": [
    "# CONTRASTIVE LOSS\n",
    "# Provided two tensors t1 and t2\n",
    "# Euclidean distance = sqrt(sum(square(t1-t2)))\n",
    "def euclidean_distance(vects):\n",
    "    x, y = vects\n",
    "    sum_square = tf.math.reduce_sum(tf.math.square(x - y), axis=1, keepdims=True)\n",
    "    return tf.math.sqrt(tf.math.maximum(sum_square, tf.keras.backend.epsilon()))\n",
    "\n",
    "\n",
    "input = layers.Input((28, 28, 1))\n",
    "x = tf.keras.layers.BatchNormalization()(input)\n",
    "x = layers.Conv2D(4, (5, 5), activation=\"tanh\")(x)\n",
    "x = layers.AveragePooling2D(pool_size=(2, 2))(x)\n",
    "x = layers.Conv2D(16, (5, 5), activation=\"tanh\")(x)\n",
    "x = layers.AveragePooling2D(pool_size=(2, 2))(x)\n",
    "x = layers.Flatten()(x)\n",
    "\n",
    "x = tf.keras.layers.BatchNormalization()(x)\n",
    "x = layers.Dense(47, activation=\"tanh\")(x)\n",
    "embedding_network = keras.Model(input, x)\n",
    "\n",
    "\n",
    "input_1 = layers.Input((28, 28, 1))\n",
    "input_2 = layers.Input((28, 28, 1))\n",
    "\n",
    "# As mentioned above, Siamese Network share weights between\n",
    "# tower networks (sister networks). To allow this, we will use\n",
    "# same embedding network for both tower networks.\n",
    "tower_1 = embedding_network(input_1)\n",
    "tower_2 = embedding_network(input_2)\n",
    "\n",
    "merge_layer = layers.Lambda(euclidean_distance)([tower_1, tower_2])\n",
    "normal_layer = tf.keras.layers.BatchNormalization()(merge_layer)\n",
    "output_layer = layers.Dense(1, activation=\"sigmoid\")(normal_layer)\n",
    "\n",
    "# define model for each loss function\n",
    "siamese1 = keras.Model(inputs=[input_1, input_2], outputs=output_layer)\n"
   ]
  },
  {
   "cell_type": "code",
   "execution_count": 22,
   "metadata": {},
   "outputs": [],
   "source": [
    "# DICE LOSS\n",
    "\n",
    "# Provided two tensors t1 and t2\n",
    "# Euclidean distance = sqrt(sum(square(t1-t2)))\n",
    "def euclidean_distance(vects):\n",
    "    x, y = vects\n",
    "    sum_square = tf.math.reduce_sum(tf.math.square(x - y), axis=1, keepdims=True)\n",
    "    return tf.math.sqrt(tf.math.maximum(sum_square, tf.keras.backend.epsilon()))\n",
    "\n",
    "\n",
    "input2 = layers.Input((28, 28, 1))\n",
    "x2 = tf.keras.layers.BatchNormalization()(input2)\n",
    "x2 = layers.Conv2D(4, (5, 5), activation=\"tanh\")(x2)\n",
    "x2 = layers.AveragePooling2D(pool_size=(2, 2))(x2)\n",
    "x2 = layers.Conv2D(16, (5, 5), activation=\"tanh\")(x2)\n",
    "x2 = layers.AveragePooling2D(pool_size=(2, 2))(x2)\n",
    "x2 = layers.Flatten()(x2)\n",
    "\n",
    "x2 = tf.keras.layers.BatchNormalization()(x2)\n",
    "x2 = layers.Dense(47, activation=\"tanh\")(x2)\n",
    "embedding_network_2 = keras.Model(input2, x2)\n",
    "\n",
    "\n",
    "input_1_2 = layers.Input((28, 28, 1))\n",
    "input_2_2 = layers.Input((28, 28, 1))\n",
    "\n",
    "# As mentioned above, Siamese Network share weights between\n",
    "# tower networks (sister networks). To allow this, we will use\n",
    "# same embedding network for both tower networks.\n",
    "tower_1_2 = embedding_network_2(input_1_2)\n",
    "tower_2_2 = embedding_network_2(input_2_2)\n",
    "\n",
    "merge_layer_2 = layers.Lambda(euclidean_distance)([tower_1_2, tower_2_2])\n",
    "normal_layer_2 = tf.keras.layers.BatchNormalization()(merge_layer_2)\n",
    "output_layer_2 = layers.Dense(1, activation=\"sigmoid\")(normal_layer_2)\n",
    "siamese2 = keras.Model(inputs=[input_1_2, input_2_2], outputs=output_layer_2)"
   ]
  },
  {
   "cell_type": "code",
   "execution_count": 23,
   "metadata": {},
   "outputs": [],
   "source": [
    "# BCE LOSS\n",
    "\n",
    "# Provided two tensors t1 and t2\n",
    "# Euclidean distance = sqrt(sum(square(t1-t2)))\n",
    "def euclidean_distance(vects):\n",
    "    x, y = vects\n",
    "    sum_square = tf.math.reduce_sum(tf.math.square(x - y), axis=1, keepdims=True)\n",
    "    return tf.math.sqrt(tf.math.maximum(sum_square, tf.keras.backend.epsilon()))\n",
    "\n",
    "\n",
    "input3 = layers.Input((28, 28, 1))\n",
    "x3 = tf.keras.layers.BatchNormalization()(input3)\n",
    "x3 = layers.Conv2D(4, (5, 5), activation=\"tanh\")(x3)\n",
    "x3 = layers.AveragePooling2D(pool_size=(2, 2))(x3)\n",
    "x3 = layers.Conv2D(16, (5, 5), activation=\"tanh\")(x3)\n",
    "x3 = layers.AveragePooling2D(pool_size=(2, 2))(x3)\n",
    "x3 = layers.Flatten()(x3)\n",
    "\n",
    "x3 = tf.keras.layers.BatchNormalization()(x3)\n",
    "x3 = layers.Dense(47, activation=\"tanh\")(x3)\n",
    "embedding_network_3 = keras.Model(input3, x3)\n",
    "\n",
    "\n",
    "input_1_3 = layers.Input((28, 28, 1))\n",
    "input_2_3 = layers.Input((28, 28, 1))\n",
    "\n",
    "# As mentioned above, Siamese Network share weights between\n",
    "# tower networks (sister networks). To allow this, we will use\n",
    "# same embedding network for both tower networks.\n",
    "tower_1_3 = embedding_network_3(input_1_3)\n",
    "tower_2_3 = embedding_network_3(input_2_3)\n",
    "\n",
    "merge_layer_3 = layers.Lambda(euclidean_distance)([tower_1_3, tower_2_3])\n",
    "normal_layer_3 = tf.keras.layers.BatchNormalization()(merge_layer_3)\n",
    "output_layer_3 = layers.Dense(1, activation=\"sigmoid\")(normal_layer_3)\n",
    "siamese3 = keras.Model(inputs=[input_1_3, input_2_3], outputs=output_layer_3)"
   ]
  },
  {
   "cell_type": "code",
   "execution_count": 24,
   "metadata": {},
   "outputs": [],
   "source": [
    "# BCE + DICE LOSS\n",
    "\n",
    "# Provided two tensors t1 and t2\n",
    "# Euclidean distance = sqrt(sum(square(t1-t2)))\n",
    "def euclidean_distance(vects):\n",
    "    x, y = vects\n",
    "    sum_square = tf.math.reduce_sum(tf.math.square(x - y), axis=1, keepdims=True)\n",
    "    return tf.math.sqrt(tf.math.maximum(sum_square, tf.keras.backend.epsilon()))\n",
    "\n",
    "\n",
    "input4 = layers.Input((28, 28, 1))\n",
    "x4 = tf.keras.layers.BatchNormalization()(input4)\n",
    "x4 = layers.Conv2D(4, (5, 5), activation=\"tanh\")(x4)\n",
    "x4 = layers.AveragePooling2D(pool_size=(2, 2))(x4)\n",
    "x4 = layers.Conv2D(16, (5, 5), activation=\"tanh\")(x4)\n",
    "x4 = layers.AveragePooling2D(pool_size=(2, 2))(x4)\n",
    "x4 = layers.Flatten()(x4)\n",
    "\n",
    "x4 = tf.keras.layers.BatchNormalization()(x4)\n",
    "x4 = layers.Dense(47, activation=\"tanh\")(x4)\n",
    "embedding_network_4 = keras.Model(input4, x4)\n",
    "\n",
    "\n",
    "input_1_4 = layers.Input((28, 28, 1))\n",
    "input_2_4 = layers.Input((28, 28, 1))\n",
    "\n",
    "# As mentioned above, Siamese Network share weights between\n",
    "# tower networks (sister networks). To allow this, we will use\n",
    "# same embedding network for both tower networks.\n",
    "tower_1_4 = embedding_network_4(input_1_4)\n",
    "tower_2_4 = embedding_network_4(input_2_4)\n",
    "\n",
    "merge_layer_4 = layers.Lambda(euclidean_distance)([tower_1_4, tower_2_4])\n",
    "normal_layer_4 = tf.keras.layers.BatchNormalization()(merge_layer_4)\n",
    "output_layer_4 = layers.Dense(1, activation=\"sigmoid\")(normal_layer_4)\n",
    "siamese4 = keras.Model(inputs=[input_1_4, input_2_4], outputs=output_layer_4)"
   ]
  },
  {
   "cell_type": "markdown",
   "metadata": {
    "id": "cAUk9kMwXdMm"
   },
   "source": [
    "## Define the contrastive Loss"
   ]
  },
  {
   "cell_type": "code",
   "execution_count": 25,
   "metadata": {
    "id": "p9VNvPX6XdMm"
   },
   "outputs": [],
   "source": [
    "\n",
    "def contrastive_loss(margin=1):\n",
    "    \"\"\"Provides 'contrastive_loss' an enclosing scope with variable 'margin'.\n",
    "\n",
    "    Arguments:\n",
    "        margin: Integer, defines the baseline for distance for which pairs\n",
    "                should be classified as dissimilar. - (default is 1).\n",
    "\n",
    "    Returns:\n",
    "        'contrastive_loss' function with data ('margin') attached.\n",
    "    \"\"\"\n",
    "\n",
    "    # Contrastive loss = mean( (1-true_value) * square(prediction) +\n",
    "    #                         true_value * square( max(margin-prediction, 0) ))\n",
    "    def contrastive_loss(y_true, y_pred):\n",
    "        \"\"\"Calculates the contrastive loss.\n",
    "\n",
    "        Arguments:\n",
    "            y_true: List of labels, each label is of type float32.\n",
    "            y_pred: List of predictions of same length as of y_true,\n",
    "                    each label is of type float32.\n",
    "\n",
    "        Returns:\n",
    "            A tensor containing contrastive loss as floating point value.\n",
    "        \"\"\"\n",
    "\n",
    "        square_pred = tf.math.square(y_pred)\n",
    "        margin_square = tf.math.square(tf.math.maximum(margin - (y_pred), 0))\n",
    "        return tf.math.reduce_mean(\n",
    "            (1 - y_true) * square_pred + (y_true) * margin_square\n",
    "        )\n",
    "\n",
    "    return contrastive_loss\n"
   ]
  },
  {
   "cell_type": "markdown",
   "metadata": {},
   "source": [
    "## Define the Dice Loss\n",
    "Code: https://stackoverflow.com/questions/72195156/correct-implementation-of-dice-loss-in-tensorflow-keras\n",
    "\n",
    "![Dice Loss](./img/Dice_Loss.png)"
   ]
  },
  {
   "cell_type": "code",
   "execution_count": 26,
   "metadata": {},
   "outputs": [],
   "source": [
    "# Dice Loss\n",
    "def dice_loss(margin=1): #ignore margin\n",
    "\n",
    "    smooth=1e-6\n",
    "\n",
    "    def dice_coef_loss(y_true, y_pred):\n",
    "        y_true_f = K.flatten(y_true)\n",
    "        y_pred_f = K.flatten(y_pred)\n",
    "        intersection = K.sum(y_true_f * y_pred_f)\n",
    "        dice = (2. * intersection + smooth) / (K.sum(y_true_f) + K.sum(y_pred_f) + smooth)\n",
    "        dice_coef = 1 - dice\n",
    "        \n",
    "        return dice_coef\n",
    "    \n",
    "    return dice_coef_loss"
   ]
  },
  {
   "cell_type": "markdown",
   "metadata": {},
   "source": [
    "## Define the B Cross Entropy Loss\n",
    "Code: https://www.kaggle.com/code/bigironsphere/loss-function-library-keras-pytorch/notebook\n",
    "\n",
    "![BCE Loss](./img/BCE_Loss.png)"
   ]
  },
  {
   "cell_type": "code",
   "execution_count": 27,
   "metadata": {},
   "outputs": [],
   "source": [
    "# BCE_Loss\n",
    "def BCE_loss(margin=1): #ignore margin\n",
    "\n",
    "    def binary_cross_entropy_loss(y_true, y_pred):\n",
    "        BCE =  K.binary_crossentropy(y_true, y_pred)\n",
    "        return BCE\n",
    "    \n",
    "    return binary_cross_entropy_loss"
   ]
  },
  {
   "cell_type": "markdown",
   "metadata": {},
   "source": [
    "## Define the BCE + Dice Loss\n",
    "Paper: https://ieeexplore.ieee.org/abstract/document/10023508?casa_token=_zhnKjSaYgYAAAAA:zZ0oLIx6Yoc56OeYEdvdJfwA0FLyQyhg3NNmd8YOUTzPLLgn5hK8ZoJ4UUAwH_9Dn55YLj2fQbk \n",
    "Code: https://www.kaggle.com/code/bigironsphere/loss-function-library-keras-pytorch/notebook\n",
    "\n",
    "![Dice Loss](./img/BCE_Loss.png)\n",
    "![Dice Loss](./img/Dice_Loss.png)\n",
    "![Dice Loss](./img/BCE_Dice_Loss.png)"
   ]
  },
  {
   "cell_type": "code",
   "execution_count": 28,
   "metadata": {},
   "outputs": [],
   "source": [
    "#  BCE_Dice_Loss\n",
    "def BCE_dice_loss(margin=1): #ignore margin\n",
    "\n",
    "    smooth=1e-6\n",
    "\n",
    "    def dice_coef_loss(y_true, y_pred):\n",
    "        y_true_f = K.flatten(y_true)\n",
    "        y_pred_f = K.flatten(y_pred)\n",
    "        intersection = K.sum(y_true_f * y_pred_f)\n",
    "        dice = (2. * intersection + smooth) / (K.sum(y_true_f) + K.sum(y_pred_f) + smooth)\n",
    "        \n",
    "        return dice\n",
    "\n",
    "    \n",
    "    def binary_cross_entropy_loss(y_true, y_pred):\n",
    "        BCE =  K.binary_crossentropy(y_true, y_pred)\n",
    "        return BCE\n",
    "    \n",
    "\n",
    "    def BCE_dice_coef_loss(y_true, y_pred):\n",
    "        dice_loss = 1 - dice_coef_loss(y_true, y_pred)\n",
    "        BCE =  binary_cross_entropy_loss(y_true, y_pred)\n",
    "        Dice_BCE = BCE + dice_loss\n",
    "        return Dice_BCE\n",
    "    \n",
    "    return BCE_dice_coef_loss"
   ]
  },
  {
   "cell_type": "markdown",
   "metadata": {
    "id": "guc3DfIYXdMn"
   },
   "source": [
    "## Compile the model with the contrastive loss"
   ]
  },
  {
   "cell_type": "code",
   "execution_count": 29,
   "metadata": {
    "id": "fJ6As8asXdMn"
   },
   "outputs": [
    {
     "name": "stdout",
     "output_type": "stream",
     "text": [
      "Model: \"model_1\"\n",
      "__________________________________________________________________________________________________\n",
      " Layer (type)                   Output Shape         Param #     Connected to                     \n",
      "==================================================================================================\n",
      " input_2 (InputLayer)           [(None, 28, 28, 1)]  0           []                               \n",
      "                                                                                                  \n",
      " input_3 (InputLayer)           [(None, 28, 28, 1)]  0           []                               \n",
      "                                                                                                  \n",
      " model (Functional)             (None, 47)           14827       ['input_2[0][0]',                \n",
      "                                                                  'input_3[0][0]']                \n",
      "                                                                                                  \n",
      " lambda (Lambda)                (None, 1)            0           ['model[0][0]',                  \n",
      "                                                                  'model[1][0]']                  \n",
      "                                                                                                  \n",
      " batch_normalization_2 (BatchNo  (None, 1)           4           ['lambda[0][0]']                 \n",
      " rmalization)                                                                                     \n",
      "                                                                                                  \n",
      " dense_1 (Dense)                (None, 1)            2           ['batch_normalization_2[0][0]']  \n",
      "                                                                                                  \n",
      "==================================================================================================\n",
      "Total params: 14,833\n",
      "Trainable params: 14,317\n",
      "Non-trainable params: 516\n",
      "__________________________________________________________________________________________________\n"
     ]
    }
   ],
   "source": [
    "siamese1.compile(loss=contrastive_loss(margin=margin), optimizer=\"RMSprop\", metrics=[\"accuracy\"])\n",
    "siamese1.summary()\n"
   ]
  },
  {
   "cell_type": "markdown",
   "metadata": {},
   "source": [
    "## Compile the model with the dice loss"
   ]
  },
  {
   "cell_type": "code",
   "execution_count": 30,
   "metadata": {
    "scrolled": true
   },
   "outputs": [
    {
     "name": "stdout",
     "output_type": "stream",
     "text": [
      "Model: \"model_3\"\n",
      "__________________________________________________________________________________________________\n",
      " Layer (type)                   Output Shape         Param #     Connected to                     \n",
      "==================================================================================================\n",
      " input_5 (InputLayer)           [(None, 28, 28, 1)]  0           []                               \n",
      "                                                                                                  \n",
      " input_6 (InputLayer)           [(None, 28, 28, 1)]  0           []                               \n",
      "                                                                                                  \n",
      " model_2 (Functional)           (None, 47)           14827       ['input_5[0][0]',                \n",
      "                                                                  'input_6[0][0]']                \n",
      "                                                                                                  \n",
      " lambda_1 (Lambda)              (None, 1)            0           ['model_2[0][0]',                \n",
      "                                                                  'model_2[1][0]']                \n",
      "                                                                                                  \n",
      " batch_normalization_5 (BatchNo  (None, 1)           4           ['lambda_1[0][0]']               \n",
      " rmalization)                                                                                     \n",
      "                                                                                                  \n",
      " dense_3 (Dense)                (None, 1)            2           ['batch_normalization_5[0][0]']  \n",
      "                                                                                                  \n",
      "==================================================================================================\n",
      "Total params: 14,833\n",
      "Trainable params: 14,317\n",
      "Non-trainable params: 516\n",
      "__________________________________________________________________________________________________\n"
     ]
    }
   ],
   "source": [
    "siamese2.compile(loss=dice_loss(margin=margin), optimizer=\"RMSprop\", metrics=[\"accuracy\"])\n",
    "siamese2.summary()"
   ]
  },
  {
   "cell_type": "markdown",
   "metadata": {},
   "source": [
    "## Compile the model with the BCE loss"
   ]
  },
  {
   "cell_type": "code",
   "execution_count": 31,
   "metadata": {},
   "outputs": [
    {
     "name": "stdout",
     "output_type": "stream",
     "text": [
      "Model: \"model_5\"\n",
      "__________________________________________________________________________________________________\n",
      " Layer (type)                   Output Shape         Param #     Connected to                     \n",
      "==================================================================================================\n",
      " input_8 (InputLayer)           [(None, 28, 28, 1)]  0           []                               \n",
      "                                                                                                  \n",
      " input_9 (InputLayer)           [(None, 28, 28, 1)]  0           []                               \n",
      "                                                                                                  \n",
      " model_4 (Functional)           (None, 47)           14827       ['input_8[0][0]',                \n",
      "                                                                  'input_9[0][0]']                \n",
      "                                                                                                  \n",
      " lambda_2 (Lambda)              (None, 1)            0           ['model_4[0][0]',                \n",
      "                                                                  'model_4[1][0]']                \n",
      "                                                                                                  \n",
      " batch_normalization_8 (BatchNo  (None, 1)           4           ['lambda_2[0][0]']               \n",
      " rmalization)                                                                                     \n",
      "                                                                                                  \n",
      " dense_5 (Dense)                (None, 1)            2           ['batch_normalization_8[0][0]']  \n",
      "                                                                                                  \n",
      "==================================================================================================\n",
      "Total params: 14,833\n",
      "Trainable params: 14,317\n",
      "Non-trainable params: 516\n",
      "__________________________________________________________________________________________________\n"
     ]
    }
   ],
   "source": [
    "siamese3.compile(loss=BCE_loss(margin=margin), optimizer=\"RMSprop\", metrics=[\"accuracy\"])\n",
    "siamese3.summary()"
   ]
  },
  {
   "cell_type": "markdown",
   "metadata": {},
   "source": [
    "## Compile the model with the BCE + dice loss"
   ]
  },
  {
   "cell_type": "code",
   "execution_count": 32,
   "metadata": {},
   "outputs": [
    {
     "name": "stdout",
     "output_type": "stream",
     "text": [
      "Model: \"model_7\"\n",
      "__________________________________________________________________________________________________\n",
      " Layer (type)                   Output Shape         Param #     Connected to                     \n",
      "==================================================================================================\n",
      " input_11 (InputLayer)          [(None, 28, 28, 1)]  0           []                               \n",
      "                                                                                                  \n",
      " input_12 (InputLayer)          [(None, 28, 28, 1)]  0           []                               \n",
      "                                                                                                  \n",
      " model_6 (Functional)           (None, 47)           14827       ['input_11[0][0]',               \n",
      "                                                                  'input_12[0][0]']               \n",
      "                                                                                                  \n",
      " lambda_3 (Lambda)              (None, 1)            0           ['model_6[0][0]',                \n",
      "                                                                  'model_6[1][0]']                \n",
      "                                                                                                  \n",
      " batch_normalization_11 (BatchN  (None, 1)           4           ['lambda_3[0][0]']               \n",
      " ormalization)                                                                                    \n",
      "                                                                                                  \n",
      " dense_7 (Dense)                (None, 1)            2           ['batch_normalization_11[0][0]'] \n",
      "                                                                                                  \n",
      "==================================================================================================\n",
      "Total params: 14,833\n",
      "Trainable params: 14,317\n",
      "Non-trainable params: 516\n",
      "__________________________________________________________________________________________________\n"
     ]
    }
   ],
   "source": [
    "siamese4.compile(loss=BCE_dice_loss(margin=margin), optimizer=\"RMSprop\", metrics=[\"accuracy\"])\n",
    "siamese4.summary()"
   ]
  },
  {
   "cell_type": "markdown",
   "metadata": {
    "id": "ARGpf7KEXdMn"
   },
   "source": [
    "## Train the models"
   ]
  },
  {
   "cell_type": "code",
   "execution_count": 33,
   "metadata": {
    "id": "MvErqxixXdMn"
   },
   "outputs": [
    {
     "name": "stdout",
     "output_type": "stream",
     "text": [
      "Epoch 1/10\n",
      "2820/2820 [==============================] - 21s 7ms/step - loss: 0.1390 - accuracy: 0.8068 - val_loss: 0.1007 - val_accuracy: 0.8627\n",
      "Epoch 2/10\n",
      "2820/2820 [==============================] - 19s 7ms/step - loss: 0.1034 - accuracy: 0.8580 - val_loss: 0.0888 - val_accuracy: 0.8804\n",
      "Epoch 3/10\n",
      "2820/2820 [==============================] - 19s 7ms/step - loss: 0.0935 - accuracy: 0.8736 - val_loss: 0.0740 - val_accuracy: 0.9009\n",
      "Epoch 4/10\n",
      "2820/2820 [==============================] - 19s 7ms/step - loss: 0.0859 - accuracy: 0.8845 - val_loss: 0.0682 - val_accuracy: 0.9100\n",
      "Epoch 5/10\n",
      "2820/2820 [==============================] - 19s 7ms/step - loss: 0.0824 - accuracy: 0.8904 - val_loss: 0.0646 - val_accuracy: 0.9145\n",
      "Epoch 6/10\n",
      "2820/2820 [==============================] - 19s 7ms/step - loss: 0.0786 - accuracy: 0.8963 - val_loss: 0.0620 - val_accuracy: 0.9184\n",
      "Epoch 7/10\n",
      "2820/2820 [==============================] - 19s 7ms/step - loss: 0.0754 - accuracy: 0.8998 - val_loss: 0.0605 - val_accuracy: 0.9203\n",
      "Epoch 8/10\n",
      "2820/2820 [==============================] - 19s 7ms/step - loss: 0.0729 - accuracy: 0.9030 - val_loss: 0.0584 - val_accuracy: 0.9238\n",
      "Epoch 9/10\n",
      "2820/2820 [==============================] - 19s 7ms/step - loss: 0.0729 - accuracy: 0.9030 - val_loss: 0.0573 - val_accuracy: 0.9253\n",
      "Epoch 10/10\n",
      "2820/2820 [==============================] - 21s 7ms/step - loss: 0.0693 - accuracy: 0.9081 - val_loss: 0.0564 - val_accuracy: 0.9264\n"
     ]
    }
   ],
   "source": [
    "# Contrastive Loss\n",
    "history1 = siamese1.fit(\n",
    "    [x_train_1, x_train_2],\n",
    "    labels_train,\n",
    "    validation_data=([x_val_1, x_val_2], labels_val),\n",
    "    batch_size=batch_size,\n",
    "    epochs=epochs,\n",
    ")"
   ]
  },
  {
   "cell_type": "code",
   "execution_count": 34,
   "metadata": {},
   "outputs": [
    {
     "name": "stdout",
     "output_type": "stream",
     "text": [
      "Epoch 1/10\n",
      "2820/2820 [==============================] - 24s 8ms/step - loss: 0.2554 - accuracy: 0.7661 - val_loss: 0.1606 - val_accuracy: 0.8373\n",
      "Epoch 2/10\n",
      "2820/2820 [==============================] - 23s 8ms/step - loss: 0.1781 - accuracy: 0.8248 - val_loss: 0.1406 - val_accuracy: 0.8560\n",
      "Epoch 3/10\n",
      "2820/2820 [==============================] - 23s 8ms/step - loss: 0.1620 - accuracy: 0.8416 - val_loss: 0.1309 - val_accuracy: 0.8697\n",
      "Epoch 4/10\n",
      "2820/2820 [==============================] - 23s 8ms/step - loss: 0.1578 - accuracy: 0.8465 - val_loss: 0.1228 - val_accuracy: 0.8740\n",
      "Epoch 5/10\n",
      "2820/2820 [==============================] - 23s 8ms/step - loss: 0.1545 - accuracy: 0.8488 - val_loss: 0.1254 - val_accuracy: 0.8749\n",
      "Epoch 6/10\n",
      "2820/2820 [==============================] - 25s 9ms/step - loss: 0.1494 - accuracy: 0.8556 - val_loss: 0.1180 - val_accuracy: 0.8798\n",
      "Epoch 7/10\n",
      "2820/2820 [==============================] - 25s 9ms/step - loss: 0.1467 - accuracy: 0.8575 - val_loss: 0.1188 - val_accuracy: 0.8816\n",
      "Epoch 8/10\n",
      "2820/2820 [==============================] - 26s 9ms/step - loss: 0.1427 - accuracy: 0.8609 - val_loss: 0.1122 - val_accuracy: 0.8854\n",
      "Epoch 9/10\n",
      "2820/2820 [==============================] - 26s 9ms/step - loss: 0.1386 - accuracy: 0.8650 - val_loss: 0.1143 - val_accuracy: 0.8848\n",
      "Epoch 10/10\n",
      "2820/2820 [==============================] - 26s 9ms/step - loss: 0.1419 - accuracy: 0.8621 - val_loss: 0.1114 - val_accuracy: 0.8881\n"
     ]
    }
   ],
   "source": [
    "# Dice Loss\n",
    "history2 = siamese2.fit(\n",
    "    [x_train_1, x_train_2],\n",
    "    labels_train,\n",
    "    validation_data=([x_val_1, x_val_2], labels_val),\n",
    "    batch_size=batch_size,\n",
    "    epochs=epochs,\n",
    ")"
   ]
  },
  {
   "cell_type": "code",
   "execution_count": 35,
   "metadata": {},
   "outputs": [
    {
     "name": "stdout",
     "output_type": "stream",
     "text": [
      "Epoch 1/10\n",
      "2820/2820 [==============================] - 26s 9ms/step - loss: 0.4266 - accuracy: 0.8067 - precision: 0.8041 - recall: 0.8109 - val_loss: 0.3046 - val_accuracy: 0.8757 - val_precision: 0.8704 - val_recall: 0.8828\n",
      "Epoch 2/10\n",
      "2820/2820 [==============================] - 25s 9ms/step - loss: 0.3332 - accuracy: 0.8602 - precision: 0.8563 - recall: 0.8656 - val_loss: 0.2626 - val_accuracy: 0.8961 - val_precision: 0.8931 - val_recall: 0.8998\n",
      "Epoch 3/10\n",
      "2820/2820 [==============================] - 25s 9ms/step - loss: 0.3023 - accuracy: 0.8778 - precision: 0.8758 - recall: 0.8804 - val_loss: 0.2456 - val_accuracy: 0.9044 - val_precision: 0.9035 - val_recall: 0.9054\n",
      "Epoch 4/10\n",
      "2820/2820 [==============================] - 27s 10ms/step - loss: 0.2792 - accuracy: 0.8873 - precision: 0.8849 - recall: 0.8905 - val_loss: 0.2336 - val_accuracy: 0.9105 - val_precision: 0.9004 - val_recall: 0.9232\n",
      "Epoch 5/10\n",
      "2820/2820 [==============================] - 22s 8ms/step - loss: 0.2656 - accuracy: 0.8959 - precision: 0.8949 - recall: 0.8973 - val_loss: 0.2341 - val_accuracy: 0.9103 - val_precision: 0.9123 - val_recall: 0.9078\n",
      "Epoch 6/10\n",
      "2820/2820 [==============================] - 20s 7ms/step - loss: 0.2577 - accuracy: 0.8987 - precision: 0.8966 - recall: 0.9013 - val_loss: 0.2053 - val_accuracy: 0.9250 - val_precision: 0.9217 - val_recall: 0.9290\n",
      "Epoch 7/10\n",
      "2820/2820 [==============================] - 24s 8ms/step - loss: 0.2465 - accuracy: 0.9043 - precision: 0.9030 - recall: 0.9058 - val_loss: 0.2103 - val_accuracy: 0.9212 - val_precision: 0.9182 - val_recall: 0.9248\n",
      "Epoch 8/10\n",
      "2820/2820 [==============================] - 24s 8ms/step - loss: 0.2357 - accuracy: 0.9083 - precision: 0.9081 - recall: 0.9085 - val_loss: 0.2101 - val_accuracy: 0.9229 - val_precision: 0.9235 - val_recall: 0.9222\n",
      "Epoch 9/10\n",
      "2820/2820 [==============================] - 24s 8ms/step - loss: 0.2327 - accuracy: 0.9097 - precision: 0.9073 - recall: 0.9126 - val_loss: 0.2021 - val_accuracy: 0.9263 - val_precision: 0.9265 - val_recall: 0.9260\n",
      "Epoch 10/10\n",
      "2820/2820 [==============================] - 24s 8ms/step - loss: 0.2274 - accuracy: 0.9134 - precision: 0.9124 - recall: 0.9145 - val_loss: 0.1925 - val_accuracy: 0.9303 - val_precision: 0.9276 - val_recall: 0.9335\n"
     ]
    }
   ],
   "source": [
    "# BCE Loss\n",
    "history3 = siamese3.fit(\n",
    "    [x_train_1, x_train_2],\n",
    "    labels_train,\n",
    "    validation_data=([x_val_1, x_val_2], labels_val),\n",
    "    batch_size=batch_size,\n",
    "    epochs=epochs,\n",
    ")"
   ]
  },
  {
   "cell_type": "code",
   "execution_count": 36,
   "metadata": {},
   "outputs": [
    {
     "name": "stdout",
     "output_type": "stream",
     "text": [
      "Epoch 1/10\n",
      "2820/2820 [==============================] - 24s 8ms/step - loss: 1.2121 - accuracy: 0.4934 - val_loss: 1.1685 - val_accuracy: 0.5000\n",
      "Epoch 2/10\n",
      "2820/2820 [==============================] - 24s 8ms/step - loss: 1.0343 - accuracy: 0.6068 - val_loss: 0.6696 - val_accuracy: 0.8101\n",
      "Epoch 3/10\n",
      "2820/2820 [==============================] - 23s 8ms/step - loss: 0.6441 - accuracy: 0.8224 - val_loss: 0.4783 - val_accuracy: 0.8756\n",
      "Epoch 4/10\n",
      "2820/2820 [==============================] - 23s 8ms/step - loss: 0.5274 - accuracy: 0.8617 - val_loss: 0.4050 - val_accuracy: 0.8980\n",
      "Epoch 5/10\n",
      "2820/2820 [==============================] - 23s 8ms/step - loss: 0.4651 - accuracy: 0.8804 - val_loss: 0.3634 - val_accuracy: 0.9102\n",
      "Epoch 6/10\n",
      "2820/2820 [==============================] - 23s 8ms/step - loss: 0.4291 - accuracy: 0.8909 - val_loss: 0.3522 - val_accuracy: 0.9132\n",
      "Epoch 7/10\n",
      "2820/2820 [==============================] - 23s 8ms/step - loss: 0.4142 - accuracy: 0.8970 - val_loss: 0.3303 - val_accuracy: 0.9197\n",
      "Epoch 8/10\n",
      "2820/2820 [==============================] - 23s 8ms/step - loss: 0.3999 - accuracy: 0.9006 - val_loss: 0.3256 - val_accuracy: 0.9204\n",
      "Epoch 9/10\n",
      "2820/2820 [==============================] - 23s 8ms/step - loss: 0.3805 - accuracy: 0.9054 - val_loss: 0.3207 - val_accuracy: 0.9221\n",
      "Epoch 10/10\n",
      "2820/2820 [==============================] - 23s 8ms/step - loss: 0.3769 - accuracy: 0.9074 - val_loss: 0.3193 - val_accuracy: 0.9236\n"
     ]
    }
   ],
   "source": [
    "# BCE + Dice Loss\n",
    "history4 = siamese4.fit(\n",
    "    [x_train_1, x_train_2],\n",
    "    labels_train,\n",
    "    validation_data=([x_val_1, x_val_2], labels_val),\n",
    "    batch_size=batch_size,\n",
    "    epochs=epochs,\n",
    ")"
   ]
  },
  {
   "cell_type": "markdown",
   "metadata": {
    "id": "s5iZCH93XdMn"
   },
   "source": [
    "## Visualize results"
   ]
  },
  {
   "cell_type": "code",
   "execution_count": 37,
   "metadata": {},
   "outputs": [],
   "source": [
    "def plt_metric(history, metric, title, has_valid=True, x = 0, y = 0):\n",
    "    \"\"\"Plots the given 'metric' from 'history'.\n",
    "\n",
    "    Arguments:\n",
    "        history: history attribute of History object returned from Model.fit.\n",
    "        metric: Metric to plot, a string value present as key in 'history'.\n",
    "        title: A string to be used as title of plot.\n",
    "        has_valid: Boolean, true if valid data was passed to Model.fit else false.\n",
    "\n",
    "    Returns:\n",
    "        None.\n",
    "    \"\"\"\n",
    "    axs[x, y].plot(history[metric])\n",
    "    if has_valid:\n",
    "        axs[x, y].plot(history[\"val_\" + metric])\n",
    "        axs[x, y].legend([\"train\", \"validation\"], loc=\"upper left\")\n",
    "    axs[x, y].set_title(title)\n",
    "    \n",
    "    for ax in axs.flat:\n",
    "        ax.set(xlabel=\"epoch\", ylabel=metric)\n",
    "    \n",
    "    # Hide x labels and tick labels for top plots and y ticks for right plots.\n",
    "    for ax in axs.flat:\n",
    "        ax.label_outer()"
   ]
  },
  {
   "cell_type": "code",
   "execution_count": 38,
   "metadata": {},
   "outputs": [
    {
     "data": {
      "image/png": "[encoded data removed]",
      "text/plain": [
       "<Figure size 1440x432 with 8 Axes>"
      ]
     },
     "metadata": {
      "needs_background": "light"
     },
     "output_type": "display_data"
    }
   ],
   "source": [
    "fig, axs = plt.subplots(2, 4)\n",
    "\n",
    "fig.set_figheight(6)\n",
    "fig.set_figwidth(20)\n",
    "\n",
    "# Plot the accuracy of contrastive loss\n",
    "plt_metric(history=history1.history, metric=\"accuracy\", title=\"Model accuracy of CL\", x=0 ,y=0)\n",
    "\n",
    "# Plot the contrastive loss\n",
    "plt_metric(history=history1.history, metric=\"loss\", title=\"Contrastive Loss\", x=1 ,y=0)\n",
    "\n",
    "# Plot the accuracy of dice loss\n",
    "plt_metric(history=history2.history, metric=\"accuracy\", title=\"Model accuracy of DL\",x=0 ,y=1)\n",
    "\n",
    "# Plot the dice loss\n",
    "plt_metric(history=history2.history, metric=\"loss\", title=\"Dice Loss\", x=1 ,y=1)\n",
    "\n",
    "# Plot the accuracy of BCE loss\n",
    "plt_metric(history=history3.history, metric=\"accuracy\", title=\"Model accuracy of BCEL\",x=0 ,y=2)\n",
    "\n",
    "# Plot the BCE loss\n",
    "plt_metric(history=history3.history, metric=\"loss\", title=\"BCE Loss\", x=1 ,y=2)\n",
    "\n",
    "# Plot the accuracy of BCE dice loss\n",
    "plt_metric(history=history4.history, metric=\"accuracy\", title=\"Model accuracy of BCEDL\", x=0 ,y=3)\n",
    "\n",
    "# Plot the BCE dice loss\n",
    "plt_metric(history=history4.history, metric=\"loss\", title=\"BCE Dice Loss\", x=1 ,y=3)"
   ]
  },
  {
   "cell_type": "markdown",
   "metadata": {
    "id": "VRcXg3LLXdMn"
   },
   "source": [
    "## Evaluate the model"
   ]
  },
  {
   "cell_type": "code",
   "execution_count": 39,
   "metadata": {
    "id": "UZ9TZ01LXdMo"
   },
   "outputs": [
    {
     "name": "stdout",
     "output_type": "stream",
     "text": [
      "1410/1410 [==============================] - 3s 2ms/step - loss: 0.0566 - accuracy: 0.9260\n",
      "test loss, test acc: [0.05658998340368271, 0.9260194897651672]\n"
     ]
    }
   ],
   "source": [
    "results1 = siamese1.evaluate([x_test_1, x_test_2], labels_test)\n",
    "print(\"test loss, test acc:\", results1)"
   ]
  },
  {
   "cell_type": "code",
   "execution_count": 40,
   "metadata": {},
   "outputs": [
    {
     "name": "stdout",
     "output_type": "stream",
     "text": [
      "1410/1410 [==============================] - 3s 2ms/step - loss: 0.1110 - accuracy: 0.8886\n",
      "test loss, test acc: [0.11097139120101929, 0.8886081576347351]\n"
     ]
    }
   ],
   "source": [
    "results2 = siamese2.evaluate([x_test_1, x_test_2], labels_test)\n",
    "print(\"test loss, test acc:\", results2)"
   ]
  },
  {
   "cell_type": "code",
   "execution_count": 41,
   "metadata": {},
   "outputs": [
    {
     "name": "stdout",
     "output_type": "stream",
     "text": [
      "1410/1410 [==============================] - 3s 2ms/step - loss: 0.1929 - accuracy: 0.9295 - precision: 0.9268 - recall: 0.9328\n",
      "test loss, test acc: [0.19289734959602356, 0.9295434355735779, 0.9267627000808716, 0.9328014254570007]\n"
     ]
    }
   ],
   "source": [
    "results3 = siamese3.evaluate([x_test_1, x_test_2], labels_test)\n",
    "print(\"test loss, test acc:\", results3)"
   ]
  },
  {
   "cell_type": "code",
   "execution_count": 42,
   "metadata": {},
   "outputs": [
    {
     "name": "stdout",
     "output_type": "stream",
     "text": [
      "1410/1410 [==============================] - 3s 2ms/step - loss: 0.3189 - accuracy: 0.9234\n",
      "test loss, test acc: [0.3188972473144531, 0.9234263896942139]\n"
     ]
    }
   ],
   "source": [
    "results4 = siamese4.evaluate([x_test_1, x_test_2], labels_test)\n",
    "print(\"test loss, test acc:\", results4)"
   ]
  },
  {
   "cell_type": "code",
   "execution_count": 43,
   "metadata": {},
   "outputs": [
    {
     "name": "stdout",
     "output_type": "stream",
     "text": [
      "1410/1410 [==============================] - 3s 2ms/step\n",
      "              precision    recall  f1-score   support\n",
      "\n",
      "         0.0       0.50      1.00      0.67     22560\n",
      "         1.0       0.00      0.00      0.00     22560\n",
      "\n",
      "    accuracy                           0.50     45120\n",
      "   macro avg       0.25      0.50      0.33     45120\n",
      "weighted avg       0.25      0.50      0.33     45120\n",
      "\n"
     ]
    },
    {
     "name": "stderr",
     "output_type": "stream",
     "text": [
      "/home/nd/anaconda3/lib/python3.9/site-packages/sklearn/metrics/_classification.py:1318: UndefinedMetricWarning: Precision and F-score are ill-defined and being set to 0.0 in labels with no predicted samples. Use `zero_division` parameter to control this behavior.\n",
      "  _warn_prf(average, modifier, msg_start, len(result))\n",
      "/home/nd/anaconda3/lib/python3.9/site-packages/sklearn/metrics/_classification.py:1318: UndefinedMetricWarning: Precision and F-score are ill-defined and being set to 0.0 in labels with no predicted samples. Use `zero_division` parameter to control this behavior.\n",
      "  _warn_prf(average, modifier, msg_start, len(result))\n",
      "/home/nd/anaconda3/lib/python3.9/site-packages/sklearn/metrics/_classification.py:1318: UndefinedMetricWarning: Precision and F-score are ill-defined and being set to 0.0 in labels with no predicted samples. Use `zero_division` parameter to control this behavior.\n",
      "  _warn_prf(average, modifier, msg_start, len(result))\n"
     ]
    }
   ],
   "source": [
    "from sklearn.metrics import classification_report, accuracy_score, roc_auc_score, recall_score, precision_score, f1_score\n",
    "\n",
    "# Evaluate the model on the test set\n",
    "y_pred_cat1 = siamese1.predict([x_test_1, x_test_2])\n",
    "y_pred1 = np.argmax(y_pred_cat1, axis=1)\n",
    "\n",
    "report1 = classification_report(labels_test, y_pred1)\n",
    "print(report1)"
   ]
  },
  {
   "cell_type": "code",
   "execution_count": 44,
   "metadata": {},
   "outputs": [
    {
     "name": "stdout",
     "output_type": "stream",
     "text": [
      "1410/1410 [==============================] - 3s 2ms/step\n",
      "              precision    recall  f1-score   support\n",
      "\n",
      "         0.0       0.50      1.00      0.67     22560\n",
      "         1.0       0.00      0.00      0.00     22560\n",
      "\n",
      "    accuracy                           0.50     45120\n",
      "   macro avg       0.25      0.50      0.33     45120\n",
      "weighted avg       0.25      0.50      0.33     45120\n",
      "\n"
     ]
    },
    {
     "name": "stderr",
     "output_type": "stream",
     "text": [
      "/home/nd/anaconda3/lib/python3.9/site-packages/sklearn/metrics/_classification.py:1318: UndefinedMetricWarning: Precision and F-score are ill-defined and being set to 0.0 in labels with no predicted samples. Use `zero_division` parameter to control this behavior.\n",
      "  _warn_prf(average, modifier, msg_start, len(result))\n",
      "/home/nd/anaconda3/lib/python3.9/site-packages/sklearn/metrics/_classification.py:1318: UndefinedMetricWarning: Precision and F-score are ill-defined and being set to 0.0 in labels with no predicted samples. Use `zero_division` parameter to control this behavior.\n",
      "  _warn_prf(average, modifier, msg_start, len(result))\n",
      "/home/nd/anaconda3/lib/python3.9/site-packages/sklearn/metrics/_classification.py:1318: UndefinedMetricWarning: Precision and F-score are ill-defined and being set to 0.0 in labels with no predicted samples. Use `zero_division` parameter to control this behavior.\n",
      "  _warn_prf(average, modifier, msg_start, len(result))\n"
     ]
    }
   ],
   "source": [
    "\n",
    "y_pred_cat2 = siamese2.predict([x_test_1, x_test_2])\n",
    "y_pred2 = np.argmax(y_pred_cat2, axis=1)\n",
    "\n",
    "report2 = classification_report(labels_test, y_pred2)\n",
    "print(report2)\n"
   ]
  },
  {
   "cell_type": "code",
   "execution_count": 45,
   "metadata": {},
   "outputs": [
    {
     "name": "stdout",
     "output_type": "stream",
     "text": [
      "1410/1410 [==============================] - 3s 2ms/step\n",
      "              precision    recall  f1-score   support\n",
      "\n",
      "         0.0       0.50      1.00      0.67     22560\n",
      "         1.0       0.00      0.00      0.00     22560\n",
      "\n",
      "    accuracy                           0.50     45120\n",
      "   macro avg       0.25      0.50      0.33     45120\n",
      "weighted avg       0.25      0.50      0.33     45120\n",
      "\n"
     ]
    },
    {
     "name": "stderr",
     "output_type": "stream",
     "text": [
      "/home/nd/anaconda3/lib/python3.9/site-packages/sklearn/metrics/_classification.py:1318: UndefinedMetricWarning: Precision and F-score are ill-defined and being set to 0.0 in labels with no predicted samples. Use `zero_division` parameter to control this behavior.\n",
      "  _warn_prf(average, modifier, msg_start, len(result))\n",
      "/home/nd/anaconda3/lib/python3.9/site-packages/sklearn/metrics/_classification.py:1318: UndefinedMetricWarning: Precision and F-score are ill-defined and being set to 0.0 in labels with no predicted samples. Use `zero_division` parameter to control this behavior.\n",
      "  _warn_prf(average, modifier, msg_start, len(result))\n",
      "/home/nd/anaconda3/lib/python3.9/site-packages/sklearn/metrics/_classification.py:1318: UndefinedMetricWarning: Precision and F-score are ill-defined and being set to 0.0 in labels with no predicted samples. Use `zero_division` parameter to control this behavior.\n",
      "  _warn_prf(average, modifier, msg_start, len(result))\n"
     ]
    }
   ],
   "source": [
    "\n",
    "y_pred_cat3 = siamese2.predict([x_test_1, x_test_2])\n",
    "y_pred3 = np.argmax(y_pred_cat3, axis=1)\n",
    "\n",
    "report3 = classification_report(labels_test, y_pred3)\n",
    "print(report3)"
   ]
  },
  {
   "cell_type": "code",
   "execution_count": 46,
   "metadata": {},
   "outputs": [
    {
     "name": "stdout",
     "output_type": "stream",
     "text": [
      "1410/1410 [==============================] - 3s 2ms/step\n",
      "              precision    recall  f1-score   support\n",
      "\n",
      "         0.0       0.50      1.00      0.67     22560\n",
      "         1.0       0.00      0.00      0.00     22560\n",
      "\n",
      "    accuracy                           0.50     45120\n",
      "   macro avg       0.25      0.50      0.33     45120\n",
      "weighted avg       0.25      0.50      0.33     45120\n",
      "\n"
     ]
    },
    {
     "name": "stderr",
     "output_type": "stream",
     "text": [
      "/home/nd/anaconda3/lib/python3.9/site-packages/sklearn/metrics/_classification.py:1318: UndefinedMetricWarning: Precision and F-score are ill-defined and being set to 0.0 in labels with no predicted samples. Use `zero_division` parameter to control this behavior.\n",
      "  _warn_prf(average, modifier, msg_start, len(result))\n",
      "/home/nd/anaconda3/lib/python3.9/site-packages/sklearn/metrics/_classification.py:1318: UndefinedMetricWarning: Precision and F-score are ill-defined and being set to 0.0 in labels with no predicted samples. Use `zero_division` parameter to control this behavior.\n",
      "  _warn_prf(average, modifier, msg_start, len(result))\n",
      "/home/nd/anaconda3/lib/python3.9/site-packages/sklearn/metrics/_classification.py:1318: UndefinedMetricWarning: Precision and F-score are ill-defined and being set to 0.0 in labels with no predicted samples. Use `zero_division` parameter to control this behavior.\n",
      "  _warn_prf(average, modifier, msg_start, len(result))\n"
     ]
    }
   ],
   "source": [
    "y_pred_cat4 = siamese2.predict([x_test_1, x_test_2])\n",
    "y_pred4 = np.argmax(y_pred_cat4, axis=1)\n",
    "\n",
    "report4 = classification_report(labels_test, y_pred4)\n",
    "print(report4)"
   ]
  },
  {
   "cell_type": "markdown",
   "metadata": {
    "id": "EOdcBjXhXdMs"
   },
   "source": [
    "## Visualize the predictions"
   ]
  },
  {
   "cell_type": "code",
   "execution_count": 47,
   "metadata": {
    "id": "Jw0ysl9aXdMs"
   },
   "outputs": [
    {
     "name": "stdout",
     "output_type": "stream",
     "text": [
      "1410/1410 [==============================] - 3s 2ms/step\n"
     ]
    },
    {
     "data": {
      "image/png": "[encoded data removed]",
      "text/plain": [
       "<Figure size 360x360 with 3 Axes>"
      ]
     },
     "metadata": {
      "needs_background": "light"
     },
     "output_type": "display_data"
    }
   ],
   "source": [
    "predictions = siamese1.predict([x_test_1, x_test_2])\n",
    "visualize(pairs_test, labels_test, to_show=3, predictions=predictions, test=True)"
   ]
  },
  {
   "cell_type": "markdown",
   "metadata": {},
   "source": [
    "## Other Possible Loss Functions"
   ]
  },
  {
   "cell_type": "markdown",
   "metadata": {},
   "source": [
    "### Cross Entropy with balance factor (2023)\n",
    "Paper: \n",
    "https://ieeexplore.ieee.org/stamp/stamp.jsp?tp=&arnumber=10021880 \n",
    "\n",
    "### Join of MSE, bidirectional Kullback Leibler divergence and rank order of quality scores (2023)\n",
    "Paper: \n",
    "https://dl.acm.org/doi/abs/10.1145/3597434\n",
    "\n",
    "### Multiple negative ranking loss (2022)\n",
    "Paper: \n",
    "https://arxiv.org/pdf/2203.14541.pdf\n",
    "\n",
    "### Max margin hinge loss (2021)\n",
    "Paper: \n",
    "https://ieeexplore.ieee.org/stamp/stamp.jsp?tp=&arnumber=9414458\n",
    "\n",
    "### Softmax cross entropy loss (2018)\n",
    "Paper: \n",
    "https://www.researchgate.net/publication/326204812_Modeling_Contemporaneous_Basket_Sequences_with_Twin_Networks_for_Next-Item_Recommendation"
   ]
  }
 ],
 "metadata": {
  "accelerator": "GPU",
  "colab": {
   "name": "siamese_contrastive",
   "provenance": [],
   "toc_visible": true
  },
  "kernelspec": {
   "display_name": "Python 3 (ipykernel)",
   "language": "python",
   "name": "python3"
  },
  "language_info": {
   "codemirror_mode": {
    "name": "ipython",
    "version": 3
   },
   "file_extension": ".py",
   "mimetype": "text/x-python",
   "name": "python",
   "nbconvert_exporter": "python",
   "pygments_lexer": "ipython3",
   "version": "3.9.12"
  }
 },
 "nbformat": 4,
 "nbformat_minor": 1
}
