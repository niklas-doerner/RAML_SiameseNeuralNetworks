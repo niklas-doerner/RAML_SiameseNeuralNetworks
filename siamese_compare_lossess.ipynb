{
 "cells": [
  {
   "cell_type": "markdown",
   "metadata": {
    "id": "7g29n-03XdMc"
   },
   "source": [
    "# Image similarity estimation using a Siamese Network with a contrastive loss\n",
    "\n",
    "**Author:** Mehdi<br>\n",
    "**Date created:** 2021/05/06<br>\n",
    "**Last modified:** 2022/09/10<br>\n",
    "**Description:** Similarity learning using a siamese network trained with a contrastive loss."
   ]
  },
  {
   "cell_type": "markdown",
   "metadata": {
    "id": "9VADhE2KXdMf"
   },
   "source": [
    "## Introduction\n",
    "\n",
    "[Siamese Networks](https://en.wikipedia.org/wiki/Siamese_neural_network)\n",
    "are neural networks which share weights between two or more sister networks,\n",
    "each producing embedding vectors of its respective inputs.\n",
    "\n",
    "In supervised similarity learning, the networks are then trained to maximize the\n",
    "contrast (distance) between embeddings of inputs of different classes, while minimizing the distance between\n",
    "embeddings of similar classes, resulting in embedding spaces that reflect\n",
    "the class segmentation of the training inputs."
   ]
  },
  {
   "cell_type": "markdown",
   "metadata": {
    "id": "CQQrxvyNXdMf"
   },
   "source": [
    "## Setup"
   ]
  },
  {
   "cell_type": "code",
   "execution_count": 191,
   "metadata": {
    "id": "FKpF_xBfXdMg"
   },
   "outputs": [],
   "source": [
    "import random\n",
    "import numpy as np\n",
    "import tensorflow as tf\n",
    "from tensorflow import keras\n",
    "from tensorflow.keras import layers\n",
    "from tensorflow.keras import backend as K\n",
    "import matplotlib.pyplot as plt\n",
    "import pandas as pd\n",
    "import os\n",
    "from emnist import extract_training_samples"
   ]
  },
  {
   "cell_type": "code",
   "execution_count": 192,
   "metadata": {},
   "outputs": [],
   "source": [
    "from keras import backend as K\n",
    "# Seed value\n",
    "# Apparently you may use different seed values at each stage\n",
    "seed_value= 42\n",
    "\n",
    "# 1. Set the `PYTHONHASHSEED` environment variable at a fixed value\n",
    "os.environ['PYTHONHASHSEED']=str(seed_value)\n",
    "\n",
    "# 2. Set the `python` built-in pseudo-random generator at a fixed value\n",
    "random.seed(seed_value)\n",
    "\n",
    "# 3. Set the `numpy` pseudo-random generator at a fixed value\n",
    "np.random.seed(seed_value)\n",
    "\n",
    "# 4. Set the `tensorflow` pseudo-random generator at a fixed value\n",
    "tf.compat.v1.set_random_seed(seed_value)\n",
    "\n",
    "# 5. Configure a new global `tensorflow` session\n",
    "session_conf = tf.compat.v1.ConfigProto(intra_op_parallelism_threads=1, inter_op_parallelism_threads=1)\n",
    "sess = tf.compat.v1.Session(graph=tf.compat.v1.get_default_graph(), config=session_conf)\n",
    "tf.compat.v1.keras.backend.set_session(sess)"
   ]
  },
  {
   "cell_type": "markdown",
   "metadata": {
    "id": "qcZA2jgDXdMh"
   },
   "source": [
    "## Hyperparameters"
   ]
  },
  {
   "cell_type": "code",
   "execution_count": 193,
   "metadata": {
    "id": "AzoUvjowXdMh"
   },
   "outputs": [],
   "source": [
    "epochs = 10\n",
    "batch_size = 16\n",
    "margin = 1  # Margin for contrastive loss."
   ]
  },
  {
   "cell_type": "markdown",
   "metadata": {
    "id": "DehTegg-XdMh"
   },
   "source": [
    "## Load the (E)MNIST dataset"
   ]
  },
  {
   "cell_type": "code",
   "execution_count": 208,
   "metadata": {
    "id": "6LN9uH0AXdMi"
   },
   "outputs": [
    {
     "name": "stdout",
     "output_type": "stream",
     "text": [
      "Dataset shape: (112800, 28, 28) (112800,)\n",
      "Unsorted lables: [45 36 43 ... 23 31  8]\n",
      "Sorted labels: [ 0  0  0 ... 46 46 46]\n",
      "Train + Val shape: (90240, 28, 28) (90240,)\n",
      "Test shape: (22560, 28, 28) (22560,)\n",
      "Length: 47\n"
     ]
    }
   ],
   "source": [
    "### https://pypi.org/project/emnist/ ###\n",
    "### https://stackoverflow.com/questions/51125969/loading-emnist-letters-dataset ###\n",
    "\n",
    "images, labels = extract_training_samples('balanced')\n",
    "\n",
    "# balanced = 112800: 90240 = (67680 + 22560) ; 22560\n",
    "# mnist = 60000: 48000 = (36000 + 12000) ; 12000\n",
    "\n",
    "print(\"Dataset shape:\",images.shape, labels.shape)\n",
    "\n",
    "print(\"Unsorted lables:\",labels)\n",
    "#plt.imshow(images[9].reshape(28,28), cmap=\"gray\")\n",
    "\n",
    "idx = np.argsort(labels)\n",
    "images_sorted = images[idx]\n",
    "labels_sorted = labels[idx]\n",
    "\n",
    "print(\"Sorted labels:\",labels_sorted)\n",
    "#plt.imshow(images_sorted[9].reshape(28,28), cmap=\"gray\")\n",
    "\n",
    "x_train_val = images_sorted[:90240] #= images[:90240]\n",
    "y_train_val = labels_sorted[:90240] #= labels[:90240]\n",
    "x_test = images_sorted[90240:] #= images[:90240]\n",
    "y_test = labels_sorted[90240:] #= lables[:90240]\n",
    "\n",
    "print(\"Train + Val shape:\",x_train_val.shape, y_train_val.shape)\n",
    "print(\"Test shape:\", x_test.shape, y_test.shape)\n",
    "\n",
    "# Change the data type to a floating point format\n",
    "x_train_val = x_train_val.astype(\"float32\")\n",
    "x_test = x_test.astype(\"float32\")\n",
    "\n",
    "print(\"Length:\", len(np.unique(labels)))"
   ]
  },
  {
   "cell_type": "markdown",
   "metadata": {
    "id": "KvSgU34IXdMi"
   },
   "source": [
    "## Define training and validation sets"
   ]
  },
  {
   "cell_type": "code",
   "execution_count": 209,
   "metadata": {
    "id": "nhkfPg1yXdMj"
   },
   "outputs": [],
   "source": [
    "# 60% training data, 20% validation data, 20% test data \n",
    "\n",
    "x_train, x_val = x_train_val[:22560], x_train_val[22560:]\n",
    "y_train, y_val = y_train_val[:22560], y_train_val[22560:]\n",
    "del x_train_val, y_train_val\n"
   ]
  },
  {
   "cell_type": "markdown",
   "metadata": {
    "id": "m92thOe8XdMj"
   },
   "source": [
    "## Create pairs of images\n",
    "\n",
    "We will train the model to differentiate between digits of different classes. For\n",
    "example, digit `0` needs to be differentiated from the rest of the\n",
    "digits (`1` through `9`), digit `1` - from `0` and `2` through `9`, and so on.\n",
    "To carry this out, we will select N random images from class A (for example,\n",
    "for digit `0`) and pair them with N random images from another class B\n",
    "(for example, for digit `1`). Then, we can repeat this process for all classes\n",
    "of digits (until digit `9`). Once we have paired digit `0` with other digits,\n",
    "we can repeat this process for the remaining classes for the rest of the digits\n",
    "(from `1` until `9`)."
   ]
  },
  {
   "cell_type": "code",
   "execution_count": 215,
   "metadata": {
    "id": "InH67YntXdMj"
   },
   "outputs": [
    {
     "ename": "IndexError",
     "evalue": "index 0 is out of bounds for axis 0 with size 0",
     "output_type": "error",
     "traceback": [
      "\u001b[0;31m---------------------------------------------------------------------------\u001b[0m",
      "\u001b[0;31mIndexError\u001b[0m                                Traceback (most recent call last)",
      "Input \u001b[0;32mIn [215]\u001b[0m, in \u001b[0;36m<cell line: 48>\u001b[0;34m()\u001b[0m\n\u001b[1;32m     45\u001b[0m pairs_train, labels_train \u001b[38;5;241m=\u001b[39m make_pairs(x_train, y_train)\n\u001b[1;32m     47\u001b[0m \u001b[38;5;66;03m# make validation pairs\u001b[39;00m\n\u001b[0;32m---> 48\u001b[0m pairs_val, labels_val \u001b[38;5;241m=\u001b[39m \u001b[43mmake_pairs\u001b[49m\u001b[43m(\u001b[49m\u001b[43mx_val\u001b[49m\u001b[43m,\u001b[49m\u001b[43m \u001b[49m\u001b[43my_val\u001b[49m\u001b[43m)\u001b[49m\n\u001b[1;32m     50\u001b[0m \u001b[38;5;66;03m# make test pairs\u001b[39;00m\n\u001b[1;32m     51\u001b[0m pairs_test, labels_test \u001b[38;5;241m=\u001b[39m make_pairs(x_test, y_test)\n",
      "Input \u001b[0;32mIn [215]\u001b[0m, in \u001b[0;36mmake_pairs\u001b[0;34m(x, y)\u001b[0m\n\u001b[1;32m     32\u001b[0m \u001b[38;5;28;01mwhile\u001b[39;00m label2 \u001b[38;5;241m==\u001b[39m label1:\n\u001b[1;32m     33\u001b[0m     label2 \u001b[38;5;241m=\u001b[39m random\u001b[38;5;241m.\u001b[39mrandint(\u001b[38;5;241m0\u001b[39m, num_classes \u001b[38;5;241m-\u001b[39m \u001b[38;5;241m1\u001b[39m)\n\u001b[0;32m---> 35\u001b[0m idx2 \u001b[38;5;241m=\u001b[39m \u001b[43mrandom\u001b[49m\u001b[38;5;241;43m.\u001b[39;49m\u001b[43mchoice\u001b[49m\u001b[43m(\u001b[49m\u001b[43mdigit_indices\u001b[49m\u001b[43m[\u001b[49m\u001b[43mlabel2\u001b[49m\u001b[43m]\u001b[49m\u001b[43m)\u001b[49m\n\u001b[1;32m     36\u001b[0m x2 \u001b[38;5;241m=\u001b[39m x[idx2]\n\u001b[1;32m     38\u001b[0m pairs \u001b[38;5;241m+\u001b[39m\u001b[38;5;241m=\u001b[39m [[x1, x2]]\n",
      "File \u001b[0;32m~/anaconda3/lib/python3.9/random.py:346\u001b[0m, in \u001b[0;36mRandom.choice\u001b[0;34m(self, seq)\u001b[0m\n\u001b[1;32m    344\u001b[0m \u001b[38;5;124;03m\"\"\"Choose a random element from a non-empty sequence.\"\"\"\u001b[39;00m\n\u001b[1;32m    345\u001b[0m \u001b[38;5;66;03m# raises IndexError if seq is empty\u001b[39;00m\n\u001b[0;32m--> 346\u001b[0m \u001b[38;5;28;01mreturn\u001b[39;00m \u001b[43mseq\u001b[49m\u001b[43m[\u001b[49m\u001b[38;5;28;43mself\u001b[39;49m\u001b[38;5;241;43m.\u001b[39;49m\u001b[43m_randbelow\u001b[49m\u001b[43m(\u001b[49m\u001b[38;5;28;43mlen\u001b[39;49m\u001b[43m(\u001b[49m\u001b[43mseq\u001b[49m\u001b[43m)\u001b[49m\u001b[43m)\u001b[49m\u001b[43m]\u001b[49m\n",
      "\u001b[0;31mIndexError\u001b[0m: index 0 is out of bounds for axis 0 with size 0"
     ]
    }
   ],
   "source": [
    "\n",
    "def make_pairs(x, y):\n",
    "    \"\"\"Creates a tuple containing image pairs with corresponding label.\n",
    "\n",
    "    Arguments:\n",
    "        x: List containing images, each index in this list corresponds to one image.\n",
    "        y: List containing labels, each label with datatype of `int`.\n",
    "\n",
    "    Returns:\n",
    "        Tuple containing two numpy arrays as (pairs_of_samples, labels),\n",
    "        where pairs_of_samples' shape is (2len(x), 2,n_features_dims) and\n",
    "        labels are a binary array of shape (2len(x)).\n",
    "    \"\"\"\n",
    "\n",
    "    num_classes = max(y) + 1\n",
    "    digit_indices = [np.where(y == i)[0] for i in range(num_classes)]\n",
    "\n",
    "    pairs = []\n",
    "    labels = []\n",
    "\n",
    "    for idx1 in range(len(x)):\n",
    "        # add a matching example\n",
    "        x1 = x[idx1]\n",
    "        label1 = y[idx1]\n",
    "        idx2 = random.choice(digit_indices[label1])\n",
    "        x2 = x[idx2]\n",
    "\n",
    "        pairs += [[x1, x2]]\n",
    "        labels += [0]\n",
    "\n",
    "        # add a non-matching example\n",
    "        label2 = random.randint(0, num_classes - 1)\n",
    "        while label2 == label1:\n",
    "            label2 = random.randint(0, num_classes - 1)\n",
    "\n",
    "        idx2 = random.choice(digit_indices[label2])\n",
    "        x2 = x[idx2]\n",
    "\n",
    "        pairs += [[x1, x2]]\n",
    "        labels += [1]\n",
    "\n",
    "    return np.array(pairs), np.array(labels).astype(\"float32\")\n",
    "\n",
    "\n",
    "# make train pairs\n",
    "pairs_train, labels_train = make_pairs(x_train, y_train)\n",
    "\n",
    "# make validation pairs\n",
    "pairs_val, labels_val = make_pairs(x_val, y_val)\n",
    "\n",
    "# make test pairs\n",
    "pairs_test, labels_test = make_pairs(x_test, y_test)"
   ]
  },
  {
   "cell_type": "markdown",
   "metadata": {
    "id": "6YLwd9xmXdMj"
   },
   "source": [
    "We get:\n",
    "\n",
    "**pairs_train.shape = (60000, 2, 28, 28)**\n",
    "\n",
    "- We have 60,000 pairs\n",
    "- Each pair contains 2 images\n",
    "- Each image has shape `(28, 28)`"
   ]
  },
  {
   "cell_type": "markdown",
   "metadata": {
    "id": "o1JtEUBuXdMk"
   },
   "source": [
    "Split the training pairs"
   ]
  },
  {
   "cell_type": "code",
   "execution_count": 211,
   "metadata": {
    "id": "QYcwnpZJXdMk"
   },
   "outputs": [],
   "source": [
    "x_train_1 = pairs_train[:, 0]  # x_train_1.shape is (60000, 28, 28)\n",
    "x_train_2 = pairs_train[:, 1]"
   ]
  },
  {
   "cell_type": "markdown",
   "metadata": {
    "id": "oMOk7mH-XdMk"
   },
   "source": [
    "Split the validation pairs"
   ]
  },
  {
   "cell_type": "code",
   "execution_count": 212,
   "metadata": {
    "id": "Y_L3Nj3bXdMk"
   },
   "outputs": [],
   "source": [
    "x_val_1 = pairs_val[:, 0]  # x_val_1.shape = (60000, 28, 28)\n",
    "x_val_2 = pairs_val[:, 1]"
   ]
  },
  {
   "cell_type": "markdown",
   "metadata": {
    "id": "qJmT0sdJXdMk"
   },
   "source": [
    "Split the test pairs"
   ]
  },
  {
   "cell_type": "code",
   "execution_count": 213,
   "metadata": {
    "id": "AmNBJHDNXdMk"
   },
   "outputs": [],
   "source": [
    "x_test_1 = pairs_test[:, 0]  # x_test_1.shape = (20000, 28, 28)\n",
    "x_test_2 = pairs_test[:, 1]\n"
   ]
  },
  {
   "cell_type": "markdown",
   "metadata": {
    "id": "pORk-ebIXdMk"
   },
   "source": [
    "## Visualize pairs and their labels"
   ]
  },
  {
   "cell_type": "code",
   "execution_count": 128,
   "metadata": {
    "id": "qEo_u-ppXdMl"
   },
   "outputs": [],
   "source": [
    "\n",
    "def visualize(pairs, labels, to_show=6, num_col=3, predictions=None, test=False):\n",
    "    \"\"\"Creates a plot of pairs and labels, and prediction if it's test dataset.\n",
    "\n",
    "    Arguments:\n",
    "        pairs: Numpy Array, of pairs to visualize, having shape\n",
    "               (Number of pairs, 2, 28, 28).\n",
    "        to_show: Int, number of examples to visualize (default is 6)\n",
    "                `to_show` must be an integral multiple of `num_col`.\n",
    "                 Otherwise it will be trimmed if it is greater than num_col,\n",
    "                 and incremented if if it is less then num_col.\n",
    "        num_col: Int, number of images in one row - (default is 3)\n",
    "                 For test and train respectively, it should not exceed 3 and 7.\n",
    "        predictions: Numpy Array of predictions with shape (to_show, 1) -\n",
    "                     (default is None)\n",
    "                     Must be passed when test=True.\n",
    "        test: Boolean telling whether the dataset being visualized is\n",
    "              train dataset or test dataset - (default False).\n",
    "\n",
    "    Returns:\n",
    "        None.\n",
    "    \"\"\"\n",
    "\n",
    "    # Define num_row\n",
    "    # If to_show % num_col != 0\n",
    "    #    trim to_show,\n",
    "    #       to trim to_show limit num_row to the point where\n",
    "    #       to_show % num_col == 0\n",
    "    #\n",
    "    # If to_show//num_col == 0\n",
    "    #    then it means num_col is greater then to_show\n",
    "    #    increment to_show\n",
    "    #       to increment to_show set num_row to 1\n",
    "    num_row = to_show // num_col if to_show // num_col != 0 else 1\n",
    "\n",
    "    # `to_show` must be an integral multiple of `num_col`\n",
    "    #  we found num_row and we have num_col\n",
    "    #  to increment or decrement to_show\n",
    "    #  to make it integral multiple of `num_col`\n",
    "    #  simply set it equal to num_row * num_col\n",
    "    to_show = num_row * num_col\n",
    "\n",
    "    # Plot the images\n",
    "    fig, axes = plt.subplots(num_row, num_col, figsize=(5, 5))\n",
    "    for i in range(to_show):\n",
    "\n",
    "        # If the number of rows is 1, the axes array is one-dimensional\n",
    "        if num_row == 1:\n",
    "            ax = axes[i % num_col]\n",
    "        else:\n",
    "            ax = axes[i // num_col, i % num_col]\n",
    "\n",
    "        ax.imshow(tf.concat([pairs[i][0], pairs[i][1]], axis=1), cmap=\"gray\")\n",
    "        ax.set_axis_off()\n",
    "        if test:\n",
    "            ax.set_title(\"True: {} | Pred: {:.5f}\".format(labels[i], predictions[i][0]))\n",
    "        else:\n",
    "            ax.set_title(\"Label: {}\".format(labels[i]))\n",
    "    if test:\n",
    "        plt.tight_layout(rect=(0, 0, 1.9, 1.9), w_pad=0.0)\n",
    "    else:\n",
    "        plt.tight_layout(rect=(0, 0, 1.5, 1.5))\n",
    "    plt.show()\n"
   ]
  },
  {
   "cell_type": "markdown",
   "metadata": {
    "id": "V_zqOMPDXdMl"
   },
   "source": [
    "Inspect training pairs"
   ]
  },
  {
   "cell_type": "code",
   "execution_count": 51,
   "metadata": {
    "id": "WU6acLb7XdMl"
   },
   "outputs": [
    {
     "data": {
      "image/png": "[encoded data removed]",
      "text/plain": [
       "<Figure size 360x360 with 4 Axes>"
      ]
     },
     "metadata": {
      "needs_background": "light"
     },
     "output_type": "display_data"
    }
   ],
   "source": [
    "visualize(pairs_train[:-1], labels_train[:-1], to_show=4, num_col=4)"
   ]
  },
  {
   "cell_type": "markdown",
   "metadata": {
    "id": "xFnrhWNZXdMl"
   },
   "source": [
    "Inspect validation pairs"
   ]
  },
  {
   "cell_type": "code",
   "execution_count": 52,
   "metadata": {
    "id": "eSqBkoLBXdMm"
   },
   "outputs": [
    {
     "data": {
      "image/png": "[encoded data removed]",
      "text/plain": [
       "<Figure size 360x360 with 4 Axes>"
      ]
     },
     "metadata": {
      "needs_background": "light"
     },
     "output_type": "display_data"
    }
   ],
   "source": [
    "visualize(pairs_val[:-1], labels_val[:-1], to_show=4, num_col=4)"
   ]
  },
  {
   "cell_type": "markdown",
   "metadata": {
    "id": "TuhP5LPmXdMm"
   },
   "source": [
    "Inspect test pairs"
   ]
  },
  {
   "cell_type": "code",
   "execution_count": 53,
   "metadata": {
    "id": "LQ7zFI0YXdMm"
   },
   "outputs": [
    {
     "data": {
      "image/png": "[encoded data removed]",
      "text/plain": [
       "<Figure size 360x360 with 4 Axes>"
      ]
     },
     "metadata": {
      "needs_background": "light"
     },
     "output_type": "display_data"
    }
   ],
   "source": [
    "visualize(pairs_test[:-1], labels_test[:-1], to_show=4, num_col=4)"
   ]
  },
  {
   "cell_type": "markdown",
   "metadata": {
    "id": "dSaJkzwhXdMm"
   },
   "source": [
    "## Define the model\n",
    "\n",
    "There are two input layers, each leading to its own network, which\n",
    "produces embeddings. A `Lambda` layer then merges them using an\n",
    "[Euclidean distance](https://en.wikipedia.org/wiki/Euclidean_distance) and the\n",
    "merged output is fed to the final network."
   ]
  },
  {
   "cell_type": "code",
   "execution_count": 54,
   "metadata": {
    "id": "Q1ZBwJHJXdMm"
   },
   "outputs": [],
   "source": [
    "# CONTRASTIVE LOSS\n",
    "# Provided two tensors t1 and t2\n",
    "# Euclidean distance = sqrt(sum(square(t1-t2)))\n",
    "def euclidean_distance(vects):\n",
    "    x, y = vects\n",
    "    sum_square = tf.math.reduce_sum(tf.math.square(x - y), axis=1, keepdims=True)\n",
    "    return tf.math.sqrt(tf.math.maximum(sum_square, tf.keras.backend.epsilon()))\n",
    "\n",
    "\n",
    "input = layers.Input((28, 28, 1))\n",
    "x = tf.keras.layers.BatchNormalization()(input)\n",
    "x = layers.Conv2D(4, (5, 5), activation=\"tanh\")(x)\n",
    "x = layers.AveragePooling2D(pool_size=(2, 2))(x)\n",
    "x = layers.Conv2D(16, (5, 5), activation=\"tanh\")(x)\n",
    "x = layers.AveragePooling2D(pool_size=(2, 2))(x)\n",
    "x = layers.Flatten()(x)\n",
    "\n",
    "x = tf.keras.layers.BatchNormalization()(x)\n",
    "x = layers.Dense(47, activation=\"tanh\")(x)\n",
    "embedding_network = keras.Model(input, x)\n",
    "\n",
    "\n",
    "input_1 = layers.Input((28, 28, 1))\n",
    "input_2 = layers.Input((28, 28, 1))\n",
    "\n",
    "# As mentioned above, Siamese Network share weights between\n",
    "# tower networks (sister networks). To allow this, we will use\n",
    "# same embedding network for both tower networks.\n",
    "tower_1 = embedding_network(input_1)\n",
    "tower_2 = embedding_network(input_2)\n",
    "\n",
    "merge_layer = layers.Lambda(euclidean_distance)([tower_1, tower_2])\n",
    "normal_layer = tf.keras.layers.BatchNormalization()(merge_layer)\n",
    "output_layer = layers.Dense(1, activation=\"sigmoid\")(normal_layer)\n",
    "\n",
    "# define model for each loss function\n",
    "siamese1 = keras.Model(inputs=[input_1, input_2], outputs=output_layer)\n"
   ]
  },
  {
   "cell_type": "code",
   "execution_count": 55,
   "metadata": {},
   "outputs": [],
   "source": [
    "# DICE LOSS\n",
    "\n",
    "# Provided two tensors t1 and t2\n",
    "# Euclidean distance = sqrt(sum(square(t1-t2)))\n",
    "def euclidean_distance(vects):\n",
    "    x, y = vects\n",
    "    sum_square = tf.math.reduce_sum(tf.math.square(x - y), axis=1, keepdims=True)\n",
    "    return tf.math.sqrt(tf.math.maximum(sum_square, tf.keras.backend.epsilon()))\n",
    "\n",
    "\n",
    "input2 = layers.Input((28, 28, 1))\n",
    "x2 = tf.keras.layers.BatchNormalization()(input2)\n",
    "x2 = layers.Conv2D(4, (5, 5), activation=\"tanh\")(x2)\n",
    "x2 = layers.AveragePooling2D(pool_size=(2, 2))(x2)\n",
    "x2 = layers.Conv2D(16, (5, 5), activation=\"tanh\")(x2)\n",
    "x2 = layers.AveragePooling2D(pool_size=(2, 2))(x2)\n",
    "x2 = layers.Flatten()(x2)\n",
    "\n",
    "x2 = tf.keras.layers.BatchNormalization()(x2)\n",
    "x2 = layers.Dense(47, activation=\"tanh\")(x2)\n",
    "embedding_network_2 = keras.Model(input2, x2)\n",
    "\n",
    "\n",
    "input_1_2 = layers.Input((28, 28, 1))\n",
    "input_2_2 = layers.Input((28, 28, 1))\n",
    "\n",
    "# As mentioned above, Siamese Network share weights between\n",
    "# tower networks (sister networks). To allow this, we will use\n",
    "# same embedding network for both tower networks.\n",
    "tower_1_2 = embedding_network_2(input_1_2)\n",
    "tower_2_2 = embedding_network_2(input_2_2)\n",
    "\n",
    "merge_layer_2 = layers.Lambda(euclidean_distance)([tower_1_2, tower_2_2])\n",
    "normal_layer_2 = tf.keras.layers.BatchNormalization()(merge_layer_2)\n",
    "output_layer_2 = layers.Dense(1, activation=\"sigmoid\")(normal_layer_2)\n",
    "siamese2 = keras.Model(inputs=[input_1_2, input_2_2], outputs=output_layer_2)"
   ]
  },
  {
   "cell_type": "code",
   "execution_count": 56,
   "metadata": {},
   "outputs": [],
   "source": [
    "# BCE LOSS\n",
    "\n",
    "# Provided two tensors t1 and t2\n",
    "# Euclidean distance = sqrt(sum(square(t1-t2)))\n",
    "def euclidean_distance(vects):\n",
    "    x, y = vects\n",
    "    sum_square = tf.math.reduce_sum(tf.math.square(x - y), axis=1, keepdims=True)\n",
    "    return tf.math.sqrt(tf.math.maximum(sum_square, tf.keras.backend.epsilon()))\n",
    "\n",
    "\n",
    "input3 = layers.Input((28, 28, 1))\n",
    "x3 = tf.keras.layers.BatchNormalization()(input3)\n",
    "x3 = layers.Conv2D(4, (5, 5), activation=\"tanh\")(x3)\n",
    "x3 = layers.AveragePooling2D(pool_size=(2, 2))(x3)\n",
    "x3 = layers.Conv2D(16, (5, 5), activation=\"tanh\")(x3)\n",
    "x3 = layers.AveragePooling2D(pool_size=(2, 2))(x3)\n",
    "x3 = layers.Flatten()(x3)\n",
    "\n",
    "x3 = tf.keras.layers.BatchNormalization()(x3)\n",
    "x3 = layers.Dense(47, activation=\"tanh\")(x3)\n",
    "embedding_network_3 = keras.Model(input3, x3)\n",
    "\n",
    "\n",
    "input_1_3 = layers.Input((28, 28, 1))\n",
    "input_2_3 = layers.Input((28, 28, 1))\n",
    "\n",
    "# As mentioned above, Siamese Network share weights between\n",
    "# tower networks (sister networks). To allow this, we will use\n",
    "# same embedding network for both tower networks.\n",
    "tower_1_3 = embedding_network_3(input_1_3)\n",
    "tower_2_3 = embedding_network_3(input_2_3)\n",
    "\n",
    "merge_layer_3 = layers.Lambda(euclidean_distance)([tower_1_3, tower_2_3])\n",
    "normal_layer_3 = tf.keras.layers.BatchNormalization()(merge_layer_3)\n",
    "output_layer_3 = layers.Dense(1, activation=\"sigmoid\")(normal_layer_3)\n",
    "siamese3 = keras.Model(inputs=[input_1_3, input_2_3], outputs=output_layer_3)"
   ]
  },
  {
   "cell_type": "code",
   "execution_count": 57,
   "metadata": {},
   "outputs": [],
   "source": [
    "# BCE + DICE LOSS\n",
    "\n",
    "# Provided two tensors t1 and t2\n",
    "# Euclidean distance = sqrt(sum(square(t1-t2)))\n",
    "def euclidean_distance(vects):\n",
    "    x, y = vects\n",
    "    sum_square = tf.math.reduce_sum(tf.math.square(x - y), axis=1, keepdims=True)\n",
    "    return tf.math.sqrt(tf.math.maximum(sum_square, tf.keras.backend.epsilon()))\n",
    "\n",
    "\n",
    "input4 = layers.Input((28, 28, 1))\n",
    "x4 = tf.keras.layers.BatchNormalization()(input4)\n",
    "x4 = layers.Conv2D(4, (5, 5), activation=\"tanh\")(x4)\n",
    "x4 = layers.AveragePooling2D(pool_size=(2, 2))(x4)\n",
    "x4 = layers.Conv2D(16, (5, 5), activation=\"tanh\")(x4)\n",
    "x4 = layers.AveragePooling2D(pool_size=(2, 2))(x4)\n",
    "x4 = layers.Flatten()(x4)\n",
    "\n",
    "x4 = tf.keras.layers.BatchNormalization()(x4)\n",
    "x4 = layers.Dense(47, activation=\"tanh\")(x4)\n",
    "embedding_network_4 = keras.Model(input4, x4)\n",
    "\n",
    "\n",
    "input_1_4 = layers.Input((28, 28, 1))\n",
    "input_2_4 = layers.Input((28, 28, 1))\n",
    "\n",
    "# As mentioned above, Siamese Network share weights between\n",
    "# tower networks (sister networks). To allow this, we will use\n",
    "# same embedding network for both tower networks.\n",
    "tower_1_4 = embedding_network_4(input_1_4)\n",
    "tower_2_4 = embedding_network_4(input_2_4)\n",
    "\n",
    "merge_layer_4 = layers.Lambda(euclidean_distance)([tower_1_4, tower_2_4])\n",
    "normal_layer_4 = tf.keras.layers.BatchNormalization()(merge_layer_4)\n",
    "output_layer_4 = layers.Dense(1, activation=\"sigmoid\")(normal_layer_4)\n",
    "siamese4 = keras.Model(inputs=[input_1_4, input_2_4], outputs=output_layer_4)"
   ]
  },
  {
   "cell_type": "markdown",
   "metadata": {
    "id": "cAUk9kMwXdMm"
   },
   "source": [
    "## Define the contrastive Loss"
   ]
  },
  {
   "cell_type": "code",
   "execution_count": 58,
   "metadata": {
    "id": "p9VNvPX6XdMm"
   },
   "outputs": [],
   "source": [
    "\n",
    "def contrastive_loss(margin=1):\n",
    "    \"\"\"Provides 'contrastive_loss' an enclosing scope with variable 'margin'.\n",
    "\n",
    "    Arguments:\n",
    "        margin: Integer, defines the baseline for distance for which pairs\n",
    "                should be classified as dissimilar. - (default is 1).\n",
    "\n",
    "    Returns:\n",
    "        'contrastive_loss' function with data ('margin') attached.\n",
    "    \"\"\"\n",
    "\n",
    "    # Contrastive loss = mean( (1-true_value) * square(prediction) +\n",
    "    #                         true_value * square( max(margin-prediction, 0) ))\n",
    "    def contrastive_loss(y_true, y_pred):\n",
    "        \"\"\"Calculates the contrastive loss.\n",
    "\n",
    "        Arguments:\n",
    "            y_true: List of labels, each label is of type float32.\n",
    "            y_pred: List of predictions of same length as of y_true,\n",
    "                    each label is of type float32.\n",
    "\n",
    "        Returns:\n",
    "            A tensor containing contrastive loss as floating point value.\n",
    "        \"\"\"\n",
    "\n",
    "        square_pred = tf.math.square(y_pred)\n",
    "        margin_square = tf.math.square(tf.math.maximum(margin - (y_pred), 0))\n",
    "        return tf.math.reduce_mean(\n",
    "            (1 - y_true) * square_pred + (y_true) * margin_square\n",
    "        )\n",
    "\n",
    "    return contrastive_loss\n"
   ]
  },
  {
   "cell_type": "markdown",
   "metadata": {},
   "source": [
    "## Define the Dice Loss\n",
    "Code: https://stackoverflow.com/questions/72195156/correct-implementation-of-dice-loss-in-tensorflow-keras\n",
    "\n",
    "![Dice Loss](./img/Dice_Loss.png)"
   ]
  },
  {
   "cell_type": "code",
   "execution_count": 59,
   "metadata": {},
   "outputs": [],
   "source": [
    "# Dice Loss\n",
    "def dice_loss(margin=1): #ignore margin\n",
    "\n",
    "    smooth=1e-6\n",
    "\n",
    "    #def dice_coef_loss(y_true, y_pred):\n",
    "    #    y_true_f = K.flatten(y_true)\n",
    "    #    y_pred_f = K.flatten(y_pred)\n",
    "    #    intersection = K.sum(y_true_f * y_pred_f)\n",
    "    #    dice = (2. * intersection + smooth) / (K.sum(y_true_f) + K.sum(y_pred_f) + smooth)\n",
    "    #    dice_coef = 1 - dice\n",
    "    #    \n",
    "    #    return dice_coef\n",
    "    #\n",
    "    #return dice_coef_loss\n",
    "\n",
    "\n",
    "    def dice_coef(y_true, y_pred, smooth=100):        \n",
    "        y_true_f = K.flatten(y_true)\n",
    "        y_pred_f = K.flatten(y_pred)\n",
    "        intersection = K.sum(y_true_f * y_pred_f)\n",
    "        dice = (2. * intersection + smooth) / (K.sum(y_true_f) + K.sum(y_pred_f) + smooth)\n",
    "        return dice\n",
    "    \n",
    "    def dice_coef_loss(y_true, y_pred):\n",
    "        return 1 - dice_coef(y_true, y_pred)\n",
    "    \n",
    "    return dice_coef_loss"
   ]
  },
  {
   "cell_type": "markdown",
   "metadata": {},
   "source": [
    "## Define the Binary Cross Entropy Loss\n",
    "Code: https://www.kaggle.com/code/bigironsphere/loss-function-library-keras-pytorch/notebook\n",
    "\n",
    "![BCE Loss](./img/BCE_Loss.png)"
   ]
  },
  {
   "cell_type": "code",
   "execution_count": 60,
   "metadata": {},
   "outputs": [],
   "source": [
    "# BCE_Loss\n",
    "def BCE_loss(margin=1): #ignore margin\n",
    "\n",
    "    def binary_cross_entropy_loss(y_true, y_pred):\n",
    "        BCE =  K.binary_crossentropy(y_true, y_pred)\n",
    "        return BCE\n",
    "    \n",
    "    return binary_cross_entropy_loss"
   ]
  },
  {
   "cell_type": "markdown",
   "metadata": {},
   "source": [
    "## Define the BCE + Dice Loss\n",
    "Paper: https://ieeexplore.ieee.org/abstract/document/10023508?casa_token=_zhnKjSaYgYAAAAA:zZ0oLIx6Yoc56OeYEdvdJfwA0FLyQyhg3NNmd8YOUTzPLLgn5hK8ZoJ4UUAwH_9Dn55YLj2fQbk \n",
    "Code: https://www.kaggle.com/code/bigironsphere/loss-function-library-keras-pytorch/notebook\n",
    "\n",
    "![Dice Loss](./img/BCE_Loss.png)\n",
    "![Dice Loss](./img/Dice_Loss.png)\n",
    "![Dice Loss](./img/BCE_Dice_Loss.png)"
   ]
  },
  {
   "cell_type": "code",
   "execution_count": 61,
   "metadata": {},
   "outputs": [],
   "source": [
    "#  BCE_Dice_Loss\n",
    "def BCE_dice_loss(margin=1): #ignore margin\n",
    "\n",
    "    smooth=1e-6\n",
    "\n",
    "    def dice_coef_loss(y_true, y_pred):\n",
    "        y_true_f = K.flatten(y_true)\n",
    "        y_pred_f = K.flatten(y_pred)\n",
    "        intersection = K.sum(y_true_f * y_pred_f)\n",
    "        dice = (2. * intersection + smooth) / (K.sum(y_true_f) + K.sum(y_pred_f) + smooth)\n",
    "        \n",
    "        return dice\n",
    "\n",
    "    \n",
    "    def binary_cross_entropy_loss(y_true, y_pred):\n",
    "        BCE =  K.binary_crossentropy(y_true, y_pred)\n",
    "        return BCE\n",
    "    \n",
    "\n",
    "    def BCE_dice_coef_loss(y_true, y_pred):\n",
    "        dice_loss = 1 - dice_coef_loss(y_true, y_pred)\n",
    "        BCE =  binary_cross_entropy_loss(y_true, y_pred)\n",
    "        Dice_BCE = BCE + dice_loss\n",
    "        return Dice_BCE\n",
    "    \n",
    "    return BCE_dice_coef_loss"
   ]
  },
  {
   "cell_type": "markdown",
   "metadata": {
    "id": "guc3DfIYXdMn"
   },
   "source": [
    "## Compile the model with the contrastive loss"
   ]
  },
  {
   "cell_type": "code",
   "execution_count": 62,
   "metadata": {
    "id": "fJ6As8asXdMn"
   },
   "outputs": [
    {
     "name": "stdout",
     "output_type": "stream",
     "text": [
      "Model: \"model_9\"\n",
      "__________________________________________________________________________________________________\n",
      " Layer (type)                   Output Shape         Param #     Connected to                     \n",
      "==================================================================================================\n",
      " input_14 (InputLayer)          [(None, 28, 28, 1)]  0           []                               \n",
      "                                                                                                  \n",
      " input_15 (InputLayer)          [(None, 28, 28, 1)]  0           []                               \n",
      "                                                                                                  \n",
      " model_8 (Functional)           (None, 47)           14827       ['input_14[0][0]',               \n",
      "                                                                  'input_15[0][0]']               \n",
      "                                                                                                  \n",
      " lambda_4 (Lambda)              (None, 1)            0           ['model_8[0][0]',                \n",
      "                                                                  'model_8[1][0]']                \n",
      "                                                                                                  \n",
      " batch_normalization_14 (BatchN  (None, 1)           4           ['lambda_4[0][0]']               \n",
      " ormalization)                                                                                    \n",
      "                                                                                                  \n",
      " dense_9 (Dense)                (None, 1)            2           ['batch_normalization_14[0][0]'] \n",
      "                                                                                                  \n",
      "==================================================================================================\n",
      "Total params: 14,833\n",
      "Trainable params: 14,317\n",
      "Non-trainable params: 516\n",
      "__________________________________________________________________________________________________\n"
     ]
    }
   ],
   "source": [
    "siamese1.compile(loss=contrastive_loss(margin=margin), optimizer=\"RMSprop\", metrics=[\"accuracy\"])\n",
    "siamese1.summary()"
   ]
  },
  {
   "cell_type": "markdown",
   "metadata": {},
   "source": [
    "## Compile the model with the dice loss"
   ]
  },
  {
   "cell_type": "code",
   "execution_count": 63,
   "metadata": {
    "scrolled": true
   },
   "outputs": [
    {
     "name": "stdout",
     "output_type": "stream",
     "text": [
      "Model: \"model_11\"\n",
      "__________________________________________________________________________________________________\n",
      " Layer (type)                   Output Shape         Param #     Connected to                     \n",
      "==================================================================================================\n",
      " input_17 (InputLayer)          [(None, 28, 28, 1)]  0           []                               \n",
      "                                                                                                  \n",
      " input_18 (InputLayer)          [(None, 28, 28, 1)]  0           []                               \n",
      "                                                                                                  \n",
      " model_10 (Functional)          (None, 47)           14827       ['input_17[0][0]',               \n",
      "                                                                  'input_18[0][0]']               \n",
      "                                                                                                  \n",
      " lambda_5 (Lambda)              (None, 1)            0           ['model_10[0][0]',               \n",
      "                                                                  'model_10[1][0]']               \n",
      "                                                                                                  \n",
      " batch_normalization_17 (BatchN  (None, 1)           4           ['lambda_5[0][0]']               \n",
      " ormalization)                                                                                    \n",
      "                                                                                                  \n",
      " dense_11 (Dense)               (None, 1)            2           ['batch_normalization_17[0][0]'] \n",
      "                                                                                                  \n",
      "==================================================================================================\n",
      "Total params: 14,833\n",
      "Trainable params: 14,317\n",
      "Non-trainable params: 516\n",
      "__________________________________________________________________________________________________\n"
     ]
    }
   ],
   "source": [
    "siamese2.compile(loss=dice_loss(margin=margin), optimizer=\"RMSprop\", metrics=[\"accuracy\"])\n",
    "siamese2.summary()"
   ]
  },
  {
   "cell_type": "markdown",
   "metadata": {},
   "source": [
    "## Compile the model with the BCE loss"
   ]
  },
  {
   "cell_type": "code",
   "execution_count": 64,
   "metadata": {},
   "outputs": [
    {
     "name": "stdout",
     "output_type": "stream",
     "text": [
      "Model: \"model_13\"\n",
      "__________________________________________________________________________________________________\n",
      " Layer (type)                   Output Shape         Param #     Connected to                     \n",
      "==================================================================================================\n",
      " input_20 (InputLayer)          [(None, 28, 28, 1)]  0           []                               \n",
      "                                                                                                  \n",
      " input_21 (InputLayer)          [(None, 28, 28, 1)]  0           []                               \n",
      "                                                                                                  \n",
      " model_12 (Functional)          (None, 47)           14827       ['input_20[0][0]',               \n",
      "                                                                  'input_21[0][0]']               \n",
      "                                                                                                  \n",
      " lambda_6 (Lambda)              (None, 1)            0           ['model_12[0][0]',               \n",
      "                                                                  'model_12[1][0]']               \n",
      "                                                                                                  \n",
      " batch_normalization_20 (BatchN  (None, 1)           4           ['lambda_6[0][0]']               \n",
      " ormalization)                                                                                    \n",
      "                                                                                                  \n",
      " dense_13 (Dense)               (None, 1)            2           ['batch_normalization_20[0][0]'] \n",
      "                                                                                                  \n",
      "==================================================================================================\n",
      "Total params: 14,833\n",
      "Trainable params: 14,317\n",
      "Non-trainable params: 516\n",
      "__________________________________________________________________________________________________\n"
     ]
    }
   ],
   "source": [
    "siamese3.compile(loss=BCE_loss(margin=margin), optimizer=\"RMSprop\", metrics=[\"accuracy\"])\n",
    "siamese3.summary()"
   ]
  },
  {
   "cell_type": "markdown",
   "metadata": {},
   "source": [
    "## Compile the model with the BCE + dice loss"
   ]
  },
  {
   "cell_type": "code",
   "execution_count": 65,
   "metadata": {},
   "outputs": [
    {
     "name": "stdout",
     "output_type": "stream",
     "text": [
      "Model: \"model_15\"\n",
      "__________________________________________________________________________________________________\n",
      " Layer (type)                   Output Shape         Param #     Connected to                     \n",
      "==================================================================================================\n",
      " input_23 (InputLayer)          [(None, 28, 28, 1)]  0           []                               \n",
      "                                                                                                  \n",
      " input_24 (InputLayer)          [(None, 28, 28, 1)]  0           []                               \n",
      "                                                                                                  \n",
      " model_14 (Functional)          (None, 47)           14827       ['input_23[0][0]',               \n",
      "                                                                  'input_24[0][0]']               \n",
      "                                                                                                  \n",
      " lambda_7 (Lambda)              (None, 1)            0           ['model_14[0][0]',               \n",
      "                                                                  'model_14[1][0]']               \n",
      "                                                                                                  \n",
      " batch_normalization_23 (BatchN  (None, 1)           4           ['lambda_7[0][0]']               \n",
      " ormalization)                                                                                    \n",
      "                                                                                                  \n",
      " dense_15 (Dense)               (None, 1)            2           ['batch_normalization_23[0][0]'] \n",
      "                                                                                                  \n",
      "==================================================================================================\n",
      "Total params: 14,833\n",
      "Trainable params: 14,317\n",
      "Non-trainable params: 516\n",
      "__________________________________________________________________________________________________\n"
     ]
    }
   ],
   "source": [
    "siamese4.compile(loss=BCE_dice_loss(margin=margin), optimizer=\"RMSprop\", metrics=[\"accuracy\"])\n",
    "siamese4.summary()"
   ]
  },
  {
   "cell_type": "markdown",
   "metadata": {
    "id": "ARGpf7KEXdMn"
   },
   "source": [
    "## Train the models"
   ]
  },
  {
   "cell_type": "code",
   "execution_count": 66,
   "metadata": {
    "id": "MvErqxixXdMn"
   },
   "outputs": [
    {
     "name": "stdout",
     "output_type": "stream",
     "text": [
      "Epoch 1/10\n",
      "2820/2820 [==============================] - 28s 10ms/step - loss: 0.1501 - accuracy: 0.7864 - val_loss: 0.1143 - val_accuracy: 0.8407\n",
      "Epoch 2/10\n",
      "2820/2820 [==============================] - 28s 10ms/step - loss: 0.1118 - accuracy: 0.8447 - val_loss: 0.0855 - val_accuracy: 0.8845\n",
      "Epoch 3/10\n",
      "2820/2820 [==============================] - 26s 9ms/step - loss: 0.0992 - accuracy: 0.8648 - val_loss: 0.0745 - val_accuracy: 0.8999\n",
      "Epoch 4/10\n",
      "2820/2820 [==============================] - 28s 10ms/step - loss: 0.0917 - accuracy: 0.8768 - val_loss: 0.0707 - val_accuracy: 0.9062\n",
      "Epoch 5/10\n",
      "2820/2820 [==============================] - 28s 10ms/step - loss: 0.0871 - accuracy: 0.8830 - val_loss: 0.0701 - val_accuracy: 0.9063\n",
      "Epoch 6/10\n",
      "2820/2820 [==============================] - 27s 9ms/step - loss: 0.0822 - accuracy: 0.8892 - val_loss: 0.0652 - val_accuracy: 0.9130\n",
      "Epoch 7/10\n",
      "2820/2820 [==============================] - 29s 10ms/step - loss: 0.0788 - accuracy: 0.8955 - val_loss: 0.0618 - val_accuracy: 0.9184\n",
      "Epoch 8/10\n",
      "2820/2820 [==============================] - 28s 10ms/step - loss: 0.0763 - accuracy: 0.8978 - val_loss: 0.0628 - val_accuracy: 0.9166\n",
      "Epoch 9/10\n",
      "2820/2820 [==============================] - 26s 9ms/step - loss: 0.0738 - accuracy: 0.9027 - val_loss: 0.0572 - val_accuracy: 0.9251\n",
      "Epoch 10/10\n",
      "2820/2820 [==============================] - 27s 10ms/step - loss: 0.0726 - accuracy: 0.9025 - val_loss: 0.0565 - val_accuracy: 0.9264\n"
     ]
    }
   ],
   "source": [
    "# Contrastive Loss\n",
    "history1 = siamese1.fit(\n",
    "    [x_train_1, x_train_2],\n",
    "    labels_train,\n",
    "    validation_data=([x_val_1, x_val_2], labels_val),\n",
    "    batch_size=batch_size,\n",
    "    epochs=epochs,\n",
    ")"
   ]
  },
  {
   "cell_type": "code",
   "execution_count": 67,
   "metadata": {},
   "outputs": [
    {
     "name": "stdout",
     "output_type": "stream",
     "text": [
      "Epoch 1/10\n",
      "2820/2820 [==============================] - 30s 10ms/step - loss: 0.0685 - accuracy: 0.4916 - val_loss: 0.0664 - val_accuracy: 0.5000\n",
      "Epoch 2/10\n",
      "2820/2820 [==============================] - 27s 10ms/step - loss: 0.0656 - accuracy: 0.5000 - val_loss: 0.0647 - val_accuracy: 0.5000\n",
      "Epoch 3/10\n",
      "2820/2820 [==============================] - 29s 10ms/step - loss: 0.0649 - accuracy: 0.5000 - val_loss: 0.0645 - val_accuracy: 0.5000\n",
      "Epoch 4/10\n",
      "2820/2820 [==============================] - 27s 10ms/step - loss: 0.0648 - accuracy: 0.5000 - val_loss: 0.0645 - val_accuracy: 0.5000\n",
      "Epoch 5/10\n",
      "2820/2820 [==============================] - 28s 10ms/step - loss: 0.0648 - accuracy: 0.5000 - val_loss: 0.0645 - val_accuracy: 0.5000\n",
      "Epoch 6/10\n",
      "2820/2820 [==============================] - 27s 10ms/step - loss: 0.0648 - accuracy: 0.5000 - val_loss: 0.0645 - val_accuracy: 0.5000\n",
      "Epoch 7/10\n",
      "2820/2820 [==============================] - 27s 10ms/step - loss: 0.0648 - accuracy: 0.5000 - val_loss: 0.0645 - val_accuracy: 0.5000\n",
      "Epoch 8/10\n",
      "2820/2820 [==============================] - 29s 10ms/step - loss: 0.0648 - accuracy: 0.5000 - val_loss: 0.0645 - val_accuracy: 0.5000\n",
      "Epoch 9/10\n",
      "2820/2820 [==============================] - 29s 10ms/step - loss: 0.0648 - accuracy: 0.5000 - val_loss: 0.0645 - val_accuracy: 0.5000\n",
      "Epoch 10/10\n",
      "2820/2820 [==============================] - 27s 10ms/step - loss: 0.0648 - accuracy: 0.5000 - val_loss: 0.0645 - val_accuracy: 0.5000\n"
     ]
    }
   ],
   "source": [
    "# Dice Loss\n",
    "history2 = siamese2.fit(\n",
    "    [x_train_1, x_train_2],\n",
    "    labels_train,\n",
    "    validation_data=([x_val_1, x_val_2], labels_val),\n",
    "    batch_size=batch_size,\n",
    "    epochs=epochs,\n",
    ")"
   ]
  },
  {
   "cell_type": "code",
   "execution_count": 28,
   "metadata": {},
   "outputs": [
    {
     "name": "stdout",
     "output_type": "stream",
     "text": [
      "Epoch 1/10\n",
      "2820/2820 [==============================] - 35s 12ms/step - loss: 0.7094 - accuracy: 0.4836 - val_loss: 0.6932 - val_accuracy: 0.5000\n",
      "Epoch 2/10\n",
      "2820/2820 [==============================] - 34s 12ms/step - loss: 0.6043 - accuracy: 0.6570 - val_loss: 0.4013 - val_accuracy: 0.8223\n",
      "Epoch 3/10\n",
      "2820/2820 [==============================] - 34s 12ms/step - loss: 0.3971 - accuracy: 0.8264 - val_loss: 0.2961 - val_accuracy: 0.8789\n",
      "Epoch 4/10\n",
      "2820/2820 [==============================] - 33s 12ms/step - loss: 0.3331 - accuracy: 0.8607 - val_loss: 0.2585 - val_accuracy: 0.8975\n",
      "Epoch 5/10\n",
      "2820/2820 [==============================] - 34s 12ms/step - loss: 0.3049 - accuracy: 0.8760 - val_loss: 0.2395 - val_accuracy: 0.9072\n",
      "Epoch 6/10\n",
      "2820/2820 [==============================] - 35s 13ms/step - loss: 0.2856 - accuracy: 0.8855 - val_loss: 0.2213 - val_accuracy: 0.9161\n",
      "Epoch 7/10\n",
      "2820/2820 [==============================] - 34s 12ms/step - loss: 0.2688 - accuracy: 0.8941 - val_loss: 0.2155 - val_accuracy: 0.9179\n",
      "Epoch 8/10\n",
      "2820/2820 [==============================] - 34s 12ms/step - loss: 0.2627 - accuracy: 0.8978 - val_loss: 0.2022 - val_accuracy: 0.9256\n",
      "Epoch 9/10\n",
      "2820/2820 [==============================] - 34s 12ms/step - loss: 0.2505 - accuracy: 0.9033 - val_loss: 0.1976 - val_accuracy: 0.9266\n",
      "Epoch 10/10\n",
      "2820/2820 [==============================] - 36s 13ms/step - loss: 0.2456 - accuracy: 0.9053 - val_loss: 0.1944 - val_accuracy: 0.9282\n"
     ]
    }
   ],
   "source": [
    "# BCE Loss\n",
    "history3 = siamese3.fit(\n",
    "    [x_train_1, x_train_2],\n",
    "    labels_train,\n",
    "    validation_data=([x_val_1, x_val_2], labels_val),\n",
    "    batch_size=batch_size,\n",
    "    epochs=epochs,\n",
    ")"
   ]
  },
  {
   "cell_type": "code",
   "execution_count": 29,
   "metadata": {},
   "outputs": [
    {
     "name": "stdout",
     "output_type": "stream",
     "text": [
      "Epoch 1/10\n",
      "2820/2820 [==============================] - 38s 13ms/step - loss: 1.1889 - accuracy: 0.5191 - val_loss: 0.8577 - val_accuracy: 0.7552\n",
      "Epoch 2/10\n",
      "2820/2820 [==============================] - 39s 14ms/step - loss: 0.7454 - accuracy: 0.7870 - val_loss: 0.6078 - val_accuracy: 0.8320\n",
      "Epoch 3/10\n",
      "2820/2820 [==============================] - 40s 14ms/step - loss: 0.5937 - accuracy: 0.8396 - val_loss: 0.4445 - val_accuracy: 0.8859\n",
      "Epoch 4/10\n",
      "2820/2820 [==============================] - 35s 12ms/step - loss: 0.5249 - accuracy: 0.8633 - val_loss: 0.4097 - val_accuracy: 0.8952\n",
      "Epoch 5/10\n",
      "2820/2820 [==============================] - 34s 12ms/step - loss: 0.4807 - accuracy: 0.8752 - val_loss: 0.3756 - val_accuracy: 0.9050\n",
      "Epoch 6/10\n",
      "2820/2820 [==============================] - 34s 12ms/step - loss: 0.4492 - accuracy: 0.8857 - val_loss: 0.3450 - val_accuracy: 0.9162\n",
      "Epoch 7/10\n",
      "2820/2820 [==============================] - 35s 12ms/step - loss: 0.4228 - accuracy: 0.8942 - val_loss: 0.3366 - val_accuracy: 0.9182\n",
      "Epoch 8/10\n",
      "2820/2820 [==============================] - 34s 12ms/step - loss: 0.4095 - accuracy: 0.9003 - val_loss: 0.3234 - val_accuracy: 0.9214\n",
      "Epoch 9/10\n",
      "2820/2820 [==============================] - 34s 12ms/step - loss: 0.3942 - accuracy: 0.9037 - val_loss: 0.3085 - val_accuracy: 0.9255\n",
      "Epoch 10/10\n",
      "2820/2820 [==============================] - 34s 12ms/step - loss: 0.3877 - accuracy: 0.9051 - val_loss: 0.3092 - val_accuracy: 0.9251\n"
     ]
    }
   ],
   "source": [
    "# BCE + Dice Loss\n",
    "history4 = siamese4.fit(\n",
    "    [x_train_1, x_train_2],\n",
    "    labels_train,\n",
    "    validation_data=([x_val_1, x_val_2], labels_val),\n",
    "    batch_size=batch_size,\n",
    "    epochs=epochs,\n",
    ")"
   ]
  },
  {
   "cell_type": "markdown",
   "metadata": {
    "id": "s5iZCH93XdMn"
   },
   "source": [
    "## Visualize results"
   ]
  },
  {
   "cell_type": "code",
   "execution_count": 113,
   "metadata": {},
   "outputs": [],
   "source": [
    "def plt_metric(history, metric, title, has_valid=True, x = 0, y = 0):\n",
    "    \"\"\"Plots the given 'metric' from 'history'.\n",
    "\n",
    "    Arguments:\n",
    "        history: history attribute of History object returned from Model.fit.\n",
    "        metric: Metric to plot, a string value present as key in 'history'.\n",
    "        title: A string to be used as title of plot.\n",
    "        has_valid: Boolean, true if valid data was passed to Model.fit else false.\n",
    "\n",
    "    Returns:\n",
    "        None.\n",
    "    \"\"\"\n",
    "    axs[x, y].plot(history[metric])\n",
    "    if has_valid:\n",
    "        axs[x, y].plot(history[\"val_\" + metric])\n",
    "        axs[x, y].legend([\"train\", \"validation\"], loc=\"upper left\")\n",
    "    axs[x, y].set_title(title)\n",
    "    \n",
    "    for ax in axs.flat:\n",
    "        ax.set(xlabel=\"epoch\")\n",
    "        \n",
    "    axs.flat[0].set(ylabel=\"accuracy\")\n",
    "    axs.flat[4].set(ylabel=\"loss\")\n",
    "    \n",
    "    # Hide x labels and tick labels for top plots and y ticks for right plots.\n",
    "    for ax in axs.flat:\n",
    "        ax.label_outer()"
   ]
  },
  {
   "cell_type": "code",
   "execution_count": 114,
   "metadata": {},
   "outputs": [
    {
     "data": {
      "image/png": "[encoded data removed]",
      "text/plain": [
       "<Figure size 1440x432 with 8 Axes>"
      ]
     },
     "metadata": {
      "needs_background": "light"
     },
     "output_type": "display_data"
    }
   ],
   "source": [
    "fig, axs = plt.subplots(2, 4)\n",
    "\n",
    "fig.set_figheight(6)\n",
    "fig.set_figwidth(20)\n",
    "\n",
    "# Plot the accuracy of contrastive loss\n",
    "plt_metric(history=history1.history, metric=\"accuracy\", title=\"Model accuracy of CL\", x=0 ,y=0)\n",
    "\n",
    "# Plot the contrastive loss\n",
    "plt_metric(history=history1.history, metric=\"loss\", title=\"Contrastive Loss\", x=1 ,y=0)\n",
    "\n",
    "# Plot the accuracy of dice loss\n",
    "plt_metric(history=history2.history, metric=\"accuracy\", title=\"Model accuracy of DL\",x=0 ,y=1)\n",
    "\n",
    "# Plot the dice loss\n",
    "plt_metric(history=history2.history, metric=\"loss\", title=\"Dice Loss\", x=1 ,y=1)\n",
    "\n",
    "# Plot the accuracy of BCE loss\n",
    "plt_metric(history=history3.history, metric=\"accuracy\", title=\"Model accuracy of BCEL\",x=0 ,y=2)\n",
    "\n",
    "# Plot the BCE loss\n",
    "plt_metric(history=history3.history, metric=\"loss\", title=\"BCE Loss\", x=1 ,y=2)\n",
    "\n",
    "# Plot the accuracy of BCE dice loss\n",
    "plt_metric(history=history4.history, metric=\"accuracy\", title=\"Model accuracy of BCEDL\", x=0 ,y=3)\n",
    "\n",
    "# Plot the BCE dice loss\n",
    "plt_metric(history=history4.history, metric=\"loss\", title=\"BCE Dice Loss\", x=1 ,y=3)"
   ]
  },
  {
   "cell_type": "markdown",
   "metadata": {
    "id": "VRcXg3LLXdMn"
   },
   "source": [
    "## Evaluate the model"
   ]
  },
  {
   "cell_type": "code",
   "execution_count": 32,
   "metadata": {
    "id": "UZ9TZ01LXdMo"
   },
   "outputs": [
    {
     "name": "stdout",
     "output_type": "stream",
     "text": [
      "1410/1410 [==============================] - 5s 3ms/step - loss: 0.0558 - accuracy: 0.9267\n",
      "test loss, test acc: [0.055783260613679886, 0.9266843795776367]\n"
     ]
    }
   ],
   "source": [
    "results1 = siamese1.evaluate([x_test_1, x_test_2], labels_test)\n",
    "print(\"test loss, test acc:\", results1)"
   ]
  },
  {
   "cell_type": "code",
   "execution_count": 33,
   "metadata": {},
   "outputs": [
    {
     "name": "stdout",
     "output_type": "stream",
     "text": [
      "1410/1410 [==============================] - 5s 3ms/step - loss: 0.3333 - accuracy: 0.5000\n",
      "test loss, test acc: [0.33333688974380493, 0.5]\n"
     ]
    }
   ],
   "source": [
    "results2 = siamese2.evaluate([x_test_1, x_test_2], labels_test)\n",
    "print(\"test loss, test acc:\", results2)"
   ]
  },
  {
   "cell_type": "code",
   "execution_count": 34,
   "metadata": {},
   "outputs": [
    {
     "name": "stdout",
     "output_type": "stream",
     "text": [
      "1410/1410 [==============================] - 5s 3ms/step - loss: 0.1929 - accuracy: 0.9288\n",
      "test loss, test acc: [0.1929345577955246, 0.9288120269775391]\n"
     ]
    }
   ],
   "source": [
    "results3 = siamese3.evaluate([x_test_1, x_test_2], labels_test)\n",
    "print(\"test loss, test acc:\", results3)"
   ]
  },
  {
   "cell_type": "code",
   "execution_count": 35,
   "metadata": {},
   "outputs": [
    {
     "name": "stdout",
     "output_type": "stream",
     "text": [
      "1410/1410 [==============================] - 5s 3ms/step - loss: 0.3019 - accuracy: 0.9267\n",
      "test loss, test acc: [0.30188465118408203, 0.9266622066497803]\n"
     ]
    }
   ],
   "source": [
    "results4 = siamese4.evaluate([x_test_1, x_test_2], labels_test)\n",
    "print(\"test loss, test acc:\", results4)"
   ]
  },
  {
   "cell_type": "code",
   "execution_count": 36,
   "metadata": {},
   "outputs": [
    {
     "name": "stdout",
     "output_type": "stream",
     "text": [
      "1410/1410 [==============================] - 4s 3ms/step\n",
      "              precision    recall  f1-score   support\n",
      "\n",
      "         0.0       0.50      1.00      0.67     22560\n",
      "         1.0       0.00      0.00      0.00     22560\n",
      "\n",
      "    accuracy                           0.50     45120\n",
      "   macro avg       0.25      0.50      0.33     45120\n",
      "weighted avg       0.25      0.50      0.33     45120\n",
      "\n"
     ]
    },
    {
     "name": "stderr",
     "output_type": "stream",
     "text": [
      "/home/nd/anaconda3/lib/python3.9/site-packages/sklearn/metrics/_classification.py:1318: UndefinedMetricWarning: Precision and F-score are ill-defined and being set to 0.0 in labels with no predicted samples. Use `zero_division` parameter to control this behavior.\n",
      "  _warn_prf(average, modifier, msg_start, len(result))\n",
      "/home/nd/anaconda3/lib/python3.9/site-packages/sklearn/metrics/_classification.py:1318: UndefinedMetricWarning: Precision and F-score are ill-defined and being set to 0.0 in labels with no predicted samples. Use `zero_division` parameter to control this behavior.\n",
      "  _warn_prf(average, modifier, msg_start, len(result))\n",
      "/home/nd/anaconda3/lib/python3.9/site-packages/sklearn/metrics/_classification.py:1318: UndefinedMetricWarning: Precision and F-score are ill-defined and being set to 0.0 in labels with no predicted samples. Use `zero_division` parameter to control this behavior.\n",
      "  _warn_prf(average, modifier, msg_start, len(result))\n"
     ]
    }
   ],
   "source": [
    "from sklearn.metrics import classification_report, accuracy_score, roc_auc_score, recall_score, precision_score, f1_score\n",
    "\n",
    "# Evaluate the model on the test set\n",
    "y_pred_cat1 = siamese1.predict([x_test_1, x_test_2])\n",
    "y_pred1 = np.argmax(y_pred_cat1, axis=1)\n",
    "\n",
    "report1 = classification_report(labels_test, y_pred1)\n",
    "print(report1)"
   ]
  },
  {
   "cell_type": "code",
   "execution_count": 37,
   "metadata": {},
   "outputs": [
    {
     "name": "stdout",
     "output_type": "stream",
     "text": [
      "1410/1410 [==============================] - 4s 3ms/step\n",
      "              precision    recall  f1-score   support\n",
      "\n",
      "         0.0       0.50      1.00      0.67     22560\n",
      "         1.0       0.00      0.00      0.00     22560\n",
      "\n",
      "    accuracy                           0.50     45120\n",
      "   macro avg       0.25      0.50      0.33     45120\n",
      "weighted avg       0.25      0.50      0.33     45120\n",
      "\n"
     ]
    },
    {
     "name": "stderr",
     "output_type": "stream",
     "text": [
      "/home/nd/anaconda3/lib/python3.9/site-packages/sklearn/metrics/_classification.py:1318: UndefinedMetricWarning: Precision and F-score are ill-defined and being set to 0.0 in labels with no predicted samples. Use `zero_division` parameter to control this behavior.\n",
      "  _warn_prf(average, modifier, msg_start, len(result))\n",
      "/home/nd/anaconda3/lib/python3.9/site-packages/sklearn/metrics/_classification.py:1318: UndefinedMetricWarning: Precision and F-score are ill-defined and being set to 0.0 in labels with no predicted samples. Use `zero_division` parameter to control this behavior.\n",
      "  _warn_prf(average, modifier, msg_start, len(result))\n",
      "/home/nd/anaconda3/lib/python3.9/site-packages/sklearn/metrics/_classification.py:1318: UndefinedMetricWarning: Precision and F-score are ill-defined and being set to 0.0 in labels with no predicted samples. Use `zero_division` parameter to control this behavior.\n",
      "  _warn_prf(average, modifier, msg_start, len(result))\n"
     ]
    }
   ],
   "source": [
    "\n",
    "y_pred_cat2 = siamese2.predict([x_test_1, x_test_2])\n",
    "y_pred2 = np.argmax(y_pred_cat2, axis=1)\n",
    "\n",
    "report2 = classification_report(labels_test, y_pred2)\n",
    "print(report2)\n"
   ]
  },
  {
   "cell_type": "code",
   "execution_count": 38,
   "metadata": {},
   "outputs": [
    {
     "name": "stdout",
     "output_type": "stream",
     "text": [
      "1410/1410 [==============================] - 4s 3ms/step\n",
      "              precision    recall  f1-score   support\n",
      "\n",
      "         0.0       0.50      1.00      0.67     22560\n",
      "         1.0       0.00      0.00      0.00     22560\n",
      "\n",
      "    accuracy                           0.50     45120\n",
      "   macro avg       0.25      0.50      0.33     45120\n",
      "weighted avg       0.25      0.50      0.33     45120\n",
      "\n"
     ]
    },
    {
     "name": "stderr",
     "output_type": "stream",
     "text": [
      "/home/nd/anaconda3/lib/python3.9/site-packages/sklearn/metrics/_classification.py:1318: UndefinedMetricWarning: Precision and F-score are ill-defined and being set to 0.0 in labels with no predicted samples. Use `zero_division` parameter to control this behavior.\n",
      "  _warn_prf(average, modifier, msg_start, len(result))\n",
      "/home/nd/anaconda3/lib/python3.9/site-packages/sklearn/metrics/_classification.py:1318: UndefinedMetricWarning: Precision and F-score are ill-defined and being set to 0.0 in labels with no predicted samples. Use `zero_division` parameter to control this behavior.\n",
      "  _warn_prf(average, modifier, msg_start, len(result))\n",
      "/home/nd/anaconda3/lib/python3.9/site-packages/sklearn/metrics/_classification.py:1318: UndefinedMetricWarning: Precision and F-score are ill-defined and being set to 0.0 in labels with no predicted samples. Use `zero_division` parameter to control this behavior.\n",
      "  _warn_prf(average, modifier, msg_start, len(result))\n"
     ]
    }
   ],
   "source": [
    "\n",
    "y_pred_cat3 = siamese2.predict([x_test_1, x_test_2])\n",
    "y_pred3 = np.argmax(y_pred_cat3, axis=1)\n",
    "\n",
    "report3 = classification_report(labels_test, y_pred3)\n",
    "print(report3)"
   ]
  },
  {
   "cell_type": "code",
   "execution_count": 39,
   "metadata": {},
   "outputs": [
    {
     "name": "stdout",
     "output_type": "stream",
     "text": [
      "1410/1410 [==============================] - 4s 3ms/step\n",
      "              precision    recall  f1-score   support\n",
      "\n",
      "         0.0       0.50      1.00      0.67     22560\n",
      "         1.0       0.00      0.00      0.00     22560\n",
      "\n",
      "    accuracy                           0.50     45120\n",
      "   macro avg       0.25      0.50      0.33     45120\n",
      "weighted avg       0.25      0.50      0.33     45120\n",
      "\n"
     ]
    },
    {
     "name": "stderr",
     "output_type": "stream",
     "text": [
      "/home/nd/anaconda3/lib/python3.9/site-packages/sklearn/metrics/_classification.py:1318: UndefinedMetricWarning: Precision and F-score are ill-defined and being set to 0.0 in labels with no predicted samples. Use `zero_division` parameter to control this behavior.\n",
      "  _warn_prf(average, modifier, msg_start, len(result))\n",
      "/home/nd/anaconda3/lib/python3.9/site-packages/sklearn/metrics/_classification.py:1318: UndefinedMetricWarning: Precision and F-score are ill-defined and being set to 0.0 in labels with no predicted samples. Use `zero_division` parameter to control this behavior.\n",
      "  _warn_prf(average, modifier, msg_start, len(result))\n",
      "/home/nd/anaconda3/lib/python3.9/site-packages/sklearn/metrics/_classification.py:1318: UndefinedMetricWarning: Precision and F-score are ill-defined and being set to 0.0 in labels with no predicted samples. Use `zero_division` parameter to control this behavior.\n",
      "  _warn_prf(average, modifier, msg_start, len(result))\n"
     ]
    }
   ],
   "source": [
    "y_pred_cat4 = siamese2.predict([x_test_1, x_test_2])\n",
    "y_pred4 = np.argmax(y_pred_cat4, axis=1)\n",
    "\n",
    "report4 = classification_report(labels_test, y_pred4)\n",
    "print(report4)"
   ]
  },
  {
   "cell_type": "markdown",
   "metadata": {
    "id": "EOdcBjXhXdMs"
   },
   "source": [
    "## Visualize the predictions"
   ]
  },
  {
   "cell_type": "code",
   "execution_count": 40,
   "metadata": {
    "id": "Jw0ysl9aXdMs"
   },
   "outputs": [
    {
     "name": "stdout",
     "output_type": "stream",
     "text": [
      "1410/1410 [==============================] - 4s 3ms/step\n"
     ]
    },
    {
     "data": {
      "image/png": "[encoded data removed]",
      "text/plain": [
       "<Figure size 360x360 with 3 Axes>"
      ]
     },
     "metadata": {
      "needs_background": "light"
     },
     "output_type": "display_data"
    }
   ],
   "source": [
    "predictions = siamese1.predict([x_test_1, x_test_2])\n",
    "visualize(pairs_test, labels_test, to_show=3, predictions=predictions, test=True)"
   ]
  },
  {
   "cell_type": "markdown",
   "metadata": {},
   "source": [
    "## Other Possible Loss Functions"
   ]
  },
  {
   "cell_type": "markdown",
   "metadata": {},
   "source": [
    "### Cross Entropy with balance factor (2023)\n",
    "Paper: \n",
    "https://ieeexplore.ieee.org/stamp/stamp.jsp?tp=&arnumber=10021880 \n",
    "\n",
    "### Join of MSE, bidirectional Kullback Leibler divergence and rank order of quality scores (2023)\n",
    "Paper: \n",
    "https://dl.acm.org/doi/abs/10.1145/3597434\n",
    "\n",
    "### Multiple negative ranking loss (2022)\n",
    "Paper: \n",
    "https://arxiv.org/pdf/2203.14541.pdf\n",
    "\n",
    "### Max margin hinge loss (2021)\n",
    "Paper: \n",
    "https://ieeexplore.ieee.org/stamp/stamp.jsp?tp=&arnumber=9414458\n",
    "\n",
    "### Softmax cross entropy loss (2018)\n",
    "Paper: \n",
    "https://www.researchgate.net/publication/326204812_Modeling_Contemporaneous_Basket_Sequences_with_Twin_Networks_for_Next-Item_Recommendation"
   ]
  }
 ],
 "metadata": {
  "accelerator": "GPU",
  "colab": {
   "name": "siamese_contrastive",
   "provenance": [],
   "toc_visible": true
  },
  "kernelspec": {
   "display_name": "Python 3 (ipykernel)",
   "language": "python",
   "name": "python3"
  },
  "language_info": {
   "codemirror_mode": {
    "name": "ipython",
    "version": 3
   },
   "file_extension": ".py",
   "mimetype": "text/x-python",
   "name": "python",
   "nbconvert_exporter": "python",
   "pygments_lexer": "ipython3",
   "version": "3.9.12"
  }
 },
 "nbformat": 4,
 "nbformat_minor": 1
}
