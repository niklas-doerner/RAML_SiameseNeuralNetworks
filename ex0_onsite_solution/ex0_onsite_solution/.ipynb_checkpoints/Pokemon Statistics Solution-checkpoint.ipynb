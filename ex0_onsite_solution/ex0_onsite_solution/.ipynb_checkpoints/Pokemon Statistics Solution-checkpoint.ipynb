{
 "cells": [
  {
   "cell_type": "code",
   "execution_count": 9,
   "id": "824e802a",
   "metadata": {},
   "outputs": [],
   "source": [
    "from csv import reader\n",
    "import numpy as np\n",
    "\n",
    "# There exist a lot of 'better' ways to solve the following tasks, especially using designated\n",
    "# libraries. These solutions are focussed on using mostly basic python and numpy for practice,\n",
    "# using important concepts like list comprehensions instead of faster operations.\n",
    "\n",
    "# download the dataset from https://www.kaggle.com/hamdallak/the-world-of-pokemons and load it \n",
    "pokemons = []\n",
    "with open('archive/pokemons.csv', 'r', encoding = 'latin-1') as read_obj:\n",
    "    csv_reader = reader(read_obj)\n",
    "    for row in csv_reader:\n",
    "        pokemons.append(row)\n",
    "        \n",
    "assert(len(pokemons) == 1046)"
   ]
  },
  {
   "cell_type": "code",
   "execution_count": 10,
   "id": "b4f5e23b",
   "metadata": {},
   "outputs": [
    {
     "name": "stdout",
     "output_type": "stream",
     "text": [
      "870\n"
     ]
    }
   ],
   "source": [
    "# Clean up the dataset (remove first row which is column descriptions)\n",
    "# Look at the csv file separately to find out about its structure.\n",
    "# bonus: remove rows that are double entries\n",
    "pokemons = pokemons[1:]\n",
    "\n",
    "pokemon_extras = np.array([pokemons[i][1] for i in range(len(pokemons))])\n",
    "valid_entries = (pokemon_extras == '')"
   ]
  },
  {
   "cell_type": "code",
   "execution_count": 11,
   "id": "4ac37d9a",
   "metadata": {},
   "outputs": [],
   "source": [
    "# Extract a list of names (try using list comprehensions), \n",
    "# and a numpy array of corresponding attack stats etc.\n",
    "# You will need to convert the stats to integers at some point. \n",
    "\n",
    "# extract names\n",
    "pokemon_names = np.array([pokemons[i][0] for i in range(len(pokemons))])\n",
    "pokemon_names = pokemon_names[valid_entries]\n",
    "\n",
    "pokemon_stats = [pokemons[i][4:] for i in range(len(pokemons))]\n",
    "pokemon_stats = [[int(element) for element in row] for row in pokemon_stats]\n",
    "pokemon_stats = np.array(pokemon_stats)\n",
    "pokemon_stats = pokemon_stats[valid_entries]\n"
   ]
  },
  {
   "cell_type": "code",
   "execution_count": 5,
   "id": "ce6b11e3",
   "metadata": {},
   "outputs": [
    {
     "name": "stdout",
     "output_type": "stream",
     "text": [
      "['BUG', 'ELECTRIC', 'FIGHTING', 'GROUND', 'FLYING', 'DRAGON', 'NORMAL', 'ROCK', 'STEEL', 'FIRE', 'POISON', 'PSYCHIC', 'ICE', 'GRASS', 'DARK', 'WATER', 'GHOST', 'FAIRY']\n",
      "18\n",
      "[74, 46, 34, 34, 6, 30, 108, 48, 29, 56, 35, 54, 27, 85, 36, 120, 28, 20]\n"
     ]
    },
    {
     "data": {
      "text/plain": [
       "<BarContainer object of 18 artists>"
      ]
     },
     "execution_count": 5,
     "metadata": {},
     "output_type": "execute_result"
    },
    {
     "data": {
      "image/png": "[encoded data removed]",
      "text/plain": [
       "<Figure size 1080x360 with 1 Axes>"
      ]
     },
     "metadata": {
      "needs_background": "light"
     },
     "output_type": "display_data"
    }
   ],
   "source": [
    "import matplotlib.pyplot as plt\n",
    "\n",
    "# create a bar plot that shows how many pokemons of each (primary) type exist\n",
    "\n",
    "# generate a list of unique type names\n",
    "pokemon_types = np.array([pokemons[i][2] for i in range(len(pokemons))])\n",
    "pokemon_types = pokemon_types[valid_entries]\n",
    "types = list(set(pokemon_types))\n",
    "\n",
    "assert(len(types) == 18)\n",
    "\n",
    "# count how many pokemons of each class exist and construct a bar plot\n",
    "counter = []\n",
    "for c in types:\n",
    "    counter.append(np.sum(pokemon_types == c))\n",
    "    \n",
    "\n",
    "# visualize in a bar plot using matplotlib\n",
    "f, ax = plt.subplots(figsize=(15,5)) # this part makes the figure bigger so the labels do not overlap\n",
    "plt.bar(types, counter, 0.8)\n"
   ]
  },
  {
   "cell_type": "code",
   "execution_count": 6,
   "id": "e66510e7",
   "metadata": {},
   "outputs": [
    {
     "name": "stdout",
     "output_type": "stream",
     "text": [
      "The class with highest average attack is DRAGON!!\n",
      "The average is 98.76666666666667.\n"
     ]
    }
   ],
   "source": [
    "# Print out which class has the highest average attack.\n",
    "\n",
    "maximum = 0\n",
    "cla = None\n",
    "for c in types:\n",
    "    class_mean = np.mean(pokemon_stats[pokemon_types == c, 0])\n",
    "    if class_mean > maximum:\n",
    "        maximum = class_mean\n",
    "        cla = c\n",
    "    \n",
    "print('The class with highest average attack is ' + cla + '!!')\n",
    "print('The average is ' + str(maximum) + '.')"
   ]
  },
  {
   "cell_type": "code",
   "execution_count": 7,
   "id": "2653f3e1",
   "metadata": {},
   "outputs": [
    {
     "name": "stdout",
     "output_type": "stream",
     "text": [
      "Carvanha\n"
     ]
    }
   ],
   "source": [
    "# Print out which pokemon has the highest attack to defense ratio.\n",
    "\n",
    "best_ratio = 0\n",
    "pokemon = None\n",
    "for name,attack,defense in zip(pokemon_names, pokemon_stats[:,0], pokemon_stats[:,1]):\n",
    "    ratio = attack/defense\n",
    "    if ratio > best_ratio:\n",
    "        best_ratio = ratio\n",
    "        pokemon = name\n",
    "\n",
    "print(pokemon)"
   ]
  },
  {
   "cell_type": "code",
   "execution_count": null,
   "id": "4ab3c198",
   "metadata": {},
   "outputs": [],
   "source": []
  }
 ],
 "metadata": {
  "kernelspec": {
   "display_name": "Python 3 (ipykernel)",
   "language": "python",
   "name": "python3"
  },
  "language_info": {
   "codemirror_mode": {
    "name": "ipython",
    "version": 3
   },
   "file_extension": ".py",
   "mimetype": "text/x-python",
   "name": "python",
   "nbconvert_exporter": "python",
   "pygments_lexer": "ipython3",
   "version": "3.7.13"
  }
 },
 "nbformat": 4,
 "nbformat_minor": 5
}
