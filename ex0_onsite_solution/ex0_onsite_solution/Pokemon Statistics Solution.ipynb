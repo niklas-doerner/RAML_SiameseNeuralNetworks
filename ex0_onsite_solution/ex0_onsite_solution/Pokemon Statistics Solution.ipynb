{
 "cells": [
  {
   "cell_type": "code",
   "execution_count": 1,
   "id": "3b104a55",
   "metadata": {},
   "outputs": [],
   "source": [
    "from csv import reader\n",
    "import numpy as np\n",
    "\n",
    "# There exist a lot of 'better' ways to solve the following tasks, especially using designated\n",
    "# libraries. These solutions are focussed on using mostly basic python and numpy for practice,\n",
    "# using important concepts like list comprehensions instead of faster operations.\n",
    "\n",
    "# download the dataset from https://www.kaggle.com/hamdallak/the-world-of-pokemons and load it \n",
    "pokemons = []\n",
    "with open('pokemons.csv', 'r', encoding = 'latin-1') as read_obj:\n",
    "    csv_reader = reader(read_obj)\n",
    "    for row in csv_reader:\n",
    "        pokemons.append(row)\n",
    "        \n",
    "assert(len(pokemons) == 1046)"
   ]
  },
  {
   "cell_type": "code",
   "execution_count": 2,
   "id": "8afeb142",
   "metadata": {},
   "outputs": [],
   "source": [
    "# Clean up the dataset (remove first row which is column descriptions)\n",
    "# Look at the csv file separately to find out about its structure.\n",
    "# bonus: remove rows that are double entries\n",
    "\n",
    "# removing first row\n",
    "pokemons = pokemons[1:]\n",
    "\n",
    "# create array containing all Name2 values\n",
    "pokemon_extras = np.array([pokemons[i][1] for i in range(len(pokemons))])\n",
    "# create boolean mask array indicating which entries are empty\n",
    "valid_entries = (pokemon_extras == '')"
   ]
  },
  {
   "cell_type": "code",
   "execution_count": 3,
   "id": "0a820fc1",
   "metadata": {},
   "outputs": [],
   "source": [
    "# Extract a list of names (try using list comprehensions), \n",
    "# and a numpy array of corresponding attack stats etc.\n",
    "# You will need to convert the stats to integers at some point. \n",
    "\n",
    "# extract names (read in the first column of all rows)\n",
    "pokemon_names = np.array([pokemons[i][0] for i in range(len(pokemons))])\n",
    "pokemon_names = pokemon_names[valid_entries]\n",
    "\n",
    "# extract stats (read in the fifth till end column of all rows)\n",
    "pokemon_stats = np.array([pokemons[i][4:] for i in range(len(pokemons))])\n",
    "pokemon_stats = [[int(element) for element in row] for row in pokemon_stats]\n",
    "pokemon_stats = np.array(pokemon_stats)\n",
    "pokemon_stats = pokemon_stats[valid_entries]"
   ]
  },
  {
   "cell_type": "code",
   "execution_count": 5,
   "id": "ec31d909",
   "metadata": {},
   "outputs": [
    {
     "ename": "ModuleNotFoundError",
     "evalue": "No module named 'matplotlib'",
     "output_type": "error",
     "traceback": [
      "\u001b[0;31m---------------------------------------------------------------------------\u001b[0m",
      "\u001b[0;31mModuleNotFoundError\u001b[0m                       Traceback (most recent call last)",
      "Input \u001b[0;32mIn [5]\u001b[0m, in \u001b[0;36m<cell line: 1>\u001b[0;34m()\u001b[0m\n\u001b[0;32m----> 1\u001b[0m \u001b[38;5;28;01mimport\u001b[39;00m \u001b[38;5;21;01mmatplotlib\u001b[39;00m\u001b[38;5;21;01m.\u001b[39;00m\u001b[38;5;21;01mpyplot\u001b[39;00m \u001b[38;5;28;01mas\u001b[39;00m \u001b[38;5;21;01mplt\u001b[39;00m\n\u001b[1;32m      3\u001b[0m \u001b[38;5;66;03m# create a bar plot that shows how many pokemons of each (primary) type exist\u001b[39;00m\n\u001b[1;32m      4\u001b[0m \n\u001b[1;32m      5\u001b[0m \u001b[38;5;66;03m# generate a list of unique type names\u001b[39;00m\n\u001b[1;32m      6\u001b[0m pokemon_types \u001b[38;5;241m=\u001b[39m np\u001b[38;5;241m.\u001b[39marray([pokemons[i][\u001b[38;5;241m2\u001b[39m] \u001b[38;5;28;01mfor\u001b[39;00m i \u001b[38;5;129;01min\u001b[39;00m \u001b[38;5;28mrange\u001b[39m(\u001b[38;5;28mlen\u001b[39m(pokemons))])\n",
      "\u001b[0;31mModuleNotFoundError\u001b[0m: No module named 'matplotlib'"
     ]
    }
   ],
   "source": [
    "import matplotlib.pyplot as plt\n",
    "\n",
    "# create a bar plot that shows how many pokemons of each (primary) type exist\n",
    "\n",
    "# generate a list of unique type names\n",
    "pokemon_types = np.array([pokemons[i][2] for i in range(len(pokemons))])\n",
    "pokemon_types = pokemon_types[valid_entries]\n",
    "# can also be types = np.unique(pokemon_types)\n",
    "types = list(set(pokemon_types))\n",
    "\n",
    "assert(len(types) == 18)\n",
    "\n",
    "# count how many pokemons of each class exist and construct a bar plot\n",
    "counter = []\n",
    "for c in types:\n",
    "    # appends the count of each pokemon types\n",
    "    # np.sum(pokemon_types == c) is the sum of the boolean array of the current type (True = 1, False = 0)\n",
    "    counter.append(np.sum(pokemon_types == c))\n",
    "    \n",
    "# visualize in a bar plot using matplotlib\n",
    "f, ax = plt.subplots(figsize=(15,5)) # this part makes the figure bigger so the labels do not overlap\n",
    "plt.bar(types, counter, 0.8)"
   ]
  },
  {
   "cell_type": "code",
   "execution_count": 6,
   "id": "93bce2e4",
   "metadata": {},
   "outputs": [
    {
     "ename": "NameError",
     "evalue": "name 'types' is not defined",
     "output_type": "error",
     "traceback": [
      "\u001b[0;31m---------------------------------------------------------------------------\u001b[0m",
      "\u001b[0;31mNameError\u001b[0m                                 Traceback (most recent call last)",
      "Input \u001b[0;32mIn [6]\u001b[0m, in \u001b[0;36m<cell line: 5>\u001b[0;34m()\u001b[0m\n\u001b[1;32m      3\u001b[0m maximum \u001b[38;5;241m=\u001b[39m \u001b[38;5;241m0\u001b[39m\n\u001b[1;32m      4\u001b[0m cla \u001b[38;5;241m=\u001b[39m \u001b[38;5;28;01mNone\u001b[39;00m\n\u001b[0;32m----> 5\u001b[0m \u001b[38;5;28;01mfor\u001b[39;00m c \u001b[38;5;129;01min\u001b[39;00m \u001b[43mtypes\u001b[49m:\n\u001b[1;32m      6\u001b[0m     class_mean \u001b[38;5;241m=\u001b[39m np\u001b[38;5;241m.\u001b[39mmean(pokemon_stats[pokemon_types \u001b[38;5;241m==\u001b[39m c, \u001b[38;5;241m0\u001b[39m])\n\u001b[1;32m      7\u001b[0m     \u001b[38;5;28;01mif\u001b[39;00m class_mean \u001b[38;5;241m>\u001b[39m maximum:\n",
      "\u001b[0;31mNameError\u001b[0m: name 'types' is not defined"
     ]
    }
   ],
   "source": [
    "# Print out which class has the highest average attack.\n",
    "\n",
    "maximum = 0\n",
    "cla = None\n",
    "for c in types:\n",
    "    class_mean = np.mean(pokemon_stats[pokemon_types == c, 0])\n",
    "    if class_mean > maximum:\n",
    "        maximum = class_mean\n",
    "        cla = c\n",
    "    \n",
    "print('The class with highest average attack is ' + cla + '!!')\n",
    "print('The average is ' + str(maximum) + '.')"
   ]
  },
  {
   "cell_type": "code",
   "execution_count": null,
   "id": "382f7829",
   "metadata": {},
   "outputs": [],
   "source": [
    "# Print out which pokemon has the highest attack to defense ratio.\n",
    "# (You can check out the python function 'zip' which is very helpful for all kinds of loops.)\n",
    "\n",
    "best_ratio = 0\n",
    "pokemon = None\n",
    "# zip makes it so that you iterate over multiple iterables simultanously\n",
    "for name, attack, defense in zip(pokemon_names, pokemon_stats[:, 0], pokemon_stats[:, 1]):\n",
    "    ratio = attack/defense\n",
    "    if ratio > best_ratio:\n",
    "        best_ratio = ratio\n",
    "        pokemon = name\n",
    "print(pokemon)"
   ]
  },
  {
   "cell_type": "code",
   "execution_count": null,
   "id": "39d36fc2",
   "metadata": {},
   "outputs": [],
   "source": []
  },
  {
   "cell_type": "code",
   "execution_count": null,
   "id": "402f78dd",
   "metadata": {},
   "outputs": [],
   "source": []
  },
  {
   "cell_type": "code",
   "execution_count": null,
   "id": "c2fd679f",
   "metadata": {},
   "outputs": [],
   "source": []
  },
  {
   "cell_type": "code",
   "execution_count": null,
   "id": "0b4e529f",
   "metadata": {},
   "outputs": [],
   "source": []
  },
  {
   "cell_type": "code",
   "execution_count": null,
   "id": "0eabfdfe",
   "metadata": {},
   "outputs": [],
   "source": []
  },
  {
   "cell_type": "code",
   "execution_count": null,
   "id": "d912af2e",
   "metadata": {},
   "outputs": [],
   "source": []
  },
  {
   "cell_type": "code",
   "execution_count": null,
   "id": "670255d5",
   "metadata": {},
   "outputs": [],
   "source": []
  }
 ],
 "metadata": {
  "kernelspec": {
   "display_name": "Python 3 (ipykernel)",
   "language": "python",
   "name": "python3"
  },
  "language_info": {
   "codemirror_mode": {
    "name": "ipython",
    "version": 3
   },
   "file_extension": ".py",
   "mimetype": "text/x-python",
   "name": "python",
   "nbconvert_exporter": "python",
   "pygments_lexer": "ipython3",
   "version": "3.8.13"
  }
 },
 "nbformat": 4,
 "nbformat_minor": 5
}
