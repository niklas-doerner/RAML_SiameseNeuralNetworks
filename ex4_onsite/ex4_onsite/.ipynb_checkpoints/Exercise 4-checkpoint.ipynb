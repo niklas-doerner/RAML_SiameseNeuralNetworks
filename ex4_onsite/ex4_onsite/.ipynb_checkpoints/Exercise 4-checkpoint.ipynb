{
 "cells": [
  {
   "cell_type": "code",
   "execution_count": 1,
   "id": "9d989a94",
   "metadata": {
    "slideshow": {
     "slide_type": "skip"
    }
   },
   "outputs": [],
   "source": [
    "import numpy as np\n",
    "import matplotlib.pyplot as plt\n",
    "import time"
   ]
  },
  {
   "cell_type": "markdown",
   "id": "a91481d9",
   "metadata": {
    "slideshow": {
     "slide_type": "slide"
    }
   },
   "source": [
    "# Exercise 4"
   ]
  },
  {
   "cell_type": "markdown",
   "id": "71801858",
   "metadata": {
    "slideshow": {
     "slide_type": "fragment"
    }
   },
   "source": [
    "## Contents\n",
    "- Stochastic Gradient Descent\n",
    "- PyTorch: Coding Example\n",
    "- Training a Network: Coding Example"
   ]
  },
  {
   "cell_type": "markdown",
   "id": "eb9f1f23",
   "metadata": {
    "slideshow": {
     "slide_type": "slide"
    }
   },
   "source": [
    "## Stochastic Gradient Descent"
   ]
  },
  {
   "cell_type": "markdown",
   "id": "db59d9e6",
   "metadata": {
    "slideshow": {
     "slide_type": "fragment"
    }
   },
   "source": [
    "**Gradient Descent:** $\\theta(k+1) = \\theta(k) - \\tau * \\nabla E(\\theta(k))$"
   ]
  },
  {
   "cell_type": "markdown",
   "id": "5964aa9e",
   "metadata": {
    "slideshow": {
     "slide_type": "fragment"
    }
   },
   "source": [
    "**Problem:** Expensive for a lot of training examples e.g. $E \\in \\mathbb{R}^{1,000,000 \\times 10}$"
   ]
  },
  {
   "cell_type": "markdown",
   "id": "ebf0b33e",
   "metadata": {
    "slideshow": {
     "slide_type": "fragment"
    }
   },
   "source": [
    "**Solution:** Approximate gradient vector by only using a few samples at a time (mini-batches)\n",
    "- This is what we call **Stochastic Gradient Descent**!"
   ]
  },
  {
   "cell_type": "markdown",
   "id": "4630a3a6",
   "metadata": {
    "slideshow": {
     "slide_type": "slide"
    }
   },
   "source": [
    "**Practical Implementation**"
   ]
  },
  {
   "cell_type": "code",
   "execution_count": null,
   "id": "faf0be2f",
   "metadata": {
    "scrolled": true,
    "slideshow": {
     "slide_type": "fragment"
    }
   },
   "outputs": [],
   "source": [
    "for e in range(epochs):\n",
    "    # shuffle training data\n",
    "    for i in range(0, total_number_of_training_examples, minibatch_size):\n",
    "        # take chunk i:i+minibatch_size out of (shuffeled) training data\n",
    "        # do gradient descent step with suitable step size only using loss computed on sampled in minibatch"
   ]
  },
  {
   "cell_type": "markdown",
   "id": "02663c6b",
   "metadata": {
    "slideshow": {
     "slide_type": "slide"
    }
   },
   "source": [
    "## PyTorch: Coding Example\n"
   ]
  },
  {
   "cell_type": "markdown",
   "id": "ee424c8d",
   "metadata": {
    "slideshow": {
     "slide_type": "fragment"
    }
   },
   "source": [
    "Deep Learning framework providing powerful tools for simple and efficient implementations of neural networks"
   ]
  },
  {
   "cell_type": "code",
   "execution_count": 2,
   "id": "a3bf6de4",
   "metadata": {
    "slideshow": {
     "slide_type": "fragment"
    }
   },
   "outputs": [],
   "source": [
    "import torch"
   ]
  },
  {
   "cell_type": "markdown",
   "id": "2a3d8201",
   "metadata": {
    "slideshow": {
     "slide_type": "slide"
    }
   },
   "source": [
    "### Tensors\n",
    "- Basic building block\n",
    "- Similar to what you did in `toolbox.py`"
   ]
  },
  {
   "cell_type": "code",
   "execution_count": 3,
   "id": "8712118a",
   "metadata": {
    "slideshow": {
     "slide_type": "fragment"
    }
   },
   "outputs": [],
   "source": [
    "a = torch.tensor(np.array([[1., 2.], [3., 4.]]))\n",
    "b = torch.ones(2, 2)\n",
    "c = torch.empty(5)"
   ]
  },
  {
   "cell_type": "markdown",
   "id": "ccc2f32a",
   "metadata": {
    "slideshow": {
     "slide_type": "slide"
    }
   },
   "source": [
    "### Backpropagation in PyTorch\n",
    "\n",
    "- Uses gradient taping (same as you did in the last exercise)\n",
    "- Same attributes and functions (`grad`, `grad_fn`, `.backward()`, ...)"
   ]
  },
  {
   "cell_type": "code",
   "execution_count": 4,
   "id": "a4053e0e",
   "metadata": {
    "slideshow": {
     "slide_type": "fragment"
    }
   },
   "outputs": [
    {
     "name": "stdout",
     "output_type": "stream",
     "text": [
      "tensor(16.) None\n",
      "<AddBackward0 object at 0x10d3a0990> <MulBackward0 object at 0x109b4bdd0>\n"
     ]
    }
   ],
   "source": [
    "a = torch.tensor(1., requires_grad=True)\n",
    "b = torch.tensor(2.)\n",
    "\n",
    "c = a + b\n",
    "d = c + a\n",
    "d = d * d\n",
    "\n",
    "d.backward()\n",
    "\n",
    "print(a.grad, b.grad)\n",
    "print(c.grad_fn, d.grad_fn)"
   ]
  },
  {
   "cell_type": "markdown",
   "id": "513f6133",
   "metadata": {
    "slideshow": {
     "slide_type": "slide"
    }
   },
   "source": [
    "### `torch.no_grad()` \n",
    "\n",
    "- Used during inference (feeding data through network to get prediction)\n",
    "- Causes computation graph not to be saved"
   ]
  },
  {
   "cell_type": "markdown",
   "id": "0f4498b8",
   "metadata": {
    "slideshow": {
     "slide_type": "slide"
    }
   },
   "source": [
    "### GPU Support (CUDA)\n",
    "- GPUs offer high amount of parallelization & efficient calculation of simple (mathmatical) operations\n",
    "- All major Deep Learning frameworks offer possibility of utilizing GPUs\n",
    "- PyTorch: \n",
    "    - `.cuda()` moves Tensor to GPU\n",
    "    - `.device` tells which device Tensor is on\n",
    "    \n",
    "**Disclaimer:** If you don't have a GPU, try Google Colab "
   ]
  },
  {
   "cell_type": "code",
   "execution_count": 5,
   "id": "0ca1e327",
   "metadata": {
    "slideshow": {
     "slide_type": "fragment"
    }
   },
   "outputs": [
    {
     "name": "stdout",
     "output_type": "stream",
     "text": [
      "cpu\n"
     ]
    },
    {
     "ename": "AssertionError",
     "evalue": "Torch not compiled with CUDA enabled",
     "output_type": "error",
     "traceback": [
      "\u001b[0;31m---------------------------------------------------------------------------\u001b[0m",
      "\u001b[0;31mAssertionError\u001b[0m                            Traceback (most recent call last)",
      "\u001b[0;32m/var/folders/1z/t2zg4rcj06q2pyswk5wm8wl00000gn/T/ipykernel_22258/950039792.py\u001b[0m in \u001b[0;36m<module>\u001b[0;34m\u001b[0m\n\u001b[1;32m      2\u001b[0m \u001b[0mprint\u001b[0m\u001b[0;34m(\u001b[0m\u001b[0ma\u001b[0m\u001b[0;34m.\u001b[0m\u001b[0mdevice\u001b[0m\u001b[0;34m)\u001b[0m\u001b[0;34m\u001b[0m\u001b[0;34m\u001b[0m\u001b[0m\n\u001b[1;32m      3\u001b[0m \u001b[0;34m\u001b[0m\u001b[0m\n\u001b[0;32m----> 4\u001b[0;31m \u001b[0ma\u001b[0m \u001b[0;34m=\u001b[0m \u001b[0ma\u001b[0m\u001b[0;34m.\u001b[0m\u001b[0mcuda\u001b[0m\u001b[0;34m(\u001b[0m\u001b[0;34m)\u001b[0m\u001b[0;34m\u001b[0m\u001b[0;34m\u001b[0m\u001b[0m\n\u001b[0m\u001b[1;32m      5\u001b[0m \u001b[0mprint\u001b[0m\u001b[0;34m(\u001b[0m\u001b[0ma\u001b[0m\u001b[0;34m.\u001b[0m\u001b[0mdevice\u001b[0m\u001b[0;34m)\u001b[0m\u001b[0;34m\u001b[0m\u001b[0;34m\u001b[0m\u001b[0m\n",
      "\u001b[0;32m/opt/anaconda3/envs/dl22/lib/python3.7/site-packages/torch/cuda/__init__.py\u001b[0m in \u001b[0;36m_lazy_init\u001b[0;34m()\u001b[0m\n\u001b[1;32m    209\u001b[0m                 \"multiprocessing, you must use the 'spawn' start method\")\n\u001b[1;32m    210\u001b[0m         \u001b[0;32mif\u001b[0m \u001b[0;32mnot\u001b[0m \u001b[0mhasattr\u001b[0m\u001b[0;34m(\u001b[0m\u001b[0mtorch\u001b[0m\u001b[0;34m.\u001b[0m\u001b[0m_C\u001b[0m\u001b[0;34m,\u001b[0m \u001b[0;34m'_cuda_getDeviceCount'\u001b[0m\u001b[0;34m)\u001b[0m\u001b[0;34m:\u001b[0m\u001b[0;34m\u001b[0m\u001b[0;34m\u001b[0m\u001b[0m\n\u001b[0;32m--> 211\u001b[0;31m             \u001b[0;32mraise\u001b[0m \u001b[0mAssertionError\u001b[0m\u001b[0;34m(\u001b[0m\u001b[0;34m\"Torch not compiled with CUDA enabled\"\u001b[0m\u001b[0;34m)\u001b[0m\u001b[0;34m\u001b[0m\u001b[0;34m\u001b[0m\u001b[0m\n\u001b[0m\u001b[1;32m    212\u001b[0m         \u001b[0;32mif\u001b[0m \u001b[0m_cudart\u001b[0m \u001b[0;32mis\u001b[0m \u001b[0;32mNone\u001b[0m\u001b[0;34m:\u001b[0m\u001b[0;34m\u001b[0m\u001b[0;34m\u001b[0m\u001b[0m\n\u001b[1;32m    213\u001b[0m             raise AssertionError(\n",
      "\u001b[0;31mAssertionError\u001b[0m: Torch not compiled with CUDA enabled"
     ]
    }
   ],
   "source": [
    "a = torch.tensor(2.)\n",
    "print(a.device)\n",
    "\n",
    "a = a.cuda()\n",
    "print(a.device)"
   ]
  },
  {
   "cell_type": "markdown",
   "id": "529133df",
   "metadata": {
    "slideshow": {
     "slide_type": "slide"
    }
   },
   "source": [
    "### `torch.utils.data.Dataset`\n",
    "- Provides some handy tools to make treatment of data very easy\n",
    "- Base class overloads functions ``__len__`` and ``__getitem__`` (allow easy access to data contained in the set)\n",
    "- `torchvision.datasets` provides popular public datasets (e.g. MNIST dataset)"
   ]
  },
  {
   "cell_type": "code",
   "execution_count": 7,
   "id": "0a7c6c9c",
   "metadata": {
    "slideshow": {
     "slide_type": "fragment"
    }
   },
   "outputs": [
    {
     "name": "stdout",
     "output_type": "stream",
     "text": [
      "Dataset MNIST\n",
      "    Number of datapoints: 60000\n",
      "    Root location: data\n",
      "    Split: Train\n",
      "    StandardTransform\n",
      "Transform: ToTensor()\n",
      "Dataset MNIST\n",
      "    Number of datapoints: 10000\n",
      "    Root location: data\n",
      "    Split: Test\n",
      "    StandardTransform\n",
      "Transform: ToTensor()\n"
     ]
    }
   ],
   "source": [
    "from torchvision.datasets import MNIST\n",
    "from torchvision import transforms\n",
    "\n",
    "train_set = MNIST('data', download=True, transform=transforms.ToTensor())\n",
    "val_set = MNIST('data', train=False, transform=transforms.ToTensor())\n",
    "\n",
    "print(train_set)\n",
    "print(val_set)"
   ]
  },
  {
   "cell_type": "code",
   "execution_count": 8,
   "id": "6763d9dc",
   "metadata": {
    "slideshow": {
     "slide_type": "fragment"
    }
   },
   "outputs": [
    {
     "name": "stdout",
     "output_type": "stream",
     "text": [
      "Element type: <class 'tuple'>; Shape of element: torch.Size([1, 28, 28]); Label: 5\n"
     ]
    },
    {
     "data": {
      "text/plain": [
       "Text(0.5, 1.0, 'Label: 5')"
      ]
     },
     "execution_count": 8,
     "metadata": {},
     "output_type": "execute_result"
    },
    {
     "data": {
      "image/png": "[encoded data removed]",
      "text/plain": [
       "<Figure size 640x480 with 1 Axes>"
      ]
     },
     "metadata": {},
     "output_type": "display_data"
    }
   ],
   "source": [
    "el = train_set[0]\n",
    "print('Element type: {}; Shape of element: {}; Label: {}'.format(type(el) ,el[0].shape, el[1]))\n",
    "\n",
    "plt.imshow(el[0][0], cmap='gray', vmin=0., vmax=1.)\n",
    "plt.title('Label: {}'.format(el[1]))"
   ]
  },
  {
   "cell_type": "markdown",
   "id": "015c5e82",
   "metadata": {
    "slideshow": {
     "slide_type": "slide"
    }
   },
   "source": [
    "### `torch.utils.data.DataLoader`\n",
    "- Efficiently load data to processing unit.\n",
    "- Takes care of minibatching (only have to provide dataset & define batch size)\n",
    "- Additionally, may specify further arguments (`shuffeling`, `num_workers`, ...)\n"
   ]
  },
  {
   "cell_type": "code",
   "execution_count": 9,
   "id": "a038a874",
   "metadata": {
    "slideshow": {
     "slide_type": "fragment"
    }
   },
   "outputs": [
    {
     "data": {
      "image/png": "[encoded data removed]",
      "text/plain": [
       "<Figure size 640x480 with 4 Axes>"
      ]
     },
     "metadata": {},
     "output_type": "display_data"
    }
   ],
   "source": [
    "from torch.utils.data import DataLoader\n",
    "\n",
    "train_loader = DataLoader(train_set, batch_size=4, num_workers=4, shuffle=True)\n",
    "val_loader = DataLoader(val_set, batch_size=4, num_workers=4, shuffle=True)\n",
    "\n",
    "batch = iter(train_loader).next()\n",
    "\n",
    "data, labels = batch[0], batch[1]\n",
    "\n",
    "for i in range(4):\n",
    "    plt.subplot(1, 4, i+1)\n",
    "    plt.imshow(data[i, 0], cmap='gray', vmin=0., vmax=1.)\n",
    "    plt.title('Label: {}'.format(labels[i]))"
   ]
  },
  {
   "cell_type": "markdown",
   "id": "54491869",
   "metadata": {
    "slideshow": {
     "slide_type": "slide"
    }
   },
   "source": [
    "### `torch.nn`\n",
    "\n",
    "- Provides a broad variety of pre-implemented tools & layers you can use in neural networks\n",
    "- ``Module`` in ``torch.nn`` serves as base class for neural networks & their layers\n",
    "- For defining network, have to inherit from ``torch.nn.Module`` and define the ``forward`` function\n",
    "- `torch.nn.Sequential` = condense multiple layers\n",
    "\n",
    "**NOTE:** not sufficient to store layers in list - will be not registered as submodules of the network."
   ]
  },
  {
   "cell_type": "code",
   "execution_count": 20,
   "id": "18c71634",
   "metadata": {
    "slideshow": {
     "slide_type": "slide"
    }
   },
   "outputs": [],
   "source": [
    "from torch import nn\n",
    "\n",
    "class FullyConnectedNet(nn.Module):\n",
    "    \n",
    "    def __init__(self):\n",
    "        super().__init__()\n",
    "        self.layer1 = nn.Linear(in_features=28*28, out_features=128)\n",
    "        self.layer2 = nn.ReLU()\n",
    "        self.layer3 = nn.Linear(in_features=128, out_features=128)\n",
    "        self.layer4 = nn.ReLU()\n",
    "        self.layer5 = nn.Linear(128, 10)\n",
    "    \n",
    "    def forward(self, x):\n",
    "        x = x.reshape(-1, 28*28)\n",
    "        x = self.layer1(x)\n",
    "        x = self.layer2(x)\n",
    "        x = self.layer3(x)\n",
    "        x = self.layer4(x)\n",
    "        x = self.layer5(x)\n",
    "        return x\n",
    "    \n",
    "network = FullyConnectedNet()"
   ]
  },
  {
   "cell_type": "markdown",
   "id": "c2888fbe",
   "metadata": {
    "slideshow": {
     "slide_type": "slide"
    }
   },
   "source": [
    "### Losses & Optimizers\n",
    "- PyTorch offers a lot of pre-implemented losses and optimizers\n",
    "- Optimizers are directly linked with the weights of a network.\n",
    "- Have a look at the documentation and see what you already know!"
   ]
  },
  {
   "cell_type": "code",
   "execution_count": 11,
   "id": "33159177",
   "metadata": {
    "slideshow": {
     "slide_type": "fragment"
    }
   },
   "outputs": [],
   "source": [
    "learning_rate = 1e-2\n",
    "\n",
    "loss_fun = nn.CrossEntropyLoss()\n",
    "optimizer = torch.optim.SGD(network.parameters(), learning_rate)"
   ]
  },
  {
   "cell_type": "markdown",
   "id": "5f91df19",
   "metadata": {
    "slideshow": {
     "slide_type": "slide"
    }
   },
   "source": [
    "### Parameters\n",
    "- Can access learnable parameters of a network by calling its `parameters` function\n",
    "- `state_dict` function: also returns buffers etc.  (used when saving models)\n"
   ]
  },
  {
   "cell_type": "code",
   "execution_count": 12,
   "id": "a3174f26",
   "metadata": {
    "slideshow": {
     "slide_type": "slide"
    }
   },
   "outputs": [
    {
     "data": {
      "text/plain": [
       "[Parameter containing:\n",
       " tensor([[-0.0313,  0.0097,  0.0251,  ...,  0.0257,  0.0191,  0.0068],\n",
       "         [-0.0301, -0.0081, -0.0098,  ..., -0.0176, -0.0357, -0.0113],\n",
       "         [ 0.0064, -0.0056, -0.0287,  ..., -0.0276, -0.0267,  0.0166],\n",
       "         ...,\n",
       "         [-0.0302, -0.0177,  0.0118,  ...,  0.0208,  0.0350,  0.0248],\n",
       "         [-0.0164, -0.0243,  0.0286,  ...,  0.0154, -0.0240,  0.0157],\n",
       "         [-0.0037, -0.0059,  0.0090,  ..., -0.0223, -0.0262,  0.0086]],\n",
       "        requires_grad=True),\n",
       " Parameter containing:\n",
       " tensor([ 0.0179,  0.0193, -0.0136, -0.0260,  0.0026, -0.0263, -0.0227, -0.0328,\n",
       "          0.0161, -0.0156,  0.0066,  0.0074,  0.0234, -0.0296, -0.0032, -0.0260,\n",
       "         -0.0340, -0.0276,  0.0178,  0.0339, -0.0047, -0.0289, -0.0103,  0.0113,\n",
       "          0.0256, -0.0050,  0.0295,  0.0125, -0.0021, -0.0020,  0.0107,  0.0165],\n",
       "        requires_grad=True),\n",
       " Parameter containing:\n",
       " tensor([[-0.1461,  0.0374, -0.0307,  ...,  0.1340,  0.0390, -0.1072],\n",
       "         [ 0.1040, -0.1049, -0.0125,  ...,  0.0955, -0.0741, -0.0255],\n",
       "         [ 0.0614, -0.1449, -0.0216,  ...,  0.1091, -0.1457, -0.0434],\n",
       "         ...,\n",
       "         [ 0.0729, -0.1372, -0.0290,  ...,  0.1678, -0.0273,  0.1049],\n",
       "         [ 0.1336, -0.0010,  0.0074,  ..., -0.0479,  0.1441, -0.1428],\n",
       "         [-0.0603, -0.0555, -0.1185,  ..., -0.1263,  0.0788, -0.0040]],\n",
       "        requires_grad=True),\n",
       " Parameter containing:\n",
       " tensor([ 0.0683, -0.0250, -0.0946, -0.0860,  0.0424, -0.0988,  0.1660,  0.0435,\n",
       "          0.0668,  0.0042, -0.0655, -0.0432,  0.0580, -0.0591,  0.1692,  0.0652,\n",
       "         -0.0899,  0.0079, -0.1762,  0.0394,  0.0240,  0.0895, -0.1643, -0.0438,\n",
       "          0.1548, -0.1736, -0.0202, -0.1133, -0.1668, -0.1640,  0.1149, -0.0129],\n",
       "        requires_grad=True),\n",
       " Parameter containing:\n",
       " tensor([[-0.1657,  0.0625, -0.0287,  0.0565,  0.1064,  0.0559, -0.0345, -0.0719,\n",
       "          -0.1533, -0.0279, -0.0496, -0.1129, -0.0230, -0.0138,  0.1127, -0.0213,\n",
       "          -0.0238,  0.0769,  0.0362,  0.0309, -0.1654,  0.1311, -0.1054,  0.0531,\n",
       "          -0.1070,  0.0749,  0.1719, -0.1652,  0.1754, -0.0615,  0.0207,  0.1475],\n",
       "         [ 0.1515, -0.1038,  0.1137,  0.0841, -0.0049,  0.1198, -0.1225, -0.1423,\n",
       "          -0.0795, -0.1629,  0.0243,  0.0059, -0.1121,  0.0710,  0.1443, -0.1172,\n",
       "           0.1172,  0.0334,  0.0496, -0.0852,  0.0255, -0.0345, -0.1383, -0.0972,\n",
       "           0.0879,  0.1444,  0.1426, -0.0192, -0.0741, -0.0378,  0.0994,  0.0156],\n",
       "         [ 0.0907,  0.0757,  0.0635,  0.1524,  0.0562,  0.0841, -0.1256, -0.0239,\n",
       "           0.1398, -0.0334,  0.1590, -0.1093,  0.0427,  0.1714,  0.0318,  0.0015,\n",
       "          -0.1399,  0.1197, -0.1640, -0.1681,  0.1072,  0.1409, -0.1749,  0.0338,\n",
       "          -0.0293, -0.0443,  0.1124,  0.0742,  0.0622,  0.0948,  0.0250, -0.0140],\n",
       "         [ 0.0649,  0.1562,  0.0907, -0.1748,  0.0018, -0.0305, -0.1194, -0.1376,\n",
       "          -0.1456,  0.1596,  0.1121, -0.1043,  0.0639, -0.0391, -0.0414,  0.1015,\n",
       "           0.1255,  0.1598, -0.1385,  0.1238,  0.1679,  0.0778, -0.0147, -0.0890,\n",
       "          -0.0589, -0.0555, -0.1502,  0.0965, -0.0044, -0.0050, -0.1523, -0.0382],\n",
       "         [ 0.0749,  0.0315, -0.0916,  0.0767, -0.0851,  0.0449, -0.0397,  0.0649,\n",
       "           0.1001, -0.1126,  0.1579, -0.0354, -0.0802, -0.1222, -0.0801, -0.1056,\n",
       "          -0.1339,  0.0360, -0.0626,  0.1353,  0.0544, -0.0565,  0.0832, -0.1448,\n",
       "          -0.1300,  0.1171,  0.1344, -0.0335,  0.0778, -0.0671, -0.0951, -0.0244],\n",
       "         [ 0.1523, -0.1297,  0.1322, -0.0527,  0.1244,  0.1668,  0.0995,  0.1453,\n",
       "           0.0092, -0.1487,  0.0685,  0.0477,  0.1293, -0.0683, -0.1533, -0.0106,\n",
       "          -0.0445, -0.0829,  0.1613,  0.1047, -0.1517,  0.0754,  0.0111, -0.1314,\n",
       "          -0.1371,  0.0244,  0.1294, -0.0888, -0.0545, -0.0899, -0.0942,  0.0315],\n",
       "         [-0.1057,  0.0768, -0.1716, -0.0493, -0.1169, -0.0241, -0.0869,  0.0305,\n",
       "           0.0477, -0.0195, -0.1351, -0.1709, -0.1067, -0.1095, -0.0008, -0.1526,\n",
       "          -0.1515,  0.1016, -0.0545, -0.0219, -0.0819, -0.1277, -0.0041,  0.1414,\n",
       "           0.0104,  0.1724,  0.1487,  0.1429, -0.0758,  0.1352, -0.0428, -0.1544],\n",
       "         [ 0.0711, -0.1551,  0.0172,  0.1593, -0.1591, -0.1381,  0.0920, -0.1287,\n",
       "           0.1222, -0.1568,  0.1696,  0.1089, -0.1676, -0.0036,  0.0877,  0.0711,\n",
       "           0.1362, -0.0955, -0.0476,  0.0170,  0.0352, -0.1655, -0.1576,  0.0740,\n",
       "          -0.0832,  0.0706,  0.1220,  0.1155, -0.0733,  0.1179, -0.0176, -0.0906],\n",
       "         [-0.0100, -0.1579, -0.1319,  0.1419, -0.0130,  0.0720,  0.0859,  0.0577,\n",
       "          -0.0780, -0.0315, -0.1429,  0.0526,  0.0741, -0.1001, -0.1046,  0.1677,\n",
       "           0.0561, -0.1012,  0.1465, -0.1307, -0.0591,  0.1616, -0.0908, -0.1160,\n",
       "           0.0590, -0.0785,  0.0573, -0.1428,  0.0715,  0.1073, -0.1042, -0.0630],\n",
       "         [ 0.0789,  0.0047,  0.1514, -0.0163,  0.1060, -0.0477, -0.1051, -0.0453,\n",
       "           0.1293,  0.1279,  0.0331, -0.0145,  0.1525,  0.1099,  0.1376, -0.0516,\n",
       "           0.0862,  0.0255,  0.1219,  0.1636, -0.1607,  0.0238, -0.0025,  0.1068,\n",
       "           0.0612,  0.0154, -0.1587, -0.0091,  0.0391,  0.1541,  0.0772, -0.1437]],\n",
       "        requires_grad=True),\n",
       " Parameter containing:\n",
       " tensor([ 0.0982, -0.0741, -0.1437, -0.0482, -0.0416,  0.1074,  0.0913, -0.0522,\n",
       "         -0.0306, -0.1323], requires_grad=True)]"
      ]
     },
     "execution_count": 12,
     "metadata": {},
     "output_type": "execute_result"
    }
   ],
   "source": [
    "list(network.parameters())"
   ]
  },
  {
   "cell_type": "code",
   "execution_count": 13,
   "id": "f52479eb",
   "metadata": {
    "slideshow": {
     "slide_type": "slide"
    }
   },
   "outputs": [
    {
     "data": {
      "text/plain": [
       "OrderedDict([('layer1.weight',\n",
       "              tensor([[-0.0313,  0.0097,  0.0251,  ...,  0.0257,  0.0191,  0.0068],\n",
       "                      [-0.0301, -0.0081, -0.0098,  ..., -0.0176, -0.0357, -0.0113],\n",
       "                      [ 0.0064, -0.0056, -0.0287,  ..., -0.0276, -0.0267,  0.0166],\n",
       "                      ...,\n",
       "                      [-0.0302, -0.0177,  0.0118,  ...,  0.0208,  0.0350,  0.0248],\n",
       "                      [-0.0164, -0.0243,  0.0286,  ...,  0.0154, -0.0240,  0.0157],\n",
       "                      [-0.0037, -0.0059,  0.0090,  ..., -0.0223, -0.0262,  0.0086]])),\n",
       "             ('layer1.bias',\n",
       "              tensor([ 0.0179,  0.0193, -0.0136, -0.0260,  0.0026, -0.0263, -0.0227, -0.0328,\n",
       "                       0.0161, -0.0156,  0.0066,  0.0074,  0.0234, -0.0296, -0.0032, -0.0260,\n",
       "                      -0.0340, -0.0276,  0.0178,  0.0339, -0.0047, -0.0289, -0.0103,  0.0113,\n",
       "                       0.0256, -0.0050,  0.0295,  0.0125, -0.0021, -0.0020,  0.0107,  0.0165])),\n",
       "             ('layer3.weight',\n",
       "              tensor([[-0.1461,  0.0374, -0.0307,  ...,  0.1340,  0.0390, -0.1072],\n",
       "                      [ 0.1040, -0.1049, -0.0125,  ...,  0.0955, -0.0741, -0.0255],\n",
       "                      [ 0.0614, -0.1449, -0.0216,  ...,  0.1091, -0.1457, -0.0434],\n",
       "                      ...,\n",
       "                      [ 0.0729, -0.1372, -0.0290,  ...,  0.1678, -0.0273,  0.1049],\n",
       "                      [ 0.1336, -0.0010,  0.0074,  ..., -0.0479,  0.1441, -0.1428],\n",
       "                      [-0.0603, -0.0555, -0.1185,  ..., -0.1263,  0.0788, -0.0040]])),\n",
       "             ('layer3.bias',\n",
       "              tensor([ 0.0683, -0.0250, -0.0946, -0.0860,  0.0424, -0.0988,  0.1660,  0.0435,\n",
       "                       0.0668,  0.0042, -0.0655, -0.0432,  0.0580, -0.0591,  0.1692,  0.0652,\n",
       "                      -0.0899,  0.0079, -0.1762,  0.0394,  0.0240,  0.0895, -0.1643, -0.0438,\n",
       "                       0.1548, -0.1736, -0.0202, -0.1133, -0.1668, -0.1640,  0.1149, -0.0129])),\n",
       "             ('layer5.weight',\n",
       "              tensor([[-0.1657,  0.0625, -0.0287,  0.0565,  0.1064,  0.0559, -0.0345, -0.0719,\n",
       "                       -0.1533, -0.0279, -0.0496, -0.1129, -0.0230, -0.0138,  0.1127, -0.0213,\n",
       "                       -0.0238,  0.0769,  0.0362,  0.0309, -0.1654,  0.1311, -0.1054,  0.0531,\n",
       "                       -0.1070,  0.0749,  0.1719, -0.1652,  0.1754, -0.0615,  0.0207,  0.1475],\n",
       "                      [ 0.1515, -0.1038,  0.1137,  0.0841, -0.0049,  0.1198, -0.1225, -0.1423,\n",
       "                       -0.0795, -0.1629,  0.0243,  0.0059, -0.1121,  0.0710,  0.1443, -0.1172,\n",
       "                        0.1172,  0.0334,  0.0496, -0.0852,  0.0255, -0.0345, -0.1383, -0.0972,\n",
       "                        0.0879,  0.1444,  0.1426, -0.0192, -0.0741, -0.0378,  0.0994,  0.0156],\n",
       "                      [ 0.0907,  0.0757,  0.0635,  0.1524,  0.0562,  0.0841, -0.1256, -0.0239,\n",
       "                        0.1398, -0.0334,  0.1590, -0.1093,  0.0427,  0.1714,  0.0318,  0.0015,\n",
       "                       -0.1399,  0.1197, -0.1640, -0.1681,  0.1072,  0.1409, -0.1749,  0.0338,\n",
       "                       -0.0293, -0.0443,  0.1124,  0.0742,  0.0622,  0.0948,  0.0250, -0.0140],\n",
       "                      [ 0.0649,  0.1562,  0.0907, -0.1748,  0.0018, -0.0305, -0.1194, -0.1376,\n",
       "                       -0.1456,  0.1596,  0.1121, -0.1043,  0.0639, -0.0391, -0.0414,  0.1015,\n",
       "                        0.1255,  0.1598, -0.1385,  0.1238,  0.1679,  0.0778, -0.0147, -0.0890,\n",
       "                       -0.0589, -0.0555, -0.1502,  0.0965, -0.0044, -0.0050, -0.1523, -0.0382],\n",
       "                      [ 0.0749,  0.0315, -0.0916,  0.0767, -0.0851,  0.0449, -0.0397,  0.0649,\n",
       "                        0.1001, -0.1126,  0.1579, -0.0354, -0.0802, -0.1222, -0.0801, -0.1056,\n",
       "                       -0.1339,  0.0360, -0.0626,  0.1353,  0.0544, -0.0565,  0.0832, -0.1448,\n",
       "                       -0.1300,  0.1171,  0.1344, -0.0335,  0.0778, -0.0671, -0.0951, -0.0244],\n",
       "                      [ 0.1523, -0.1297,  0.1322, -0.0527,  0.1244,  0.1668,  0.0995,  0.1453,\n",
       "                        0.0092, -0.1487,  0.0685,  0.0477,  0.1293, -0.0683, -0.1533, -0.0106,\n",
       "                       -0.0445, -0.0829,  0.1613,  0.1047, -0.1517,  0.0754,  0.0111, -0.1314,\n",
       "                       -0.1371,  0.0244,  0.1294, -0.0888, -0.0545, -0.0899, -0.0942,  0.0315],\n",
       "                      [-0.1057,  0.0768, -0.1716, -0.0493, -0.1169, -0.0241, -0.0869,  0.0305,\n",
       "                        0.0477, -0.0195, -0.1351, -0.1709, -0.1067, -0.1095, -0.0008, -0.1526,\n",
       "                       -0.1515,  0.1016, -0.0545, -0.0219, -0.0819, -0.1277, -0.0041,  0.1414,\n",
       "                        0.0104,  0.1724,  0.1487,  0.1429, -0.0758,  0.1352, -0.0428, -0.1544],\n",
       "                      [ 0.0711, -0.1551,  0.0172,  0.1593, -0.1591, -0.1381,  0.0920, -0.1287,\n",
       "                        0.1222, -0.1568,  0.1696,  0.1089, -0.1676, -0.0036,  0.0877,  0.0711,\n",
       "                        0.1362, -0.0955, -0.0476,  0.0170,  0.0352, -0.1655, -0.1576,  0.0740,\n",
       "                       -0.0832,  0.0706,  0.1220,  0.1155, -0.0733,  0.1179, -0.0176, -0.0906],\n",
       "                      [-0.0100, -0.1579, -0.1319,  0.1419, -0.0130,  0.0720,  0.0859,  0.0577,\n",
       "                       -0.0780, -0.0315, -0.1429,  0.0526,  0.0741, -0.1001, -0.1046,  0.1677,\n",
       "                        0.0561, -0.1012,  0.1465, -0.1307, -0.0591,  0.1616, -0.0908, -0.1160,\n",
       "                        0.0590, -0.0785,  0.0573, -0.1428,  0.0715,  0.1073, -0.1042, -0.0630],\n",
       "                      [ 0.0789,  0.0047,  0.1514, -0.0163,  0.1060, -0.0477, -0.1051, -0.0453,\n",
       "                        0.1293,  0.1279,  0.0331, -0.0145,  0.1525,  0.1099,  0.1376, -0.0516,\n",
       "                        0.0862,  0.0255,  0.1219,  0.1636, -0.1607,  0.0238, -0.0025,  0.1068,\n",
       "                        0.0612,  0.0154, -0.1587, -0.0091,  0.0391,  0.1541,  0.0772, -0.1437]])),\n",
       "             ('layer5.bias',\n",
       "              tensor([ 0.0982, -0.0741, -0.1437, -0.0482, -0.0416,  0.1074,  0.0913, -0.0522,\n",
       "                      -0.0306, -0.1323]))])"
      ]
     },
     "execution_count": 13,
     "metadata": {},
     "output_type": "execute_result"
    }
   ],
   "source": [
    "network.state_dict()"
   ]
  },
  {
   "cell_type": "markdown",
   "id": "978e5527",
   "metadata": {
    "slideshow": {
     "slide_type": "slide"
    }
   },
   "source": [
    "## Training a Network: Coding Example"
   ]
  },
  {
   "cell_type": "code",
   "execution_count": null,
   "id": "c7eac2c8",
   "metadata": {
    "slideshow": {
     "slide_type": "fragment"
    }
   },
   "outputs": [
    {
     "name": "stdout",
     "output_type": "stream",
     "text": [
      "Epoch 0 of 5\n",
      "Batch: 0/600; Loss: 2.3224315643310547\n",
      "Batch: 100/600; Loss: 2.3161370754241943\n",
      "Batch: 200/600; Loss: 2.2979238033294678\n",
      "Batch: 300/600; Loss: 2.305626630783081\n",
      "Batch: 400/600; Loss: 2.311067581176758\n",
      "Batch: 500/600; Loss: 2.317763090133667\n",
      "Epoch: 0/5; Training loss: 1389.025634765625; Validation loss 231.40005493164062\n",
      "Epoch 1 of 5\n",
      "Batch: 0/600; Loss: 2.2935848236083984\n",
      "Batch: 100/600; Loss: 2.3225128650665283\n",
      "Batch: 200/600; Loss: 2.3131415843963623\n",
      "Batch: 300/600; Loss: 2.301989793777466\n",
      "Batch: 400/600; Loss: 2.3209378719329834\n",
      "Batch: 500/600; Loss: 2.3184545040130615\n",
      "Epoch: 1/5; Training loss: 1389.02685546875; Validation loss 231.40005493164062\n",
      "Epoch 2 of 5\n",
      "Batch: 0/600; Loss: 2.307917833328247\n",
      "Batch: 100/600; Loss: 2.302276849746704\n",
      "Batch: 200/600; Loss: 2.3058364391326904\n",
      "Batch: 300/600; Loss: 2.30887508392334\n",
      "Batch: 400/600; Loss: 2.3206288814544678\n",
      "Batch: 500/600; Loss: 2.332735538482666\n",
      "Epoch: 2/5; Training loss: 1389.0262451171875; Validation loss 231.40005493164062\n",
      "Epoch 3 of 5\n",
      "Batch: 0/600; Loss: 2.3046486377716064\n",
      "Batch: 100/600; Loss: 2.3302597999572754\n",
      "Batch: 200/600; Loss: 2.3206918239593506\n",
      "Batch: 300/600; Loss: 2.3029470443725586\n",
      "Batch: 400/600; Loss: 2.3461103439331055\n",
      "Batch: 500/600; Loss: 2.3108062744140625\n",
      "Epoch: 3/5; Training loss: 1389.025390625; Validation loss 231.40005493164062\n",
      "Epoch 4 of 5\n",
      "Batch: 0/600; Loss: 2.3144371509552\n",
      "Batch: 100/600; Loss: 2.2976698875427246\n",
      "Batch: 200/600; Loss: 2.336214542388916\n"
     ]
    }
   ],
   "source": [
    "epochs = 5\n",
    "train_loader = DataLoader(train_set, batch_size=100, shuffle=True)\n",
    "val_loader = DataLoader(val_set, batch_size=100, shuffle=False)\n",
    "\n",
    "start = time.time()\n",
    "\n",
    "for e in range(epochs):\n",
    "    print('Epoch {} of {}'.format(e, epochs))\n",
    "\n",
    "    # Training\n",
    "    train_loss = 0.\n",
    "    for i, (x, y) in enumerate(train_loader):\n",
    "        y_pred = network.forward(x)\n",
    "        batch_loss = loss_fun(y_pred, y)\n",
    "        train_loss += batch_loss\n",
    "        network.zero_grad()\n",
    "        batch_loss.backward()\n",
    "        optimizer.step()\n",
    "        if i % 100 == 0:\n",
    "            print(\"Batch: {}/{}; Loss: {}\".format(i, len(train_loader), batch_loss))\n",
    "\n",
    "    # Inference\n",
    "    val_loss = 0.\n",
    "    with torch.no_grad():\n",
    "        for i, (x, y) in enumerate(val_loader):\n",
    "            y_pred = network.forward(x)\n",
    "            val_loss += loss_fun(y_pred, y)\n",
    "\n",
    "    print(\"Epoch: {}/{}; Training loss: {}; Validation loss {}\".format(e, epochs, train_loss, val_loss))\n",
    "\n",
    "end = time.time()\n",
    "hours, rem = divmod(end - start, 3600)\n",
    "minutes, seconds = divmod(rem, 60)\n",
    "print(\"\\nFinal time elapsed: {:0>2}:{:0>2}:{:05.2f}\\n\".format(int(hours), int(minutes), seconds))"
   ]
  },
  {
   "cell_type": "code",
   "execution_count": null,
   "id": "8c790fb6",
   "metadata": {},
   "outputs": [],
   "source": []
  }
 ],
 "metadata": {
  "celltoolbar": "Slideshow",
  "kernelspec": {
   "display_name": "Python 3 (ipykernel)",
   "language": "python",
   "name": "python3"
  },
  "language_info": {
   "codemirror_mode": {
    "name": "ipython",
    "version": 3
   },
   "file_extension": ".py",
   "mimetype": "text/x-python",
   "name": "python",
   "nbconvert_exporter": "python",
   "pygments_lexer": "ipython3",
   "version": "3.7.13"
  }
 },
 "nbformat": 4,
 "nbformat_minor": 5
}
